{
 "cells": [
  {
   "cell_type": "code",
   "execution_count": 2,
   "metadata": {
    "ExecuteTime": {
     "end_time": "2019-11-15T09:13:09.462782Z",
     "start_time": "2019-11-15T09:13:09.155544Z"
    }
   },
   "outputs": [],
   "source": [
    "import numpy as np\n",
    "import pandas as pd\n",
    "from datetime import datetime\n",
    "import os\n",
    "import sys"
   ]
  },
  {
   "cell_type": "code",
   "execution_count": 3,
   "metadata": {
    "ExecuteTime": {
     "end_time": "2019-11-15T09:13:09.579398Z",
     "start_time": "2019-11-15T09:13:09.474680Z"
    }
   },
   "outputs": [
    {
     "name": "stdout",
     "output_type": "stream",
     "text": [
      "filepath: ~/Desktop/BR_SIP_File/RawData/Test_Set/TEST_Item_description_title.csv\n",
      "filename: TEST_Item_description_title.csv\n",
      "Reading finished!\n"
     ]
    }
   ],
   "source": [
    "path = r'~/Desktop/BR_SIP_File/RawData/Test_Set/TEST_Item_description_title.csv'\n",
    "\n",
    "df = pd.read_csv(path, encoding='utf-8-sig')\n",
    "print('filepath:', path)\n",
    "print('filename:', path.split('/')[-1])\n",
    "\n",
    "if 'description' in df.columns:\n",
    "    print('Reading finished!')\n",
    "else:\n",
    "    print('Reading Failed!\\nNote: This File does not have \\'description\\' column!')"
   ]
  },
  {
   "cell_type": "code",
   "execution_count": 4,
   "metadata": {
    "ExecuteTime": {
     "end_time": "2019-11-15T09:13:27.966987Z",
     "start_time": "2019-11-15T09:13:27.951053Z"
    }
   },
   "outputs": [
    {
     "data": {
      "text/html": [
       "<div>\n",
       "<style scoped>\n",
       "    .dataframe tbody tr th:only-of-type {\n",
       "        vertical-align: middle;\n",
       "    }\n",
       "\n",
       "    .dataframe tbody tr th {\n",
       "        vertical-align: top;\n",
       "    }\n",
       "\n",
       "    .dataframe thead th {\n",
       "        text-align: right;\n",
       "    }\n",
       "</style>\n",
       "<table border=\"1\" class=\"dataframe\">\n",
       "  <thead>\n",
       "    <tr style=\"text-align: right;\">\n",
       "      <th></th>\n",
       "      <th>Unnamed: 0</th>\n",
       "      <th>affi_itemid</th>\n",
       "      <th>affi_shopid</th>\n",
       "      <th>itemid</th>\n",
       "      <th>shopid</th>\n",
       "      <th>title</th>\n",
       "      <th>description</th>\n",
       "    </tr>\n",
       "  </thead>\n",
       "  <tbody>\n",
       "    <tr>\n",
       "      <th>0</th>\n",
       "      <td>0</td>\n",
       "      <td>4000093233</td>\n",
       "      <td>183965592</td>\n",
       "      <td>2668235628</td>\n",
       "      <td>6072287</td>\n",
       "      <td>🎀🎀Women Casual Floral Short Sleeve Blouse Plus...</td>\n",
       "      <td>Welcome to BIGBANG!!!!\\nHope you can have a go...</td>\n",
       "    </tr>\n",
       "  </tbody>\n",
       "</table>\n",
       "</div>"
      ],
      "text/plain": [
       "   Unnamed: 0  affi_itemid  affi_shopid      itemid   shopid  \\\n",
       "0           0   4000093233    183965592  2668235628  6072287   \n",
       "\n",
       "                                               title  \\\n",
       "0  🎀🎀Women Casual Floral Short Sleeve Blouse Plus...   \n",
       "\n",
       "                                         description  \n",
       "0  Welcome to BIGBANG!!!!\\nHope you can have a go...  "
      ]
     },
     "execution_count": 4,
     "metadata": {},
     "output_type": "execute_result"
    }
   ],
   "source": [
    "df.head(1)"
   ]
  },
  {
   "cell_type": "code",
   "execution_count": 5,
   "metadata": {
    "ExecuteTime": {
     "end_time": "2019-11-15T09:13:46.867444Z",
     "start_time": "2019-11-15T09:13:46.835496Z"
    }
   },
   "outputs": [
    {
     "data": {
      "text/html": [
       "<div>\n",
       "<style scoped>\n",
       "    .dataframe tbody tr th:only-of-type {\n",
       "        vertical-align: middle;\n",
       "    }\n",
       "\n",
       "    .dataframe tbody tr th {\n",
       "        vertical-align: top;\n",
       "    }\n",
       "\n",
       "    .dataframe thead th {\n",
       "        text-align: right;\n",
       "    }\n",
       "</style>\n",
       "<table border=\"1\" class=\"dataframe\">\n",
       "  <thead>\n",
       "    <tr style=\"text-align: right;\">\n",
       "      <th></th>\n",
       "      <th>Unnamed: 0</th>\n",
       "      <th>affi_itemid</th>\n",
       "      <th>affi_shopid</th>\n",
       "      <th>itemid</th>\n",
       "      <th>shopid</th>\n",
       "      <th>title</th>\n",
       "      <th>description</th>\n",
       "      <th>divided_description</th>\n",
       "    </tr>\n",
       "  </thead>\n",
       "  <tbody>\n",
       "    <tr>\n",
       "      <th>0</th>\n",
       "      <td>0</td>\n",
       "      <td>4000093233</td>\n",
       "      <td>183965592</td>\n",
       "      <td>2668235628</td>\n",
       "      <td>6072287</td>\n",
       "      <td>🎀🎀Women Casual Floral Short Sleeve Blouse Plus...</td>\n",
       "      <td>Welcome to BIGBANG!!!!\\nHope you can have a go...</td>\n",
       "      <td>[Welcome to BIGBANG!!!!, Hope you can have a g...</td>\n",
       "    </tr>\n",
       "  </tbody>\n",
       "</table>\n",
       "</div>"
      ],
      "text/plain": [
       "   Unnamed: 0  affi_itemid  affi_shopid      itemid   shopid  \\\n",
       "0           0   4000093233    183965592  2668235628  6072287   \n",
       "\n",
       "                                               title  \\\n",
       "0  🎀🎀Women Casual Floral Short Sleeve Blouse Plus...   \n",
       "\n",
       "                                         description  \\\n",
       "0  Welcome to BIGBANG!!!!\\nHope you can have a go...   \n",
       "\n",
       "                                 divided_description  \n",
       "0  [Welcome to BIGBANG!!!!, Hope you can have a g...  "
      ]
     },
     "execution_count": 5,
     "metadata": {},
     "output_type": "execute_result"
    }
   ],
   "source": [
    "split_method = lambda x: str(x).split('\\n')\n",
    "df['divided_description'] = df['description'].apply(split_method)\n",
    "df.head(1)"
   ]
  },
  {
   "cell_type": "code",
   "execution_count": 20,
   "metadata": {
    "ExecuteTime": {
     "end_time": "2019-11-15T09:26:10.145103Z",
     "start_time": "2019-11-15T09:26:10.140095Z"
    }
   },
   "outputs": [
    {
     "data": {
      "text/plain": [
       "'Welcome to BIGBANG!!!!+Hope you can have a good shopping exprience!!!+*******************************************************************************+Material:Cotton +Type:Blouse+Color:Blue+Package include:1 Blouse+Product Detail:  +1.O Neck +2.Half Sleeve+3.Floral Printed Pattern+4.Casual,Beach,Everyday Wear+Attentions:+1.The Real Object May Exist Slightly Colors Differences Compared To Images As Different Computers Display.Caution If Minding,Thanks.+2.There Might Be A Manual Measuring 1-3 cm Error.Sorry For Any Inconvenience.+3.Please Prevail On Real Item, Model Images For Reference Only.'"
      ]
     },
     "execution_count": 20,
     "metadata": {},
     "output_type": "execute_result"
    }
   ],
   "source": [
    "t = df['divided_description'][0]\n",
    "tt = '+'.join(t)\n",
    "tt"
   ]
  },
  {
   "cell_type": "code",
   "execution_count": 30,
   "metadata": {
    "ExecuteTime": {
     "end_time": "2019-11-15T09:54:34.111158Z",
     "start_time": "2019-11-15T09:54:34.107169Z"
    }
   },
   "outputs": [],
   "source": [
    "des = df['divided_description'].tolist()"
   ]
  },
  {
   "cell_type": "code",
   "execution_count": 31,
   "metadata": {
    "ExecuteTime": {
     "end_time": "2019-11-15T09:54:34.669789Z",
     "start_time": "2019-11-15T09:54:34.658821Z"
    }
   },
   "outputs": [
    {
     "data": {
      "text/plain": [
       "159"
      ]
     },
     "execution_count": 31,
     "metadata": {},
     "output_type": "execute_result"
    }
   ],
   "source": [
    "longest = max([len(elem) for elem in des])\n",
    "longest"
   ]
  },
  {
   "cell_type": "code",
   "execution_count": 12,
   "metadata": {
    "ExecuteTime": {
     "end_time": "2019-11-15T09:23:07.994586Z",
     "start_time": "2019-11-15T09:23:07.988603Z"
    }
   },
   "outputs": [
    {
     "data": {
      "text/plain": [
       "3"
      ]
     },
     "execution_count": 12,
     "metadata": {},
     "output_type": "execute_result"
    }
   ],
   "source": [
    "for sentence in des:\n",
    "    for line in sentence:\n",
    "        "
   ]
  },
  {
   "cell_type": "code",
   "execution_count": null,
   "metadata": {},
   "outputs": [],
   "source": []
  },
  {
   "cell_type": "code",
   "execution_count": null,
   "metadata": {},
   "outputs": [],
   "source": []
  },
  {
   "cell_type": "code",
   "execution_count": 23,
   "metadata": {
    "ExecuteTime": {
     "end_time": "2019-11-15T09:30:54.520869Z",
     "start_time": "2019-11-15T09:30:54.517877Z"
    }
   },
   "outputs": [],
   "source": [
    "numberList = [1, 2, 3, 4]\n",
    "strList = ['one', 'two', 'three']"
   ]
  },
  {
   "cell_type": "code",
   "execution_count": 29,
   "metadata": {
    "ExecuteTime": {
     "end_time": "2019-11-15T09:32:12.882217Z",
     "start_time": "2019-11-15T09:32:12.878228Z"
    }
   },
   "outputs": [
    {
     "name": "stdout",
     "output_type": "stream",
     "text": [
      "{(3, 'three'), (2, 'two'), (1, 'one')}\n"
     ]
    }
   ],
   "source": [
    "r = zip(numberList, strList)\n",
    "print(set(r))"
   ]
  },
  {
   "cell_type": "code",
   "execution_count": null,
   "metadata": {},
   "outputs": [],
   "source": []
  }
 ],
 "metadata": {
  "kernelspec": {
   "display_name": "Python 3",
   "language": "python",
   "name": "python3"
  },
  "language_info": {
   "codemirror_mode": {
    "name": "ipython",
    "version": 3
   },
   "file_extension": ".py",
   "mimetype": "text/x-python",
   "name": "python",
   "nbconvert_exporter": "python",
   "pygments_lexer": "ipython3",
   "version": "3.7.3"
  },
  "latex_envs": {
   "LaTeX_envs_menu_present": true,
   "autoclose": false,
   "autocomplete": true,
   "bibliofile": "biblio.bib",
   "cite_by": "apalike",
   "current_citInitial": 1,
   "eqLabelWithNumbers": true,
   "eqNumInitial": 1,
   "hotkeys": {
    "equation": "Ctrl-E",
    "itemize": "Ctrl-I"
   },
   "labels_anchors": false,
   "latex_user_defs": false,
   "report_style_numbering": false,
   "user_envs_cfg": false
  },
  "toc": {
   "base_numbering": 1,
   "nav_menu": {},
   "number_sections": true,
   "sideBar": true,
   "skip_h1_title": false,
   "title_cell": "Table of Contents",
   "title_sidebar": "Contents",
   "toc_cell": false,
   "toc_position": {},
   "toc_section_display": true,
   "toc_window_display": false
  },
  "varInspector": {
   "cols": {
    "lenName": 16,
    "lenType": 16,
    "lenVar": 40
   },
   "kernels_config": {
    "python": {
     "delete_cmd_postfix": "",
     "delete_cmd_prefix": "del ",
     "library": "var_list.py",
     "varRefreshCmd": "print(var_dic_list())"
    },
    "r": {
     "delete_cmd_postfix": ") ",
     "delete_cmd_prefix": "rm(",
     "library": "var_list.r",
     "varRefreshCmd": "cat(var_dic_list()) "
    }
   },
   "types_to_exclude": [
    "module",
    "function",
    "builtin_function_or_method",
    "instance",
    "_Feature"
   ],
   "window_display": false
  }
 },
 "nbformat": 4,
 "nbformat_minor": 2
}
