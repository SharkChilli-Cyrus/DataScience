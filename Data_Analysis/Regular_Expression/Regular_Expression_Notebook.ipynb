{
 "cells": [
  {
   "cell_type": "markdown",
   "metadata": {},
   "source": [
    "<h1>Regular Expression Notebook</h1><br>\n",
    "\n",
    "<mark>\n",
    "@Author: SharkChilli_zx<br>\n",
    "@Date:2019\n",
    "</mark>"
   ]
  },
  {
   "cell_type": "code",
   "execution_count": 4,
   "metadata": {},
   "outputs": [],
   "source": [
    "import re"
   ]
  },
  {
   "cell_type": "markdown",
   "metadata": {},
   "source": [
    "<h3>re.findall</h3>\n",
    "\n",
    "> import re\n",
    "\n",
    "> re.findall(pattern, string, flags=0)\n",
    "\n",
    "Python 正则表达式 re.findall 方法能够**以列表的形式返回能匹配的子串**"
   ]
  },
  {
   "cell_type": "markdown",
   "metadata": {},
   "source": [
    "<h4>findall查找全部r标识代表后面是正则的语句"
   ]
  },
  {
   "cell_type": "code",
   "execution_count": 5,
   "metadata": {},
   "outputs": [
    {
     "name": "stdout",
     "output_type": "stream",
     "text": [
      "['docs', 'docs']\n"
     ]
    }
   ],
   "source": [
    "regular_v1 = re.findall(\n",
    "    r'docs', 'https://docs.pythondocs.org/3/whatsnew/3.6.html')\n",
    "print(regular_v1)"
   ]
  },
  {
   "cell_type": "markdown",
   "metadata": {},
   "source": [
    "<h4>符号^表示匹配以https开头的字符串"
   ]
  },
  {
   "cell_type": "code",
   "execution_count": 6,
   "metadata": {},
   "outputs": [
    {
     "name": "stdout",
     "output_type": "stream",
     "text": [
      "['https']\n"
     ]
    }
   ],
   "source": [
    "regular_v2 = re.findall(\n",
    "    r'^https', 'https://docs.httpspython.org/3/whatsnew/3.6.html')\n",
    "print(regular_v2)"
   ]
  },
  {
   "cell_type": "markdown",
   "metadata": {},
   "source": [
    "<h4>用$符号表示以html结尾的字符串"
   ]
  },
  {
   "cell_type": "code",
   "execution_count": 7,
   "metadata": {},
   "outputs": [
    {
     "name": "stdout",
     "output_type": "stream",
     "text": [
      "['html']\n"
     ]
    }
   ],
   "source": [
    "regular_v3 = re.findall(\n",
    "    r'html$', 'https://docs.pythonhtml.org/3/whatsnew/3.6.html')\n",
    "print(regular_v3)"
   ]
  },
  {
   "cell_type": "markdown",
   "metadata": {},
   "source": [
    "<h4>[...]匹配括号中的其中一个字符"
   ]
  },
  {
   "cell_type": "code",
   "execution_count": 8,
   "metadata": {},
   "outputs": [
    {
     "name": "stdout",
     "output_type": "stream",
     "text": [
      "['th', 'wh']\n"
     ]
    }
   ],
   "source": [
    "regular_v4 = re.findall(\n",
    "    r'[t,w]h', 'https://docs.python.org/3/whatsnew/3.6.html')\n",
    "print(regular_v4)"
   ]
  },
  {
   "cell_type": "markdown",
   "metadata": {},
   "source": [
    "---\n",
    "<h4>'d' & 'D'</h4>\n",
    "\n",
    "* 'd' 用来匹配0到9之间的数,表示取数字0-9\n",
    "* 'D' 返回除了数字以外的内容"
   ]
  },
  {
   "cell_type": "code",
   "execution_count": 9,
   "metadata": {},
   "outputs": [
    {
     "name": "stdout",
     "output_type": "stream",
     "text": [
      "v5: ['3', '3', '6'] \n",
      "v6: ['123'] \n",
      " ***** \n",
      "v7: ['h', 't', 't', 'p', 's', ':', '/', '/', 'd', 'o', 'c', 's', '.', 'p', 'y', 't', 'h', 'o', 'n', '.', 'o', 'r', 'g', '/', '/', 'w', 'h', 'a', 't', 's', 'n', 'e', 'w', '/', '.', '.', 'h', 't', 'm', 'l'] \n",
      "v7_1: ['https://docs.python.org/', '/whatsnew/', '.', '.html']\n"
     ]
    }
   ],
   "source": [
    "regular_v5 = re.findall(\n",
    "    r\"\\d\", \"https://docs.python.org/3/whatsnew/3.6.html\")\n",
    "\n",
    "regular_v6 = re.findall(\n",
    "    r\"\\d\\d\\d\", \"https://docs.python.org/3/whatsnew/3.6.html/1234\")\n",
    "\n",
    "regular_v7 = re.findall(\n",
    "    r\"\\D\", \"https://docs.python.org/3/whatsnew/3.6.html\")\n",
    "\n",
    "regular_v7_1 = re.findall(\n",
    "    r\"\\D+\", \"https://docs.python.org/3/whatsnew/3.6.html\")\n",
    "\n",
    "print('v5:', regular_v5, \n",
    "      '\\nv6:', regular_v6, \n",
    "      '\\n', '*****', \n",
    "      '\\nv7:', regular_v7, \n",
    "      '\\nv7_1:', regular_v7_1)"
   ]
  },
  {
   "cell_type": "markdown",
   "metadata": {},
   "source": [
    "---\n",
    "<h4>'w' & 'W'</h4>\n",
    "\n",
    "* 'w' 在正则里面代表匹配从小写a到z,大写A到Z，数字0到9\n",
    "* “W” 在正则里面代表匹配除了字母与数字以外的特殊符号"
   ]
  },
  {
   "cell_type": "code",
   "execution_count": 10,
   "metadata": {},
   "outputs": [
    {
     "name": "stdout",
     "output_type": "stream",
     "text": [
      "v8: ['h', 't', 't', 'p', 's', 'd', 'o', 'c', 's', 'p', 'y', 't', 'h', 'o', 'n', 'o', 'r', 'g', '3', 'w', 'h', 'a', 't', 's', 'n', 'e', 'w', '3', '6', 'h', 't', 'm', 'l'] \n",
      "v8_1: ['https', 'docs', 'python', 'org', '3', 'whatsnew', '3', '6', 'html'] \n",
      "v9: [':', '/', '/', '.', '.', '/', '/', '/', '.', '.'] \n",
      "v9_1: ['://', '.', '.', '/', '/', '/', '.', '.']\n"
     ]
    }
   ],
   "source": [
    "regular_v8 = re.findall(\n",
    "    r\"\\w\", \"https://docs.python.org/3/whatsnew/3.6.html\")\n",
    "\n",
    "regular_v8_1 = re.findall(\n",
    "    r\"\\w+\", \"https://docs.python.org/3/whatsnew/3.6.html\")\n",
    "\n",
    "regular_v9 = re.findall(\n",
    "    r\"\\W\",\"https://docs.python.org/3/whatsnew/3.6.html\")\n",
    "\n",
    "regular_v9_1 = re.findall(\n",
    "    r\"\\W+\",\"https://docs.python.org/3/whatsnew/3.6.html\")\n",
    "\n",
    "print ('v8:', regular_v8, \n",
    "       '\\nv8_1:', regular_v8_1, \n",
    "       '\\nv9:', regular_v9, \n",
    "       '\\nv9_1:', regular_v9_1)"
   ]
  },
  {
   "cell_type": "markdown",
   "metadata": {},
   "source": [
    "---\n",
    "<h4>'s' & 'S'</h4>\n",
    "\n",
    "* 's' 匹配任何不可见的字符，包括空格，制表符，换页符等等\n",
    "* 'S' 匹配任何可见的字符"
   ]
  },
  {
   "cell_type": "code",
   "execution_count": 15,
   "metadata": {},
   "outputs": [
    {
     "name": "stdout",
     "output_type": "stream",
     "text": [
      "s1: ['2345  3456', '4567  5678']\n"
     ]
    }
   ],
   "source": [
    "string = '2345  3456  4567  5678'\n",
    "\n",
    "regex_1 = re.compile('\\w+\\s+\\w+')\n",
    "regular_s1 = regex_1.findall(string)\n",
    "\n",
    "print('s1:', regular_s1)"
   ]
  },
  {
   "cell_type": "markdown",
   "metadata": {},
   "source": [
    "---\n",
    "<h4>当正则表达式中存在括号( )时</h4>"
   ]
  },
  {
   "cell_type": "code",
   "execution_count": 16,
   "metadata": {
    "scrolled": true
   },
   "outputs": [
    {
     "name": "stdout",
     "output_type": "stream",
     "text": [
      "\n",
      "*****Note***** \n",
      "s2: ['2345', '4567'] \n",
      "s3: [('2345  3456', '2345', '  '), ('4567  5678', '4567', '  ')]\n"
     ]
    }
   ],
   "source": [
    "regex_2 = re.compile('(\\w+)\\s+\\w+')\n",
    "regular_s2 = regex_2.findall(string)\n",
    "\n",
    "regex_3 = re.compile('((\\w+)(\\s+)\\w+)')\n",
    "regular_s3 = regex_3.findall(string)\n",
    "\n",
    "print('\\n*****Note*****',\n",
    "      '\\ns2:', regular_s2, \n",
    "      '\\ns3:', regular_s3)"
   ]
  },
  {
   "cell_type": "markdown",
   "metadata": {},
   "source": [
    "---\n",
    "正则表达式中**有一个括号**时,其**输出的内容就是括号匹配到的内容**，而不是整个表达式所匹配到的结果.\n",
    "但是整个正则表达式执行了！只不过只输出括号匹配到的内容.\n",
    "\n",
    "在第一次匹配时跟没有括号时一样，匹配到 \"2345  3456\" ,只不过**只输出**(/w+)匹配到的结果 即\"2345\"，\n",
    "第二次匹配同理从\"4567\" 开始，匹配到\"4567  5678\",但是还是只是输出\"4567\"\n",
    "\n",
    "---\n",
    "当正则表达式中**有两个括号**时，其输出是一个list中包含2个tuple\n",
    "\n",
    "从输出的结果可以看出，有2个元组，每一个元组中有2个字符串: 其中第一个字符串\"2345 3456\"是**最外面的括号**输出的结果\n",
    "\n",
    "第二个是里面括号(/w+)输出的结果 \"2345\", 第二个元组是第二次匹配的结果\n"
   ]
  },
  {
   "cell_type": "code",
   "execution_count": null,
   "metadata": {},
   "outputs": [],
   "source": []
  },
  {
   "cell_type": "code",
   "execution_count": null,
   "metadata": {},
   "outputs": [],
   "source": []
  },
  {
   "cell_type": "code",
   "execution_count": null,
   "metadata": {},
   "outputs": [],
   "source": []
  },
  {
   "cell_type": "code",
   "execution_count": null,
   "metadata": {},
   "outputs": [],
   "source": []
  }
 ],
 "metadata": {
  "kernelspec": {
   "display_name": "Python 3",
   "language": "python",
   "name": "python3"
  },
  "language_info": {
   "codemirror_mode": {
    "name": "ipython",
    "version": 3
   },
   "file_extension": ".py",
   "mimetype": "text/x-python",
   "name": "python",
   "nbconvert_exporter": "python",
   "pygments_lexer": "ipython3",
   "version": "3.7.2"
  },
  "latex_envs": {
   "LaTeX_envs_menu_present": true,
   "autoclose": false,
   "autocomplete": true,
   "bibliofile": "biblio.bib",
   "cite_by": "apalike",
   "current_citInitial": 1,
   "eqLabelWithNumbers": true,
   "eqNumInitial": 1,
   "hotkeys": {
    "equation": "Ctrl-E",
    "itemize": "Ctrl-I"
   },
   "labels_anchors": false,
   "latex_user_defs": false,
   "report_style_numbering": false,
   "user_envs_cfg": false
  },
  "toc": {
   "base_numbering": 1,
   "nav_menu": {},
   "number_sections": true,
   "sideBar": true,
   "skip_h1_title": true,
   "title_cell": "Table of Contents",
   "title_sidebar": "Contents",
   "toc_cell": false,
   "toc_position": {
    "height": "calc(100% - 180px)",
    "left": "10px",
    "top": "150px",
    "width": "151.594px"
   },
   "toc_section_display": true,
   "toc_window_display": false
  },
  "varInspector": {
   "cols": {
    "lenName": 16,
    "lenType": 16,
    "lenVar": 40
   },
   "kernels_config": {
    "python": {
     "delete_cmd_postfix": "",
     "delete_cmd_prefix": "del ",
     "library": "var_list.py",
     "varRefreshCmd": "print(var_dic_list())"
    },
    "r": {
     "delete_cmd_postfix": ") ",
     "delete_cmd_prefix": "rm(",
     "library": "var_list.r",
     "varRefreshCmd": "cat(var_dic_list()) "
    }
   },
   "types_to_exclude": [
    "module",
    "function",
    "builtin_function_or_method",
    "instance",
    "_Feature"
   ],
   "window_display": false
  }
 },
 "nbformat": 4,
 "nbformat_minor": 2
}
