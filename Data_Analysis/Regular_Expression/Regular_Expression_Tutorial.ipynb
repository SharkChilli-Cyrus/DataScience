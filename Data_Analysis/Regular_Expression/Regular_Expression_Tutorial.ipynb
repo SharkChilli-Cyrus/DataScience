{
 "cells": [
  {
   "cell_type": "markdown",
   "metadata": {},
   "source": [
    "# Regualr Expression Tutorial \n",
    "\n",
    "@Author: SharkChilli_zx<br>\n",
    "@Date: 16th Sept 2019\n",
    "\n",
    "\n",
    "Useful links:\n",
    "\n",
    "- [ ] [Regular Expression Python3 Doc](https://docs.python.org/zh-cn/3/howto/regex.html)\n",
    "\n",
    "\n",
    "**Import Package**"
   ]
  },
  {
   "cell_type": "code",
   "execution_count": 36,
   "metadata": {},
   "outputs": [],
   "source": [
    "import re\n",
    "\n",
    "import warnings\n",
    "warnings.filterwarnings('ignore')"
   ]
  },
  {
   "cell_type": "markdown",
   "metadata": {},
   "source": [
    "## 元字符 - 匹配字符\n",
    "\n",
    "大多数字母和字符只会匹配自己，但有一些字符是特殊的 matacharacters, **并且不会匹配自己**，相反，他们表示匹配一些与众不同的东西，或者通过重复他们，改变他们的含义来影响正则表达式的其他部分。\n",
    "\n",
    "以下是`元字符`的完整列表:\n",
    "\n",
    "```\n",
    ". ^ $ * + ? { } [ ] \\ | ( )\n",
    "```\n",
    "\n",
    "### 指定字符类 `[ ]`\n",
    "\n",
    "它们用于指定字符类，它是你希望匹配的一组字符。 可以单独列出字符，也可以通过给出两个字符并用 `-` 标记将它们分开来表示一系列字符。 \n",
    "* 例如，`[abc]` 将匹配任何字符 a、b 或 c; 这与 `[a-c]` 相同，它使用一个范围来表示同一组字符。 如果只想匹配小写字母，你的正则是 `[a-z]`。\n",
    "\n",
    "\n",
    "<font color=red>Note: 字符类中的元字符不生效。</font>\n",
    "\n",
    "\n",
    "### 补充匹配 `^`\n",
    "\n",
    "匹配设置的字符类中未列出的字符，这通过包含一个 `^` 作为**该类的第一个字符**来表示。\n",
    "\n",
    "* `[^5]` 将匹配除 '5' 之外的任何字符。 \n",
    "* **如果插入符出现在字符类的其他位置，则它没有特殊含义。** `[5^]` 将匹配 '5' 或 '^'。\n",
    "\n",
    "\n",
    "### 反斜杠 `\\`\n",
    "\n",
    "反斜杠`\\`后面可以跟各种字符，以指示各种特殊序列。\n",
    "它也用于转义所有元字符，因此仍然可以在模式中匹配它们。\n",
    "\n",
    "一些以 '\\' 开头的特殊序列表示通常有用的预定义字符集，例如数字集、字母集或任何非空格的集合。\n",
    "\n",
    "例如： `\\w` 匹配任何字母数字字符。\n",
    "如果正则表达式模式以字节类表示，这相当于类 `[a-zA-Z0-9_]`。\n",
    "\n",
    "* `\\d` 匹配任何十进制数字；这等价于类 `[0-9]`。\n",
    "* `\\D` 匹配任何非数字字符；这等价于类 `[^0-9]`。\n",
    "* `\\s` 匹配任何空白字符；这等价于类 `[ \\t\\n\\r\\f\\v]`。\n",
    "* `\\S` 匹配任何非空白字符；这相当于类 `[^ \\t\\n\\r\\f\\v]`。\n",
    "* `\\w` 匹配任何字母与数字字符；这相当于类 `[a-zA-Z0-9_]`。\n",
    "* `\\W` 匹配任何非字母与数字字符；这相当于类 `[^a-zA-Z0-9_]`。\n",
    "\n",
    "这些序列可以包含在字符类中。 \n",
    "例如，`[\\s,.]` 是一个匹配任何空格字符的字符类或者 `,` 或 `.`。"
   ]
  },
  {
   "cell_type": "markdown",
   "metadata": {},
   "source": [
    "## 重复\n",
    "\n",
    "可以指定正则的某些部分必须重复一定次数。\n",
    "\n",
    "\n",
    "### 贪婪字符 `*` ($\\geq 0$)\n",
    "\n",
    "`*` 与字面字符 `*` 不匹配；它指定**前一个字符**可以匹配零次或多次，而不是恰好一次。\n",
    "* `ca*t` 将匹配 `ct` (0个 'a' 字符)，`cat` (1个 'a')，`caaat` (3个 'a' 字符)，等等。\n",
    "* `a[bcd]*b`: 这个正则匹配字母 `a`，类 `[bcd]` 中的零或多个字母，最后以 `b` 结尾。 可以匹配 `abcdb`, `abcb`, `ab`\n",
    "\n",
    "\n",
    "### 贪婪字符 `+` ($\\geq 1$)\n",
    "\n",
    "`+`将匹配**一次或多次**。\n",
    "\n",
    "**Note: `*`和`+`的区别：**\n",
    "* `*` 匹配<font color=red>零次或更多次 ($\\geq 0$)</font>，因此重复的部分可能根本不存在\n",
    "* 而 `+` 至少需要<font color=red>一次 ($\\geq 1$)</font>。\n",
    "`ca+t` 将匹配 `cat` (1 个 'a')，`caaat` (3 个 'a')，但不会匹配 `ct` (0个 'a')。\n",
    "\n",
    "\n",
    "### 贪婪字符 `?` (0 or 1)\n",
    "\n",
    "问号字符 `?` 匹配<font color=red>一次或零次</font>\n",
    "* `home-?brew` 匹配 `homebrew` 或 `home-brew`。\n",
    "\n",
    "\n",
    "### 重复限定符 `{m, n}`\n",
    "\n",
    "m 和 n 是十进制整数。 这个限定符意味着必须至少重复 m 次，最多重复 n 次。\n",
    "* `a/{1,3}b` 将匹配 `a/b` ，`a//b` 和 `a///b` 。 它不匹配没有斜线的 `ab`，或者有四个的 `a////b`。\n",
    "\n",
    "可以省略 m 或 n; 在这种情况下，将假定缺失值的合理值。 省略 m 被解释为 0 下限，而省略 n 则为无穷大的上限。`{0,}`与`*`相同，`{1,}`相当于`+`，`{0,1}`相当于`?`\n"
   ]
  },
  {
   "cell_type": "markdown",
   "metadata": {},
   "source": [
    "## 应用匹配\n",
    "\n",
    "* `match()` 确定正则表达式是否从字符串的开头匹配\n",
    "* `search()` 扫描字符串，查找此正则表达式的任何位置\n",
    "* `findall()` 找到正则表达式匹配的所有子字符串，并将他们作为列表返回\n",
    "* `finditer()` 找到正则表达式匹配的所有子字符串，并将他们返回为一个`iterator`\n",
    "\n",
    "### `match()`\n",
    "\n",
    "<mark>**示例**</mark>"
   ]
  },
  {
   "cell_type": "code",
   "execution_count": 37,
   "metadata": {},
   "outputs": [
    {
     "name": "stdout",
     "output_type": "stream",
     "text": [
      "re.compile('[a-z]+') \n",
      "\n",
      " **Strings:\n",
      " 12345 \n",
      " tempo123 \n",
      "\n",
      " **Resultes:\n",
      " None \n",
      " <re.Match object; span=(0, 5), match='tempo'>\n"
     ]
    }
   ],
   "source": [
    "p = re.compile('[a-z]+')\n",
    "\n",
    "m_1 = '12345'\n",
    "m_2 = 'tempo123'\n",
    "\n",
    "r_1 = p.match(m_1)\n",
    "r_2 = p.match(m_2)\n",
    "\n",
    "print(p, '\\n\\n',\n",
    "      '**Strings:\\n', \n",
    "      m_1, '\\n',\n",
    "      m_2, '\\n\\n',\n",
    "      '**Resultes:\\n', \n",
    "      r_1, '\\n', \n",
    "      r_2)"
   ]
  },
  {
   "cell_type": "markdown",
   "metadata": {},
   "source": [
    "### `group()`, `start()`, `end()`, `span()`\n",
    "\n",
    "可以检查匹配对象以获取有关匹配字符串的信息。 \n",
    "\n",
    "匹配对象实例也有几个方法和属性:\n",
    "* `group()` 返回正则表达式匹配的字符串\n",
    "* `start()` 返回匹配的开始位置\n",
    "* `end()` 返回匹配的结束位置\n",
    "* `span()` 返回包含匹配 (start, end) 位置的元组\n",
    "\n",
    "<mark>**示例**</mark>"
   ]
  },
  {
   "cell_type": "code",
   "execution_count": 38,
   "metadata": {},
   "outputs": [
    {
     "name": "stdout",
     "output_type": "stream",
     "text": [
      "group() --> tempo\n",
      "span() --> (0, 5)\n"
     ]
    }
   ],
   "source": [
    "print('group() -->', r_2.group())\n",
    "print('span() -->', r_2.span())"
   ]
  },
  {
   "cell_type": "markdown",
   "metadata": {},
   "source": [
    "`group()`返回正则表达式匹配的子字符串，`start()`和`end()`返回匹配的起始和结束索引。`span()`在单个元组中返回开始和结束索引。 "
   ]
  },
  {
   "cell_type": "markdown",
   "metadata": {},
   "source": [
    "### `search()`\n",
    "\n",
    "**Note:**\n",
    "* 由于 `match()`方法只检查正则是否在<font color=red>**字符串的开头匹配**</font>，所以`start()`将始终为零。 \n",
    "* 但 `search()`方法会扫描字符串，因此在这种情况下匹配可能不会从零开始。"
   ]
  },
  {
   "cell_type": "code",
   "execution_count": 45,
   "metadata": {},
   "outputs": [
    {
     "name": "stdout",
     "output_type": "stream",
     "text": [
      "None\n",
      "<re.Match object; span=(4, 11), match='message'>\n",
      "message\n",
      "(4, 11)\n"
     ]
    }
   ],
   "source": [
    "string = '::: message'\n",
    "p = re.compile('[a-z]+')\n",
    "\n",
    "print(p.match(string)) # The first row\n",
    "\n",
    "m = p.search(string)\n",
    "print(m) # The second row\n",
    "print(m.group()) # The third row\n",
    "print(m.span()) # The fourth row"
   ]
  },
  {
   "cell_type": "markdown",
   "metadata": {},
   "source": [
    "### `findall()`\n",
    "\n",
    "`findall()` 必须先创建整个列表才能返回结果。"
   ]
  },
  {
   "cell_type": "code",
   "execution_count": 68,
   "metadata": {},
   "outputs": [
    {
     "name": "stdout",
     "output_type": "stream",
     "text": [
      "12\n",
      "11\n",
      "10\n",
      "\n",
      " ['12', '11', '10']\n"
     ]
    }
   ],
   "source": [
    "p = re.compile(r'\\d+')\n",
    "\n",
    "string = '12 drummers drumming, 11 pipers piping, 10 lords a-leaping'\n",
    "\n",
    "findall = p.findall(string)\n",
    "\n",
    "for i in findall:\n",
    "    print(i)\n",
    "    \n",
    "print('\\n', find)"
   ]
  },
  {
   "cell_type": "markdown",
   "metadata": {},
   "source": [
    "在上面这个例子里，需要**用到`r`前缀，使字面为原始字符串字面**，因为普通的“加工”字符串字面中的转义序列不能被 Python 识别为正则表达式。"
   ]
  },
  {
   "cell_type": "markdown",
   "metadata": {},
   "source": [
    "### `finditer()`\n",
    "\n",
    "`finditer()` 方法将一个 匹配对象 的序列返回为一个 `iterator`。"
   ]
  },
  {
   "cell_type": "code",
   "execution_count": 69,
   "metadata": {},
   "outputs": [
    {
     "name": "stdout",
     "output_type": "stream",
     "text": [
      "<re.Match object; span=(0, 2), match='12'>\n",
      "<re.Match object; span=(22, 24), match='11'>\n",
      "<re.Match object; span=(40, 42), match='10'>\n",
      "\n",
      " <callable_iterator object at 0x118cca6d8>\n"
     ]
    }
   ],
   "source": [
    "string = '12 drummers drumming, 11 pipers piping, 10 lords a-leaping'\n",
    "\n",
    "iterator = p.finditer(string)\n",
    "\n",
    "for match in iterator:\n",
    "    print(match)\n",
    "\n",
    "print('\\n', iterator)"
   ]
  },
  {
   "cell_type": "markdown",
   "metadata": {},
   "source": [
    "## 模块级别函数\n",
    "\n",
    "`re` 模块还提供了顶级函数 `match()`，`search()`，`findall()`，`sub()` 等等。 这些函数采用与相应模式方法相同的参数，并将正则字符串作为第一个参数添加，并仍然返回 **None** 或 **匹配对象** 实例。"
   ]
  },
  {
   "cell_type": "code",
   "execution_count": 72,
   "metadata": {},
   "outputs": [
    {
     "name": "stdout",
     "output_type": "stream",
     "text": [
      "None\n"
     ]
    }
   ],
   "source": [
    "print(re.match(r'From\\s+', \n",
    "               'Fromage amk'))"
   ]
  },
  {
   "cell_type": "code",
   "execution_count": 73,
   "metadata": {},
   "outputs": [
    {
     "name": "stdout",
     "output_type": "stream",
     "text": [
      "<re.Match object; span=(0, 5), match='From '>\n"
     ]
    }
   ],
   "source": [
    "print(re.match(r'From\\s+', \n",
    "               'From amk Thu May 14 19:12:10 1998'))"
   ]
  },
  {
   "cell_type": "markdown",
   "metadata": {},
   "source": [
    "## 编译标志\n",
    "\n",
    "编译标志允许你修改正则表达式的工作方式。\n",
    "\n",
    "标志在 `re` 模块中有两个名称，长名称如 `IGNORECASE` 和一个简短的单字母形式，例如 `I`。\n",
    "\n",
    "标志 | 意义\n",
    "---- | ---\n",
    "A, ASCII | 使几个转义如 `\\w`、`\\b`、`\\s` 和 `\\d` 匹配仅与具有相应特征属性的 ASCII 字符匹配\n",
    "S, DOTALL | 使 `.` 匹配任何字符，包括换行符\n",
    "I, IGNOGECASE | 进行大小写不敏感匹配\n",
    "L, LOCALE | 进行区域设置感知匹配\n",
    "M, MULTILINE | 多行匹配，影响`^`和`$`\n",
    "X, VERBOSE | 启动详细的正则，可以更加清晰，更加容易理解"
   ]
  },
  {
   "cell_type": "markdown",
   "metadata": {},
   "source": [
    "### A, ASCII\n",
    "\n",
    "使 `\\w`、`\\W`、`\\b`、`\\B`、`\\s` 和 `\\S` 执行仅 ASCII 匹配而不是完整匹配 Unicode 匹配。 这仅对 Unicode 模式有意义，并且对于字节模式将被忽略。\n",
    "\n",
    "### S, DOTALL\n",
    "\n",
    "使 `.` 特殊字符匹配任何字符，包括换行符。\n",
    "\n",
    "没有这个标志，`.` 将匹配任何字符 **除了 换行符**。\n",
    "\n",
    "### I, IGNORECASE\n",
    "\n",
    "**执行不区分大小写的匹配**, 字符类和字面字符串将通过忽略大小写来匹配字母。\n",
    "例如，`[A-Z]` 也匹配小写字母。\n",
    "\n",
    "### L, LOCALE\n",
    "\n",
    "使 `\\w`、`\\W`、`\\b`、`\\B` 和大小写敏感匹配依赖于当前区域而不是 Unicode 数据库。\n",
    "\n",
    "### M, MULTILINE\n",
    "\n",
    "通常 `^` 只匹配字符串的开头，而 `$` 只匹配字符串的结尾，紧接在字符串末尾的换行符（如果有的话）之前。\n",
    "\n",
    "当指定了这个标志时，`^` 匹配字符串的开头和字符串中每一行的开头，紧跟在每个换行符之后。 类似地，`$` 元字符匹配字符串的结尾和每行的结尾（紧接在每个换行符之前）。\n",
    "\n",
    "### X, VERBOSE\n",
    "\n",
    "此标志允许编写更易读的正则表达式，方法是为提供更灵活的格式化方式。 \n",
    "\n",
    "指定此标志后，将忽略正则字符串中的空格，除非空格位于字符类中或前面带有未转义的反斜杠；这可以更清楚地组织和缩进正则。 \n",
    "\n",
    "此标志还允许将注释放在正则中，引擎将忽略该注释；注释标记为 '#' 既不是在字符类中，也不是在未转义的反斜杠之前。"
   ]
  },
  {
   "cell_type": "markdown",
   "metadata": {},
   "source": [
    "## 更多元字符\n",
    "\n",
    "要讨论的其余一些元字符是 **零宽度断言**。 它们不会使解析引擎在字符串中前进一个字符；相反，**它们根本不占用任何字符，只是成功或失败**。\n",
    "\n",
    "例如，`\\b` 是一个断言，指明当前位置位于字边界；这个位置根本不会被 `\\b` 改变。这意味着永远不应重复零宽度断言，因为如果它们在给定位置匹配一次，它们显然可以无限次匹配。\n",
    "\n"
   ]
  },
  {
   "cell_type": "code",
   "execution_count": null,
   "metadata": {},
   "outputs": [],
   "source": []
  },
  {
   "cell_type": "code",
   "execution_count": null,
   "metadata": {},
   "outputs": [],
   "source": []
  },
  {
   "cell_type": "code",
   "execution_count": null,
   "metadata": {},
   "outputs": [],
   "source": []
  },
  {
   "cell_type": "code",
   "execution_count": null,
   "metadata": {},
   "outputs": [],
   "source": []
  },
  {
   "cell_type": "code",
   "execution_count": null,
   "metadata": {},
   "outputs": [],
   "source": []
  },
  {
   "cell_type": "code",
   "execution_count": null,
   "metadata": {},
   "outputs": [],
   "source": []
  },
  {
   "cell_type": "code",
   "execution_count": null,
   "metadata": {},
   "outputs": [],
   "source": []
  },
  {
   "cell_type": "code",
   "execution_count": null,
   "metadata": {},
   "outputs": [],
   "source": []
  }
 ],
 "metadata": {
  "kernelspec": {
   "display_name": "Python 3",
   "language": "python",
   "name": "python3"
  },
  "language_info": {
   "codemirror_mode": {
    "name": "ipython",
    "version": 3
   },
   "file_extension": ".py",
   "mimetype": "text/x-python",
   "name": "python",
   "nbconvert_exporter": "python",
   "pygments_lexer": "ipython3",
   "version": "3.7.2"
  },
  "latex_envs": {
   "LaTeX_envs_menu_present": true,
   "autoclose": false,
   "autocomplete": true,
   "bibliofile": "biblio.bib",
   "cite_by": "apalike",
   "current_citInitial": 1,
   "eqLabelWithNumbers": true,
   "eqNumInitial": 1,
   "hotkeys": {
    "equation": "Ctrl-E",
    "itemize": "Ctrl-I"
   },
   "labels_anchors": false,
   "latex_user_defs": false,
   "report_style_numbering": false,
   "user_envs_cfg": false
  },
  "toc": {
   "base_numbering": 1,
   "nav_menu": {},
   "number_sections": true,
   "sideBar": true,
   "skip_h1_title": true,
   "title_cell": "Table of Contents",
   "title_sidebar": "Contents",
   "toc_cell": false,
   "toc_position": {
    "height": "calc(100% - 180px)",
    "left": "10px",
    "top": "150px",
    "width": "207.594px"
   },
   "toc_section_display": true,
   "toc_window_display": false
  },
  "varInspector": {
   "cols": {
    "lenName": 16,
    "lenType": 16,
    "lenVar": 40
   },
   "kernels_config": {
    "python": {
     "delete_cmd_postfix": "",
     "delete_cmd_prefix": "del ",
     "library": "var_list.py",
     "varRefreshCmd": "print(var_dic_list())"
    },
    "r": {
     "delete_cmd_postfix": ") ",
     "delete_cmd_prefix": "rm(",
     "library": "var_list.r",
     "varRefreshCmd": "cat(var_dic_list()) "
    }
   },
   "types_to_exclude": [
    "module",
    "function",
    "builtin_function_or_method",
    "instance",
    "_Feature"
   ],
   "window_display": false
  }
 },
 "nbformat": 4,
 "nbformat_minor": 2
}
