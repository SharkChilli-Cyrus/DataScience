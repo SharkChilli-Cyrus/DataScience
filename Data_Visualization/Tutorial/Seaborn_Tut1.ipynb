{
 "cells": [
  {
   "cell_type": "markdown",
   "metadata": {},
   "source": [
    "# Seaborn Tutorial 1\n",
    "\n",
    "**Tag: Statistical Relationships**\n",
    "\n",
    "@Author: SharkChilli_zx<br>\n",
    "@Date: 1st Nov 2019\n",
    "\n",
    "---"
   ]
  },
  {
   "cell_type": "markdown",
   "metadata": {},
   "source": [
    "## Import Packages"
   ]
  },
  {
   "cell_type": "code",
   "execution_count": 1,
   "metadata": {
    "ExecuteTime": {
     "end_time": "2019-11-01T03:42:37.435338Z",
     "start_time": "2019-11-01T03:42:35.619016Z"
    }
   },
   "outputs": [],
   "source": [
    "import numpy as np\n",
    "import pandas as pd\n",
    "import matplotlib.pyplot as plt\n",
    "import seaborn as sns"
   ]
  },
  {
   "cell_type": "markdown",
   "metadata": {},
   "source": [
    "## Scatter Plots"
   ]
  },
  {
   "cell_type": "code",
   "execution_count": 9,
   "metadata": {
    "ExecuteTime": {
     "end_time": "2019-11-01T03:45:13.716030Z",
     "start_time": "2019-11-01T03:45:13.713051Z"
    }
   },
   "outputs": [
    {
     "name": "stdout",
     "output_type": "stream",
     "text": [
      "Set aesthetic parameters in one step.\n",
      "\n",
      "    Each set of parameters can be set directly or temporarily, see the\n",
      "    referenced functions below for more information.\n",
      "\n",
      "    Parameters\n",
      "    ----------\n",
      "    context : string or dict\n",
      "        Plotting context parameters, see :func:`plotting_context`\n",
      "    style : string or dict\n",
      "        Axes style parameters, see :func:`axes_style`\n",
      "    palette : string or sequence\n",
      "        Color palette, see :func:`color_palette`\n",
      "    font : string\n",
      "        Font family, see matplotlib font manager.\n",
      "    font_scale : float, optional\n",
      "        Separate scaling factor to independently scale the size of the\n",
      "        font elements.\n",
      "    color_codes : bool\n",
      "        If ``True`` and ``palette`` is a seaborn palette, remap the shorthand\n",
      "        color codes (e.g. \"b\", \"g\", \"r\", etc.) to the colors from this palette.\n",
      "    rc : dict or None\n",
      "        Dictionary of rc parameter mappings to override the above.\n",
      "\n",
      "    \n"
     ]
    }
   ],
   "source": [
    "print(sns.set.__doc__)"
   ]
  },
  {
   "cell_type": "code",
   "execution_count": 10,
   "metadata": {
    "ExecuteTime": {
     "end_time": "2019-11-01T06:17:19.674121Z",
     "start_time": "2019-11-01T06:17:19.657166Z"
    }
   },
   "outputs": [
    {
     "name": "stdout",
     "output_type": "stream",
     "text": [
      "Help on function set in module seaborn.rcmod:\n",
      "\n",
      "set(context='notebook', style='darkgrid', palette='deep', font='sans-serif', font_scale=1, color_codes=True, rc=None)\n",
      "    Set aesthetic parameters in one step.\n",
      "    \n",
      "    Each set of parameters can be set directly or temporarily, see the\n",
      "    referenced functions below for more information.\n",
      "    \n",
      "    Parameters\n",
      "    ----------\n",
      "    context : string or dict\n",
      "        Plotting context parameters, see :func:`plotting_context`\n",
      "    style : string or dict\n",
      "        Axes style parameters, see :func:`axes_style`\n",
      "    palette : string or sequence\n",
      "        Color palette, see :func:`color_palette`\n",
      "    font : string\n",
      "        Font family, see matplotlib font manager.\n",
      "    font_scale : float, optional\n",
      "        Separate scaling factor to independently scale the size of the\n",
      "        font elements.\n",
      "    color_codes : bool\n",
      "        If ``True`` and ``palette`` is a seaborn palette, remap the shorthand\n",
      "        color codes (e.g. \"b\", \"g\", \"r\", etc.) to the colors from this palette.\n",
      "    rc : dict or None\n",
      "        Dictionary of rc parameter mappings to override the above.\n",
      "\n",
      "None\n"
     ]
    }
   ],
   "source": [
    "print(help(sns.set))"
   ]
  },
  {
   "cell_type": "code",
   "execution_count": 3,
   "metadata": {
    "ExecuteTime": {
     "end_time": "2019-11-01T03:43:08.116693Z",
     "start_time": "2019-11-01T03:43:08.112703Z"
    }
   },
   "outputs": [],
   "source": [
    "sns.set(style=\"darkgrid\")"
   ]
  },
  {
   "cell_type": "code",
   "execution_count": 4,
   "metadata": {
    "ExecuteTime": {
     "end_time": "2019-11-01T03:43:09.365871Z",
     "start_time": "2019-11-01T03:43:09.085168Z"
    }
   },
   "outputs": [
    {
     "data": {
      "text/plain": [
       "<seaborn.axisgrid.FacetGrid at 0x1db842aa320>"
      ]
     },
     "execution_count": 4,
     "metadata": {},
     "output_type": "execute_result"
    },
    {
     "data": {
      "image/png": "[encoded data removed]",
      "text/plain": [
       "<Figure size 360x360 with 1 Axes>"
      ]
     },
     "metadata": {},
     "output_type": "display_data"
    }
   ],
   "source": [
    "tips = sns.load_dataset(\"tips\")\n",
    "sns.relplot(x=\"total_bill\", y=\"tip\", data=tips)"
   ]
  },
  {
   "cell_type": "code",
   "execution_count": null,
   "metadata": {},
   "outputs": [],
   "source": []
  }
 ],
 "metadata": {
  "kernelspec": {
   "display_name": "Python 3",
   "language": "python",
   "name": "python3"
  },
  "language_info": {
   "codemirror_mode": {
    "name": "ipython",
    "version": 3
   },
   "file_extension": ".py",
   "mimetype": "text/x-python",
   "name": "python",
   "nbconvert_exporter": "python",
   "pygments_lexer": "ipython3",
   "version": "3.7.3"
  },
  "latex_envs": {
   "LaTeX_envs_menu_present": true,
   "autoclose": false,
   "autocomplete": true,
   "bibliofile": "biblio.bib",
   "cite_by": "apalike",
   "current_citInitial": 1,
   "eqLabelWithNumbers": true,
   "eqNumInitial": 1,
   "hotkeys": {
    "equation": "Ctrl-E",
    "itemize": "Ctrl-I"
   },
   "labels_anchors": false,
   "latex_user_defs": false,
   "report_style_numbering": false,
   "user_envs_cfg": false
  },
  "toc": {
   "base_numbering": 1,
   "nav_menu": {},
   "number_sections": true,
   "sideBar": true,
   "skip_h1_title": true,
   "title_cell": "Table of Contents",
   "title_sidebar": "Contents",
   "toc_cell": false,
   "toc_position": {},
   "toc_section_display": true,
   "toc_window_display": false
  },
  "varInspector": {
   "cols": {
    "lenName": 16,
    "lenType": 16,
    "lenVar": 40
   },
   "kernels_config": {
    "python": {
     "delete_cmd_postfix": "",
     "delete_cmd_prefix": "del ",
     "library": "var_list.py",
     "varRefreshCmd": "print(var_dic_list())"
    },
    "r": {
     "delete_cmd_postfix": ") ",
     "delete_cmd_prefix": "rm(",
     "library": "var_list.r",
     "varRefreshCmd": "cat(var_dic_list()) "
    }
   },
   "types_to_exclude": [
    "module",
    "function",
    "builtin_function_or_method",
    "instance",
    "_Feature"
   ],
   "window_display": false
  }
 },
 "nbformat": 4,
 "nbformat_minor": 2
}
