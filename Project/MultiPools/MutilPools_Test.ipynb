{
 "cells": [
  {
   "cell_type": "markdown",
   "metadata": {
    "toc": true
   },
   "source": [
    "<h1>Table of Contents<span class=\"tocSkip\"></span></h1>\n",
    "<div class=\"toc\"><ul class=\"toc-item\"></ul></div>"
   ]
  },
  {
   "cell_type": "code",
   "execution_count": 26,
   "metadata": {
    "ExecuteTime": {
     "end_time": "2020-08-20T03:29:50.868749Z",
     "start_time": "2020-08-20T03:29:50.857690Z"
    }
   },
   "outputs": [],
   "source": [
    "%matplotlib inline\n",
    "import matplotlib.pyplot as plt\n",
    "import seaborn as sns\n",
    "\n",
    "import os\n",
    "import numpy as np\n",
    "import pandas as pd\n",
    "import datetime\n",
    "import time\n",
    "import math\n",
    "\n",
    "import numpy as np\n",
    "import pandas as pd\n",
    "\n",
    "import multiprocessing\n",
    "from multiprocessing import Pool\n",
    "\n",
    "from multiprocessing import Process\n",
    "from multiprocessing import Array\n",
    "from multiprocessing import Manager\n",
    "from multiprocessing import queues\n",
    "from multiprocessing import RLock, Lock, Event, Condition, Semaphore\n",
    "\n",
    "import warnings\n",
    "warnings.filterwarnings('ignore')\n",
    "from IPython.core.interactiveshell import InteractiveShell\n",
    "InteractiveShell.ast_node_interactivity = 'all'"
   ]
  },
  {
   "cell_type": "markdown",
   "metadata": {},
   "source": [
    "---"
   ]
  },
  {
   "cell_type": "code",
   "execution_count": 34,
   "metadata": {
    "ExecuteTime": {
     "end_time": "2020-08-20T03:46:13.439192Z",
     "start_time": "2020-08-20T03:46:13.404310Z"
    }
   },
   "outputs": [
    {
     "name": "stdout",
     "output_type": "stream",
     "text": [
      "main line\n",
      "module name: __main__\n",
      "parent process: 23267\n",
      "process id: 1982\n",
      "\n",
      "function f\n",
      "module name: __main__\n",
      "parent process: 1982\n",
      "process id: 2293\n",
      "\n",
      "hello bob\n"
     ]
    }
   ],
   "source": [
    "def info(title):\n",
    "    print(title)\n",
    "    print('module name:', __name__)\n",
    "    print('parent process:', os.getppid())\n",
    "    print('process id:', os.getpid())\n",
    "    print('')\n",
    "\n",
    "def f(name):\n",
    "    print('function f')\n",
    "    print('module name:', __name__)\n",
    "    print('parent process:', os.getppid())\n",
    "    print('process id:', os.getpid())\n",
    "    print('')\n",
    "    print('hello', name)\n",
    "\n",
    "info('main line')\n",
    "\n",
    "p = Process(target=f, args=('bob',))\n",
    "p.start()\n",
    "p.join()"
   ]
  },
  {
   "cell_type": "code",
   "execution_count": 35,
   "metadata": {
    "ExecuteTime": {
     "end_time": "2020-08-20T03:46:14.337330Z",
     "start_time": "2020-08-20T03:46:14.303104Z"
    }
   },
   "outputs": [
    {
     "name": "stdout",
     "output_type": "stream",
     "text": [
      "This is Process: 0, and lis is: [0], and lis.address is: 140646338525456\n",
      "This is Process: 1, and lis is: [1], and lis.address is: 140646338525456\n",
      "The end of list_1: []\n",
      "This is Process: 2, and lis is: [2], and lis.address is: 140646338525456\n",
      "This is Process: 3, and lis is: [3], and lis.address is: 140646338525456\n",
      "This is Process: 4, and lis is: [4], and lis.address is: 140646338525456\n"
     ]
    }
   ],
   "source": [
    "lis = []\n",
    "\n",
    "def foo(i):\n",
    "    lis.append(i)\n",
    "    \n",
    "    print(\"This is Process: {0}, and lis is: {1}, and lis.address is: {2}\".format(i, lis, id(lis)))\n",
    "\n",
    "\n",
    "for i in range(5):\n",
    "    p = Process(target = foo, args=(i, )) # i,\n",
    "    p.start()\n",
    "    \n",
    "print(\"The end of list_1:\", lis)"
   ]
  },
  {
   "cell_type": "code",
   "execution_count": 36,
   "metadata": {
    "ExecuteTime": {
     "end_time": "2020-08-20T03:46:15.294789Z",
     "start_time": "2020-08-20T03:46:15.225498Z"
    }
   },
   "outputs": [
    {
     "name": "stdout",
     "output_type": "stream",
     "text": [
      "进程 0, 修改数组第一个元素后-----> 101\n",
      "进程 1, 修改数组第一个元素后-----> 201\n",
      "进程 2, 修改数组第一个元素后-----> 301\n",
      "进程 3, 修改数组第一个元素后-----> 401\n",
      "进程 4, 修改数组第一个元素后-----> 501\n",
      "进程 5, 修改数组第一个元素后-----> 601\n",
      "进程 6, 修改数组第一个元素后-----> 701\n",
      "进程 7, 修改数组第一个元素后-----> 801\n",
      "进程 8, 修改数组第一个元素后-----> 901\n",
      "进程 9, 修改数组第一个元素后-----> 1001\n"
     ]
    }
   ],
   "source": [
    "def func(i,temp):\n",
    "    temp[0] += 100\n",
    "    print(\"进程 {0}, 修改数组第一个元素后-----> {1}\".format(i, temp[0]))\n",
    "\n",
    "    \n",
    "# 'c': ctypes.c_char, 'u': ctypes.c_wchar,\n",
    "# 'b': ctypes.c_byte, 'B': ctypes.c_ubyte,\n",
    "# 'h': ctypes.c_short, 'H': ctypes.c_ushort,\n",
    "# 'i': ctypes.c_int, 'I': ctypes.c_uint,\n",
    "# 'l': ctypes.c_long, 'L': ctypes.c_ulong,\n",
    "# 'f': ctypes.c_float, 'd': ctypes.c_double\n",
    "temp = Array('i', [1, 2, 3, 4])\n",
    "for i in range(10):\n",
    "    p = Process(target = func, args=(i, temp))\n",
    "    p.start()"
   ]
  },
  {
   "cell_type": "code",
   "execution_count": 37,
   "metadata": {
    "ExecuteTime": {
     "end_time": "2020-08-20T03:46:16.292476Z",
     "start_time": "2020-08-20T03:46:16.102969Z"
    }
   },
   "outputs": [
    {
     "name": "stdout",
     "output_type": "stream",
     "text": [
      "[('num', 100)]\n",
      "[('num', 101)]\n",
      "[('num', 102)]\n",
      "[('num', 103)]\n",
      "[('num', 104)]\n",
      "[('num', 105)]\n",
      "[('num', 106)]\n",
      "[('num', 107)]\n",
      "[('num', 108)]\n",
      "[('num', 109)]\n"
     ]
    }
   ],
   "source": [
    "def func(i, dic):\n",
    "    dic[\"num\"] = 100+i\n",
    "    print(dic.items())\n",
    "\n",
    "if __name__ == '__main__':\n",
    "    dic = Manager().dict()\n",
    "    for i in range(10):\n",
    "        p = Process(target = func, args = (i, dic))\n",
    "        p.start()\n",
    "        p.join()"
   ]
  },
  {
   "cell_type": "code",
   "execution_count": 38,
   "metadata": {
    "ExecuteTime": {
     "end_time": "2020-08-20T03:46:23.946988Z",
     "start_time": "2020-08-20T03:46:23.878613Z"
    }
   },
   "outputs": [
    {
     "name": "stdout",
     "output_type": "stream",
     "text": [
      "进程 0 从队列里获取了一个 0，然后又向队列里放入了一个 0\n",
      "进程 1 从队列里获取了一个 0，然后又向队列里放入了一个 1\n",
      "进程 2 从队列里获取了一个 1，然后又向队列里放入了一个 2\n",
      "进程 3 从队列里获取了一个 2，然后又向队列里放入了一个 3\n",
      "进程 4 从队列里获取了一个 3，然后又向队列里放入了一个 4\n",
      "进程 5 从队列里获取了一个 4，然后又向队列里放入了一个 5\n",
      "进程 6 从队列里获取了一个 5，然后又向队列里放入了一个 6\n",
      "进程 7 从队列里获取了一个 6，然后又向队列里放入了一个 7\n",
      "进程 8 从队列里获取了一个 7，然后又向队列里放入了一个 8\n",
      "进程 9 从队列里获取了一个 8，然后又向队列里放入了一个 9\n"
     ]
    }
   ],
   "source": [
    "def func(i, q):\n",
    "    ret = q.get()\n",
    "    print(\"进程 {0} 从队列里获取了一个 {1}，然后又向队列里放入了一个 {2}\".format(i, ret, i))\n",
    "    q.put(i)\n",
    "\n",
    "    \n",
    "lis = queues.Queue(20, ctx=multiprocessing)\n",
    "lis.put(0)\n",
    "for i in range(10):\n",
    "    p = Process(target=func, args=(i, lis,))\n",
    "    p.start()"
   ]
  },
  {
   "cell_type": "code",
   "execution_count": 39,
   "metadata": {
    "ExecuteTime": {
     "end_time": "2020-08-20T03:46:26.728858Z",
     "start_time": "2020-08-20T03:46:26.669510Z"
    }
   },
   "outputs": [
    {
     "name": "stdout",
     "output_type": "stream",
     "text": [
      "say hi 9\n",
      "say hi 8\n",
      "say hi 7\n",
      "say hi 6\n",
      "say hi 5\n",
      "say hi 4\n",
      "say hi 3\n",
      "say hi 2\n",
      "say hi 1\n",
      "say hi 0\n"
     ]
    }
   ],
   "source": [
    "def func(i,lis,lc):\n",
    "    lc.acquire()\n",
    "    lis[0] = lis[0] - 1\n",
    "    time.sleep(1)\n",
    "    print('say hi', lis[0])\n",
    "    lc.release()\n",
    "\n",
    "\n",
    "array = Array('i', 1)\n",
    "array[0] = 10\n",
    "lock = RLock()\n",
    "for i in range(10):\n",
    "    p = Process(target=func, args=(i, array, lock))\n",
    "    p.start()"
   ]
  },
  {
   "cell_type": "code",
   "execution_count": null,
   "metadata": {},
   "outputs": [],
   "source": [
    "from multiprocessing import Pool\n",
    "import time\n",
    "\n",
    "def func(args):\n",
    "    time.sleep(1)\n",
    "    print(\"正在执行进程 \", args)\n",
    "\n",
    "\n",
    "p = Pool(4)     # 创建一个包含4个进程的进程池\n",
    "for i in range(30):\n",
    "    p.apply_async(func=func, args=(i,))\n",
    "\n",
    "p.close()           # 等子进程执行完毕后关闭进程池\n",
    "# time.sleep(2)\n",
    "# p.terminate()     # 立刻关闭进程池\n",
    "p.join()"
   ]
  },
  {
   "cell_type": "code",
   "execution_count": null,
   "metadata": {},
   "outputs": [],
   "source": []
  },
  {
   "cell_type": "code",
   "execution_count": null,
   "metadata": {},
   "outputs": [],
   "source": []
  }
 ],
 "metadata": {
  "kernelspec": {
   "display_name": "Python 3",
   "language": "python",
   "name": "python3"
  },
  "language_info": {
   "codemirror_mode": {
    "name": "ipython",
    "version": 3
   },
   "file_extension": ".py",
   "mimetype": "text/x-python",
   "name": "python",
   "nbconvert_exporter": "python",
   "pygments_lexer": "ipython3",
   "version": "3.7.6"
  },
  "toc": {
   "base_numbering": 1,
   "nav_menu": {},
   "number_sections": true,
   "sideBar": true,
   "skip_h1_title": true,
   "title_cell": "Table of Contents",
   "title_sidebar": "Contents",
   "toc_cell": true,
   "toc_position": {},
   "toc_section_display": true,
   "toc_window_display": false
  },
  "varInspector": {
   "cols": {
    "lenName": 16,
    "lenType": 16,
    "lenVar": 40
   },
   "kernels_config": {
    "python": {
     "delete_cmd_postfix": "",
     "delete_cmd_prefix": "del ",
     "library": "var_list.py",
     "varRefreshCmd": "print(var_dic_list())"
    },
    "r": {
     "delete_cmd_postfix": ") ",
     "delete_cmd_prefix": "rm(",
     "library": "var_list.r",
     "varRefreshCmd": "cat(var_dic_list()) "
    }
   },
   "types_to_exclude": [
    "module",
    "function",
    "builtin_function_or_method",
    "instance",
    "_Feature"
   ],
   "window_display": false
  }
 },
 "nbformat": 4,
 "nbformat_minor": 4
}
