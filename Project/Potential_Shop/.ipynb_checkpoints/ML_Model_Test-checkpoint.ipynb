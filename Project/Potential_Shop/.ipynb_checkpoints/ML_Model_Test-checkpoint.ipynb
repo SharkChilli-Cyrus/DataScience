{
 "cells": [
  {
   "cell_type": "markdown",
   "metadata": {
    "toc": true
   },
   "source": [
    "<h1>Table of Contents<span class=\"tocSkip\"></span></h1>\n",
    "<div class=\"toc\"><ul class=\"toc-item\"><li><span><a href=\"#Read-Data\" data-toc-modified-id=\"Read-Data-1\"><span class=\"toc-item-num\">1&nbsp;&nbsp;</span>Read Data</a></span><ul class=\"toc-item\"><li><span><a href=\"#Reset-Columns\" data-toc-modified-id=\"Reset-Columns-1.1\"><span class=\"toc-item-num\">1.1&nbsp;&nbsp;</span>Reset Columns</a></span></li><li><span><a href=\"#Convert-Main-Category-into-Number\" data-toc-modified-id=\"Convert-Main-Category-into-Number-1.2\"><span class=\"toc-item-num\">1.2&nbsp;&nbsp;</span>Convert Main Category into Number</a></span></li><li><span><a href=\"#Define-Jan_ADO-Threshold\" data-toc-modified-id=\"Define-Jan_ADO-Threshold-1.3\"><span class=\"toc-item-num\">1.3&nbsp;&nbsp;</span>Define Jan_ADO Threshold</a></span></li><li><span><a href=\"#Split-Data-Set\" data-toc-modified-id=\"Split-Data-Set-1.4\"><span class=\"toc-item-num\">1.4&nbsp;&nbsp;</span>Split Data Set</a></span></li></ul></li><li><span><a href=\"#Models\" data-toc-modified-id=\"Models-2\"><span class=\"toc-item-num\">2&nbsp;&nbsp;</span>Models</a></span><ul class=\"toc-item\"><li><span><a href=\"#SVM\" data-toc-modified-id=\"SVM-2.1\"><span class=\"toc-item-num\">2.1&nbsp;&nbsp;</span>SVM</a></span></li><li><span><a href=\"#Decision-Tree\" data-toc-modified-id=\"Decision-Tree-2.2\"><span class=\"toc-item-num\">2.2&nbsp;&nbsp;</span>Decision Tree</a></span></li><li><span><a href=\"#Stochastic-Gradient-Descent\" data-toc-modified-id=\"Stochastic-Gradient-Descent-2.3\"><span class=\"toc-item-num\">2.3&nbsp;&nbsp;</span>Stochastic Gradient Descent</a></span></li></ul></li></ul></div>"
   ]
  },
  {
   "cell_type": "markdown",
   "metadata": {},
   "source": [
    "Refer: [importancy Analysis](https://machinelearningmastery.com/calculate-feature-importance-with-python/)"
   ]
  },
  {
   "cell_type": "code",
   "execution_count": 153,
   "metadata": {
    "ExecuteTime": {
     "end_time": "2020-05-11T06:10:32.749389Z",
     "start_time": "2020-05-11T06:10:32.741802Z"
    }
   },
   "outputs": [],
   "source": [
    "%matplotlib inline\n",
    "import matplotlib.pyplot as plt\n",
    "import seaborn as sns\n",
    "\n",
    "import os\n",
    "import numpy as np\n",
    "import pandas as pd\n",
    "from datetime import datetime\n",
    "from sklearn import preprocessing\n",
    "from sklearn.model_selection import train_test_split\n",
    "from sklearn.model_selection import cross_val_score\n",
    "\n",
    "from sklearn import svm\n",
    "from sklearn import tree\n",
    "from sklearn.linear_model import SGDClassifier\n",
    "\n",
    "\n",
    "import warnings\n",
    "warnings.filterwarnings('ignore')\n",
    "from IPython.core.interactiveshell import InteractiveShell\n",
    "InteractiveShell.ast_node_interactivity = 'all'"
   ]
  },
  {
   "cell_type": "code",
   "execution_count": 2,
   "metadata": {
    "ExecuteTime": {
     "end_time": "2020-05-11T05:56:31.211714Z",
     "start_time": "2020-05-11T05:56:31.208914Z"
    }
   },
   "outputs": [],
   "source": [
    "sns.set_style('darkgrid')"
   ]
  },
  {
   "cell_type": "markdown",
   "metadata": {},
   "source": [
    "---"
   ]
  },
  {
   "cell_type": "code",
   "execution_count": 3,
   "metadata": {
    "ExecuteTime": {
     "end_time": "2020-05-11T05:56:33.418395Z",
     "start_time": "2020-05-11T05:56:32.929168Z"
    }
   },
   "outputs": [
    {
     "name": "stdout",
     "output_type": "stream",
     "text": [
      "\u001b[34;40m.\u001b[00m\r\n",
      "├── ML_Model_Test.ipynb\r\n",
      "├── Potential_Shops_DataNormalization.ipynb\r\n",
      "└── \u001b[34;40mdata\u001b[00m\r\n",
      "    ├── Ads_Vouchers.csv\r\n",
      "    ├── Campaign_CFS.csv\r\n",
      "    ├── Listing_shops.csv\r\n",
      "    ├── Ops_GP.csv\r\n",
      "    ├── RawData.csv\r\n",
      "    ├── RawData_minmax.csv\r\n",
      "    └── Reviews_Response.csv\r\n",
      "\r\n",
      "1 directory, 9 files\r\n"
     ]
    }
   ],
   "source": [
    "!tree"
   ]
  },
  {
   "cell_type": "markdown",
   "metadata": {},
   "source": [
    "## Read Data"
   ]
  },
  {
   "cell_type": "code",
   "execution_count": 4,
   "metadata": {
    "ExecuteTime": {
     "end_time": "2020-05-11T05:56:34.646640Z",
     "start_time": "2020-05-11T05:56:34.643576Z"
    }
   },
   "outputs": [],
   "source": [
    "home_path = os.getcwd()\n",
    "\n",
    "f = home_path + '/data/RawData_minmax.csv'"
   ]
  },
  {
   "cell_type": "code",
   "execution_count": 5,
   "metadata": {
    "ExecuteTime": {
     "end_time": "2020-05-11T05:56:36.317138Z",
     "start_time": "2020-05-11T05:56:36.294932Z"
    }
   },
   "outputs": [
    {
     "data": {
      "text/plain": [
       "(1147, 44)"
      ]
     },
     "execution_count": 5,
     "metadata": {},
     "output_type": "execute_result"
    }
   ],
   "source": [
    "df = pd.read_csv(f)\n",
    "df.shape"
   ]
  },
  {
   "cell_type": "markdown",
   "metadata": {},
   "source": [
    "### Reset Columns"
   ]
  },
  {
   "cell_type": "code",
   "execution_count": 6,
   "metadata": {
    "ExecuteTime": {
     "end_time": "2020-05-11T05:56:39.042258Z",
     "start_time": "2020-05-11T05:56:39.034013Z"
    }
   },
   "outputs": [
    {
     "data": {
      "text/plain": [
       "44"
      ]
     },
     "execution_count": 6,
     "metadata": {},
     "output_type": "execute_result"
    },
    {
     "data": {
      "text/plain": [
       "44"
      ]
     },
     "execution_count": 6,
     "metadata": {},
     "output_type": "execute_result"
    }
   ],
   "source": [
    "columns = df.columns.to_list()\n",
    "len(columns)\n",
    "\n",
    "columns.insert(1, columns.pop(columns.index('Jan_ADO')))\n",
    "len(columns)\n",
    "\n",
    "df = df[columns]"
   ]
  },
  {
   "cell_type": "markdown",
   "metadata": {},
   "source": [
    "### Convert Main Category into Number"
   ]
  },
  {
   "cell_type": "markdown",
   "metadata": {},
   "source": [
    "* Health & Beauty = 1\n",
    "* Baby & Toys = 2\n",
    "* Groceries & Pets = 3"
   ]
  },
  {
   "cell_type": "code",
   "execution_count": 7,
   "metadata": {
    "ExecuteTime": {
     "end_time": "2020-05-11T05:56:40.568998Z",
     "start_time": "2020-05-11T05:56:40.542816Z"
    }
   },
   "outputs": [
    {
     "data": {
      "text/html": [
       "<div>\n",
       "<style scoped>\n",
       "    .dataframe tbody tr th:only-of-type {\n",
       "        vertical-align: middle;\n",
       "    }\n",
       "\n",
       "    .dataframe tbody tr th {\n",
       "        vertical-align: top;\n",
       "    }\n",
       "\n",
       "    .dataframe thead th {\n",
       "        text-align: right;\n",
       "    }\n",
       "</style>\n",
       "<table border=\"1\" class=\"dataframe\">\n",
       "  <thead>\n",
       "    <tr style=\"text-align: right;\">\n",
       "      <th></th>\n",
       "      <th>shopid</th>\n",
       "      <th>Jan_ADO</th>\n",
       "      <th>main_category</th>\n",
       "      <th>voucher_order_pct</th>\n",
       "      <th>item_rebate_order_pct</th>\n",
       "      <th>shipping_rebate_order_pct</th>\n",
       "      <th>shipping_order_pct</th>\n",
       "      <th>total_ads</th>\n",
       "      <th>ads_expen</th>\n",
       "      <th>ads_CTR</th>\n",
       "      <th>...</th>\n",
       "      <th>repeated_buyers_pctg</th>\n",
       "      <th>daily_sku_uploaded_30_days</th>\n",
       "      <th>daily_sku_uploaded_90_days</th>\n",
       "      <th>shops_under_same_ggp</th>\n",
       "      <th>ggp_ADO</th>\n",
       "      <th>APT_first_90d</th>\n",
       "      <th>penalty_pt</th>\n",
       "      <th>total_cmt_per_sku</th>\n",
       "      <th>total_cmt_img_per_sku</th>\n",
       "      <th>ave_rating</th>\n",
       "    </tr>\n",
       "  </thead>\n",
       "  <tbody>\n",
       "    <tr>\n",
       "      <th>0</th>\n",
       "      <td>152161805</td>\n",
       "      <td>0.005476</td>\n",
       "      <td>1</td>\n",
       "      <td>0.183333</td>\n",
       "      <td>0.950000</td>\n",
       "      <td>0.183333</td>\n",
       "      <td>0.333333</td>\n",
       "      <td>0.000000</td>\n",
       "      <td>0.000000</td>\n",
       "      <td>0.312342</td>\n",
       "      <td>...</td>\n",
       "      <td>0.0526</td>\n",
       "      <td>0.069794</td>\n",
       "      <td>0.141254</td>\n",
       "      <td>0.000000</td>\n",
       "      <td>0.000000</td>\n",
       "      <td>0.178689</td>\n",
       "      <td>0.0</td>\n",
       "      <td>0.000000</td>\n",
       "      <td>0.0</td>\n",
       "      <td>0.937114</td>\n",
       "    </tr>\n",
       "    <tr>\n",
       "      <th>1</th>\n",
       "      <td>141015275</td>\n",
       "      <td>0.000842</td>\n",
       "      <td>2</td>\n",
       "      <td>0.000000</td>\n",
       "      <td>0.666667</td>\n",
       "      <td>0.000000</td>\n",
       "      <td>0.333333</td>\n",
       "      <td>0.000000</td>\n",
       "      <td>0.000000</td>\n",
       "      <td>0.312342</td>\n",
       "      <td>...</td>\n",
       "      <td>0.0000</td>\n",
       "      <td>0.039531</td>\n",
       "      <td>0.023717</td>\n",
       "      <td>0.000559</td>\n",
       "      <td>0.000035</td>\n",
       "      <td>0.481384</td>\n",
       "      <td>0.0</td>\n",
       "      <td>0.015339</td>\n",
       "      <td>0.0</td>\n",
       "      <td>1.000000</td>\n",
       "    </tr>\n",
       "    <tr>\n",
       "      <th>2</th>\n",
       "      <td>145148441</td>\n",
       "      <td>0.004212</td>\n",
       "      <td>2</td>\n",
       "      <td>0.333333</td>\n",
       "      <td>1.000000</td>\n",
       "      <td>0.000000</td>\n",
       "      <td>0.000000</td>\n",
       "      <td>0.012579</td>\n",
       "      <td>0.006451</td>\n",
       "      <td>0.127327</td>\n",
       "      <td>...</td>\n",
       "      <td>0.0000</td>\n",
       "      <td>0.041612</td>\n",
       "      <td>0.039725</td>\n",
       "      <td>0.000000</td>\n",
       "      <td>0.000000</td>\n",
       "      <td>0.161461</td>\n",
       "      <td>0.0</td>\n",
       "      <td>0.015339</td>\n",
       "      <td>0.0</td>\n",
       "      <td>0.750000</td>\n",
       "    </tr>\n",
       "  </tbody>\n",
       "</table>\n",
       "<p>3 rows × 44 columns</p>\n",
       "</div>"
      ],
      "text/plain": [
       "      shopid   Jan_ADO  main_category  voucher_order_pct  \\\n",
       "0  152161805  0.005476              1           0.183333   \n",
       "1  141015275  0.000842              2           0.000000   \n",
       "2  145148441  0.004212              2           0.333333   \n",
       "\n",
       "   item_rebate_order_pct  shipping_rebate_order_pct  shipping_order_pct  \\\n",
       "0               0.950000                   0.183333            0.333333   \n",
       "1               0.666667                   0.000000            0.333333   \n",
       "2               1.000000                   0.000000            0.000000   \n",
       "\n",
       "   total_ads  ads_expen   ads_CTR  ...  repeated_buyers_pctg  \\\n",
       "0   0.000000   0.000000  0.312342  ...                0.0526   \n",
       "1   0.000000   0.000000  0.312342  ...                0.0000   \n",
       "2   0.012579   0.006451  0.127327  ...                0.0000   \n",
       "\n",
       "   daily_sku_uploaded_30_days  daily_sku_uploaded_90_days  \\\n",
       "0                    0.069794                    0.141254   \n",
       "1                    0.039531                    0.023717   \n",
       "2                    0.041612                    0.039725   \n",
       "\n",
       "   shops_under_same_ggp   ggp_ADO  APT_first_90d  penalty_pt  \\\n",
       "0              0.000000  0.000000       0.178689         0.0   \n",
       "1              0.000559  0.000035       0.481384         0.0   \n",
       "2              0.000000  0.000000       0.161461         0.0   \n",
       "\n",
       "   total_cmt_per_sku  total_cmt_img_per_sku  ave_rating  \n",
       "0           0.000000                    0.0    0.937114  \n",
       "1           0.015339                    0.0    1.000000  \n",
       "2           0.015339                    0.0    0.750000  \n",
       "\n",
       "[3 rows x 44 columns]"
      ]
     },
     "execution_count": 7,
     "metadata": {},
     "output_type": "execute_result"
    }
   ],
   "source": [
    "df['main_category'] = df.main_category.apply(lambda x: 1 if x == 'Health & Beauty' else x)\n",
    "df['main_category'] = df.main_category.apply(lambda x: 2 if x == 'Baby & Toys' else x)\n",
    "df['main_category'] = df.main_category.apply(lambda x: 3 if x == 'Groceries & Pets' else x)\n",
    "df.head(3)"
   ]
  },
  {
   "cell_type": "markdown",
   "metadata": {},
   "source": [
    "### Define Jan_ADO Threshold"
   ]
  },
  {
   "cell_type": "code",
   "execution_count": 8,
   "metadata": {
    "ExecuteTime": {
     "end_time": "2020-05-11T05:56:44.321078Z",
     "start_time": "2020-05-11T05:56:43.999167Z"
    },
    "scrolled": true
   },
   "outputs": [
    {
     "data": {
      "text/plain": [
       "<matplotlib.axes._subplots.AxesSubplot at 0x1a1c2a5710>"
      ]
     },
     "execution_count": 8,
     "metadata": {},
     "output_type": "execute_result"
    },
    {
     "data": {
      "image/png": "[encoded data removed]",
      "text/plain": [
       "<Figure size 432x288 with 1 Axes>"
      ]
     },
     "metadata": {},
     "output_type": "display_data"
    }
   ],
   "source": [
    "sns.distplot(df.Jan_ADO, kde=True)"
   ]
  },
  {
   "cell_type": "code",
   "execution_count": 9,
   "metadata": {
    "ExecuteTime": {
     "end_time": "2020-05-11T05:57:53.278622Z",
     "start_time": "2020-05-11T05:57:53.275922Z"
    }
   },
   "outputs": [],
   "source": [
    "performance = df.Jan_ADO.to_list()"
   ]
  },
  {
   "cell_type": "code",
   "execution_count": 131,
   "metadata": {
    "ExecuteTime": {
     "end_time": "2020-05-11T06:07:05.708298Z",
     "start_time": "2020-05-11T06:07:05.703562Z"
    }
   },
   "outputs": [
    {
     "data": {
      "text/plain": [
       "array([0.00042123, 0.07274642])"
      ]
     },
     "execution_count": 131,
     "metadata": {},
     "output_type": "execute_result"
    }
   ],
   "source": [
    "np.percentile(performance, [50, 95])"
   ]
  },
  {
   "cell_type": "code",
   "execution_count": 132,
   "metadata": {
    "ExecuteTime": {
     "end_time": "2020-05-11T06:07:12.056195Z",
     "start_time": "2020-05-11T06:07:12.052643Z"
    }
   },
   "outputs": [],
   "source": [
    "# Define threshold\n",
    "def target_label(x):\n",
    "    if x <= 0.00042123:\n",
    "        x = 0\n",
    "    elif x > 0.00042123 and x <= 0.07274642:\n",
    "        x = 1\n",
    "    else:\n",
    "        x = 2\n",
    "    return x"
   ]
  },
  {
   "cell_type": "code",
   "execution_count": 133,
   "metadata": {
    "ExecuteTime": {
     "end_time": "2020-05-11T06:07:12.623263Z",
     "start_time": "2020-05-11T06:07:12.601905Z"
    }
   },
   "outputs": [
    {
     "data": {
      "text/html": [
       "<div>\n",
       "<style scoped>\n",
       "    .dataframe tbody tr th:only-of-type {\n",
       "        vertical-align: middle;\n",
       "    }\n",
       "\n",
       "    .dataframe tbody tr th {\n",
       "        vertical-align: top;\n",
       "    }\n",
       "\n",
       "    .dataframe thead th {\n",
       "        text-align: right;\n",
       "    }\n",
       "</style>\n",
       "<table border=\"1\" class=\"dataframe\">\n",
       "  <thead>\n",
       "    <tr style=\"text-align: right;\">\n",
       "      <th></th>\n",
       "      <th>Jan_ADO</th>\n",
       "      <th>main_category</th>\n",
       "      <th>voucher_order_pct</th>\n",
       "      <th>item_rebate_order_pct</th>\n",
       "      <th>shipping_rebate_order_pct</th>\n",
       "      <th>shipping_order_pct</th>\n",
       "      <th>total_ads</th>\n",
       "      <th>ads_expen</th>\n",
       "      <th>ads_CTR</th>\n",
       "      <th>ads_ROI</th>\n",
       "      <th>...</th>\n",
       "      <th>repeated_buyers_pctg</th>\n",
       "      <th>daily_sku_uploaded_30_days</th>\n",
       "      <th>daily_sku_uploaded_90_days</th>\n",
       "      <th>shops_under_same_ggp</th>\n",
       "      <th>ggp_ADO</th>\n",
       "      <th>APT_first_90d</th>\n",
       "      <th>penalty_pt</th>\n",
       "      <th>total_cmt_per_sku</th>\n",
       "      <th>total_cmt_img_per_sku</th>\n",
       "      <th>ave_rating</th>\n",
       "    </tr>\n",
       "  </thead>\n",
       "  <tbody>\n",
       "    <tr>\n",
       "      <th>0</th>\n",
       "      <td>1</td>\n",
       "      <td>1</td>\n",
       "      <td>0.183333</td>\n",
       "      <td>0.950000</td>\n",
       "      <td>0.183333</td>\n",
       "      <td>0.333333</td>\n",
       "      <td>0.000000</td>\n",
       "      <td>0.000000</td>\n",
       "      <td>0.312342</td>\n",
       "      <td>0.024532</td>\n",
       "      <td>...</td>\n",
       "      <td>0.0526</td>\n",
       "      <td>0.069794</td>\n",
       "      <td>0.141254</td>\n",
       "      <td>0.000000</td>\n",
       "      <td>0.000000</td>\n",
       "      <td>0.178689</td>\n",
       "      <td>0.0</td>\n",
       "      <td>0.000000</td>\n",
       "      <td>0.0</td>\n",
       "      <td>0.937114</td>\n",
       "    </tr>\n",
       "    <tr>\n",
       "      <th>1</th>\n",
       "      <td>1</td>\n",
       "      <td>2</td>\n",
       "      <td>0.000000</td>\n",
       "      <td>0.666667</td>\n",
       "      <td>0.000000</td>\n",
       "      <td>0.333333</td>\n",
       "      <td>0.000000</td>\n",
       "      <td>0.000000</td>\n",
       "      <td>0.312342</td>\n",
       "      <td>0.024532</td>\n",
       "      <td>...</td>\n",
       "      <td>0.0000</td>\n",
       "      <td>0.039531</td>\n",
       "      <td>0.023717</td>\n",
       "      <td>0.000559</td>\n",
       "      <td>0.000035</td>\n",
       "      <td>0.481384</td>\n",
       "      <td>0.0</td>\n",
       "      <td>0.015339</td>\n",
       "      <td>0.0</td>\n",
       "      <td>1.000000</td>\n",
       "    </tr>\n",
       "    <tr>\n",
       "      <th>2</th>\n",
       "      <td>1</td>\n",
       "      <td>2</td>\n",
       "      <td>0.333333</td>\n",
       "      <td>1.000000</td>\n",
       "      <td>0.000000</td>\n",
       "      <td>0.000000</td>\n",
       "      <td>0.012579</td>\n",
       "      <td>0.006451</td>\n",
       "      <td>0.127327</td>\n",
       "      <td>0.000000</td>\n",
       "      <td>...</td>\n",
       "      <td>0.0000</td>\n",
       "      <td>0.041612</td>\n",
       "      <td>0.039725</td>\n",
       "      <td>0.000000</td>\n",
       "      <td>0.000000</td>\n",
       "      <td>0.161461</td>\n",
       "      <td>0.0</td>\n",
       "      <td>0.015339</td>\n",
       "      <td>0.0</td>\n",
       "      <td>0.750000</td>\n",
       "    </tr>\n",
       "  </tbody>\n",
       "</table>\n",
       "<p>3 rows × 43 columns</p>\n",
       "</div>"
      ],
      "text/plain": [
       "   Jan_ADO  main_category  voucher_order_pct  item_rebate_order_pct  \\\n",
       "0        1              1           0.183333               0.950000   \n",
       "1        1              2           0.000000               0.666667   \n",
       "2        1              2           0.333333               1.000000   \n",
       "\n",
       "   shipping_rebate_order_pct  shipping_order_pct  total_ads  ads_expen  \\\n",
       "0                   0.183333            0.333333   0.000000   0.000000   \n",
       "1                   0.000000            0.333333   0.000000   0.000000   \n",
       "2                   0.000000            0.000000   0.012579   0.006451   \n",
       "\n",
       "    ads_CTR   ads_ROI  ...  repeated_buyers_pctg  daily_sku_uploaded_30_days  \\\n",
       "0  0.312342  0.024532  ...                0.0526                    0.069794   \n",
       "1  0.312342  0.024532  ...                0.0000                    0.039531   \n",
       "2  0.127327  0.000000  ...                0.0000                    0.041612   \n",
       "\n",
       "   daily_sku_uploaded_90_days  shops_under_same_ggp   ggp_ADO  APT_first_90d  \\\n",
       "0                    0.141254              0.000000  0.000000       0.178689   \n",
       "1                    0.023717              0.000559  0.000035       0.481384   \n",
       "2                    0.039725              0.000000  0.000000       0.161461   \n",
       "\n",
       "   penalty_pt  total_cmt_per_sku  total_cmt_img_per_sku  ave_rating  \n",
       "0         0.0           0.000000                    0.0    0.937114  \n",
       "1         0.0           0.015339                    0.0    1.000000  \n",
       "2         0.0           0.015339                    0.0    0.750000  \n",
       "\n",
       "[3 rows x 43 columns]"
      ]
     },
     "execution_count": 133,
     "metadata": {},
     "output_type": "execute_result"
    }
   ],
   "source": [
    "data = df.iloc[:, 1:]\n",
    "data['Jan_ADO'] = data.Jan_ADO.apply(target_label)\n",
    "data.head(3)"
   ]
  },
  {
   "cell_type": "markdown",
   "metadata": {},
   "source": [
    "### Split Data Set"
   ]
  },
  {
   "cell_type": "code",
   "execution_count": 134,
   "metadata": {
    "ExecuteTime": {
     "end_time": "2020-05-11T06:07:13.606833Z",
     "start_time": "2020-05-11T06:07:13.341229Z"
    }
   },
   "outputs": [
    {
     "name": "stdout",
     "output_type": "stream",
     "text": [
      "(1147, 42) | (1147, 1)\n",
      "0: 609 1: 480 2: 58\n"
     ]
    },
    {
     "data": {
      "text/plain": [
       "<matplotlib.axes._subplots.AxesSubplot at 0x1a1c540dd0>"
      ]
     },
     "execution_count": 134,
     "metadata": {},
     "output_type": "execute_result"
    },
    {
     "data": {
      "image/png": "[encoded data removed]",
      "text/plain": [
       "<Figure size 432x288 with 1 Axes>"
      ]
     },
     "metadata": {},
     "output_type": "display_data"
    }
   ],
   "source": [
    "X = data.iloc[:, 1:]\n",
    "y = data.iloc[:, :1]\n",
    "\n",
    "print(X.shape, '|', y.shape)\n",
    "\n",
    "print('0:', len(y[y.Jan_ADO == 0]), \n",
    "      '1:', len(y[y.Jan_ADO == 1]),\n",
    "      '2:', len(y[y.Jan_ADO == 2]))\n",
    "\n",
    "sns.distplot(y, kde=False)"
   ]
  },
  {
   "cell_type": "code",
   "execution_count": 135,
   "metadata": {
    "ExecuteTime": {
     "end_time": "2020-05-11T06:07:14.318698Z",
     "start_time": "2020-05-11T06:07:14.312971Z"
    }
   },
   "outputs": [
    {
     "name": "stdout",
     "output_type": "stream",
     "text": [
      "0 main_category\n",
      "1 voucher_order_pct\n",
      "2 item_rebate_order_pct\n",
      "3 shipping_rebate_order_pct\n",
      "4 shipping_order_pct\n",
      "5 total_ads\n",
      "6 ads_expen\n",
      "7 ads_CTR\n",
      "8 ads_ROI\n",
      "9 ads_CPC\n",
      "10 ads_CR\n",
      "11 collection_slots\n",
      "12 collection_times\n",
      "13 collection_order\n",
      "14 days_until_first_collection\n",
      "15 ADO_bf_first_collection\n",
      "16 ADO_first_collection_order\n",
      "17 ADO_af_first_collection\n",
      "18 ADO_uplift_first_collection\n",
      "19 cfs_slots\n",
      "20 cfs_order\n",
      "21 ADO_in_the_third_month\n",
      "22 HotSKU_num\n",
      "23 CTR\n",
      "24 CR\n",
      "25 ten_order_days\n",
      "26 avg_img_count\n",
      "27 price_match_pctg\n",
      "28 current_vshop_pctg\n",
      "29 first_vshop_pctg\n",
      "30 tail_pctg\n",
      "31 num_buyers\n",
      "32 repeated_buyers_pctg\n",
      "33 daily_sku_uploaded_30_days\n",
      "34 daily_sku_uploaded_90_days\n",
      "35 shops_under_same_ggp\n",
      "36 ggp_ADO\n",
      "37 APT_first_90d\n",
      "38 penalty_pt\n",
      "39 total_cmt_per_sku\n",
      "40 total_cmt_img_per_sku\n",
      "41 ave_rating\n"
     ]
    }
   ],
   "source": [
    "for index, value in enumerate(X.columns.to_list()):\n",
    "    print(index, value)"
   ]
  },
  {
   "cell_type": "markdown",
   "metadata": {},
   "source": [
    "## Models"
   ]
  },
  {
   "cell_type": "code",
   "execution_count": 136,
   "metadata": {
    "ExecuteTime": {
     "end_time": "2020-05-11T06:07:15.492457Z",
     "start_time": "2020-05-11T06:07:15.488655Z"
    }
   },
   "outputs": [],
   "source": [
    "def TestResultPrinter(X_test, y_test, y_pred):\n",
    "    test_size = len(X_test)\n",
    "    col = y_test.columns[0]\n",
    "    mislabeled_size = (y_test[col].to_list() != y_pred).sum()\n",
    "    \n",
    "    print('* Number of mislabeled points out of a total %d points: %d' % (test_size, mislabeled_size))"
   ]
  },
  {
   "cell_type": "code",
   "execution_count": 137,
   "metadata": {
    "ExecuteTime": {
     "end_time": "2020-05-11T06:07:16.080241Z",
     "start_time": "2020-05-11T06:07:16.071514Z"
    }
   },
   "outputs": [
    {
     "data": {
      "text/plain": [
       "(917, 42)"
      ]
     },
     "execution_count": 137,
     "metadata": {},
     "output_type": "execute_result"
    },
    {
     "data": {
      "text/plain": [
       "(230, 42)"
      ]
     },
     "execution_count": 137,
     "metadata": {},
     "output_type": "execute_result"
    }
   ],
   "source": [
    "X_train, X_test, y_train, y_test = train_test_split(X, y, test_size=0.2, random_state=0)\n",
    "\n",
    "X_train.shape\n",
    "X_test.shape"
   ]
  },
  {
   "cell_type": "code",
   "execution_count": 138,
   "metadata": {
    "ExecuteTime": {
     "end_time": "2020-05-11T06:07:16.795303Z",
     "start_time": "2020-05-11T06:07:16.774503Z"
    }
   },
   "outputs": [
    {
     "data": {
      "text/html": [
       "<div>\n",
       "<style scoped>\n",
       "    .dataframe tbody tr th:only-of-type {\n",
       "        vertical-align: middle;\n",
       "    }\n",
       "\n",
       "    .dataframe tbody tr th {\n",
       "        vertical-align: top;\n",
       "    }\n",
       "\n",
       "    .dataframe thead th {\n",
       "        text-align: right;\n",
       "    }\n",
       "</style>\n",
       "<table border=\"1\" class=\"dataframe\">\n",
       "  <thead>\n",
       "    <tr style=\"text-align: right;\">\n",
       "      <th></th>\n",
       "      <th>Jan_ADO</th>\n",
       "      <th>main_category</th>\n",
       "      <th>voucher_order_pct</th>\n",
       "      <th>item_rebate_order_pct</th>\n",
       "      <th>shipping_rebate_order_pct</th>\n",
       "      <th>shipping_order_pct</th>\n",
       "      <th>total_ads</th>\n",
       "      <th>ads_expen</th>\n",
       "      <th>ads_CTR</th>\n",
       "      <th>ads_ROI</th>\n",
       "      <th>...</th>\n",
       "      <th>repeated_buyers_pctg</th>\n",
       "      <th>daily_sku_uploaded_30_days</th>\n",
       "      <th>daily_sku_uploaded_90_days</th>\n",
       "      <th>shops_under_same_ggp</th>\n",
       "      <th>ggp_ADO</th>\n",
       "      <th>APT_first_90d</th>\n",
       "      <th>penalty_pt</th>\n",
       "      <th>total_cmt_per_sku</th>\n",
       "      <th>total_cmt_img_per_sku</th>\n",
       "      <th>ave_rating</th>\n",
       "    </tr>\n",
       "  </thead>\n",
       "  <tbody>\n",
       "    <tr>\n",
       "      <th>0</th>\n",
       "      <td>2</td>\n",
       "      <td>2</td>\n",
       "      <td>0.050000</td>\n",
       "      <td>0.950000</td>\n",
       "      <td>0.35000</td>\n",
       "      <td>0.350000</td>\n",
       "      <td>0.0</td>\n",
       "      <td>0.0</td>\n",
       "      <td>0.312342</td>\n",
       "      <td>0.024532</td>\n",
       "      <td>...</td>\n",
       "      <td>0.0476</td>\n",
       "      <td>0.107055</td>\n",
       "      <td>0.076177</td>\n",
       "      <td>0.0</td>\n",
       "      <td>0.0</td>\n",
       "      <td>0.105551</td>\n",
       "      <td>0.0</td>\n",
       "      <td>0.033965</td>\n",
       "      <td>0.053571</td>\n",
       "      <td>1.000000</td>\n",
       "    </tr>\n",
       "    <tr>\n",
       "      <th>1</th>\n",
       "      <td>1</td>\n",
       "      <td>1</td>\n",
       "      <td>0.146341</td>\n",
       "      <td>0.804878</td>\n",
       "      <td>0.04878</td>\n",
       "      <td>0.926829</td>\n",
       "      <td>0.0</td>\n",
       "      <td>0.0</td>\n",
       "      <td>0.312342</td>\n",
       "      <td>0.024532</td>\n",
       "      <td>...</td>\n",
       "      <td>0.1053</td>\n",
       "      <td>0.320220</td>\n",
       "      <td>0.525762</td>\n",
       "      <td>0.0</td>\n",
       "      <td>0.0</td>\n",
       "      <td>0.197908</td>\n",
       "      <td>0.0</td>\n",
       "      <td>0.000000</td>\n",
       "      <td>0.000000</td>\n",
       "      <td>0.937114</td>\n",
       "    </tr>\n",
       "    <tr>\n",
       "      <th>2</th>\n",
       "      <td>0</td>\n",
       "      <td>2</td>\n",
       "      <td>0.142857</td>\n",
       "      <td>0.000000</td>\n",
       "      <td>0.47619</td>\n",
       "      <td>0.428571</td>\n",
       "      <td>0.0</td>\n",
       "      <td>0.0</td>\n",
       "      <td>0.312342</td>\n",
       "      <td>0.024532</td>\n",
       "      <td>...</td>\n",
       "      <td>0.0500</td>\n",
       "      <td>0.181577</td>\n",
       "      <td>0.242318</td>\n",
       "      <td>0.0</td>\n",
       "      <td>0.0</td>\n",
       "      <td>0.214535</td>\n",
       "      <td>0.0</td>\n",
       "      <td>0.000000</td>\n",
       "      <td>0.000000</td>\n",
       "      <td>0.937114</td>\n",
       "    </tr>\n",
       "  </tbody>\n",
       "</table>\n",
       "<p>3 rows × 43 columns</p>\n",
       "</div>"
      ],
      "text/plain": [
       "   Jan_ADO  main_category  voucher_order_pct  item_rebate_order_pct  \\\n",
       "0        2              2           0.050000               0.950000   \n",
       "1        1              1           0.146341               0.804878   \n",
       "2        0              2           0.142857               0.000000   \n",
       "\n",
       "   shipping_rebate_order_pct  shipping_order_pct  total_ads  ads_expen  \\\n",
       "0                    0.35000            0.350000        0.0        0.0   \n",
       "1                    0.04878            0.926829        0.0        0.0   \n",
       "2                    0.47619            0.428571        0.0        0.0   \n",
       "\n",
       "    ads_CTR   ads_ROI  ...  repeated_buyers_pctg  daily_sku_uploaded_30_days  \\\n",
       "0  0.312342  0.024532  ...                0.0476                    0.107055   \n",
       "1  0.312342  0.024532  ...                0.1053                    0.320220   \n",
       "2  0.312342  0.024532  ...                0.0500                    0.181577   \n",
       "\n",
       "   daily_sku_uploaded_90_days  shops_under_same_ggp  ggp_ADO  APT_first_90d  \\\n",
       "0                    0.076177                   0.0      0.0       0.105551   \n",
       "1                    0.525762                   0.0      0.0       0.197908   \n",
       "2                    0.242318                   0.0      0.0       0.214535   \n",
       "\n",
       "   penalty_pt  total_cmt_per_sku  total_cmt_img_per_sku  ave_rating  \n",
       "0         0.0           0.033965               0.053571    1.000000  \n",
       "1         0.0           0.000000               0.000000    0.937114  \n",
       "2         0.0           0.000000               0.000000    0.937114  \n",
       "\n",
       "[3 rows x 43 columns]"
      ]
     },
     "execution_count": 138,
     "metadata": {},
     "output_type": "execute_result"
    }
   ],
   "source": [
    "test_df = y_test.join(X_test)\n",
    "test_df.reset_index(drop=True, inplace=True)\n",
    "test_df.head(3)"
   ]
  },
  {
   "cell_type": "markdown",
   "metadata": {},
   "source": [
    "### SVM"
   ]
  },
  {
   "cell_type": "code",
   "execution_count": 139,
   "metadata": {
    "ExecuteTime": {
     "end_time": "2020-05-11T06:07:18.273872Z",
     "start_time": "2020-05-11T06:07:17.784914Z"
    }
   },
   "outputs": [
    {
     "name": "stdout",
     "output_type": "stream",
     "text": [
      "Accuracy: 0.75 (+/- 0.05)\n"
     ]
    }
   ],
   "source": [
    "clf1 = svm.SVC(C = 1, kernel = 'rbf', gamma = 'auto')\n",
    "\n",
    "scores = cross_val_score(clf1, X, y, cv=10)\n",
    "print('Accuracy: %.2f (+/- %.2f)' % (scores.mean(), scores.std()*2))\n",
    "\n",
    "# clf1.fit(X_train, y_train)\n",
    "# clf1.score(X_test, y_test)"
   ]
  },
  {
   "cell_type": "code",
   "execution_count": 140,
   "metadata": {
    "ExecuteTime": {
     "end_time": "2020-05-11T06:07:21.643069Z",
     "start_time": "2020-05-11T06:07:21.638499Z"
    }
   },
   "outputs": [
    {
     "data": {
      "text/plain": [
       "array([2, 1, 0, 1, 0, 1, 1, 1, 0, 1, 1, 1, 0, 0, 1, 0, 1, 1, 0, 0, 1, 0,\n",
       "       0, 1, 1, 1, 0, 1, 0, 0, 1, 0, 1, 0, 0, 1, 0, 2, 1, 1, 1, 1, 1, 0,\n",
       "       0, 2, 0, 1, 1, 0, 0, 0, 1, 0, 1, 0, 0, 0, 1, 2, 0, 2, 1, 0, 2, 0,\n",
       "       0, 0, 1, 0, 2, 0, 0, 0, 0, 1, 0, 1, 0, 0, 0, 0, 0, 1, 0, 0, 0, 0,\n",
       "       0, 0, 1, 0, 0, 0, 1, 0, 0, 0, 1, 1, 0, 0, 0, 0, 1, 0, 2, 0, 0, 0,\n",
       "       1, 0, 0, 1, 0, 0, 0, 0, 1, 1, 1, 0, 1, 0, 0, 0, 0, 0, 0, 1, 1, 1,\n",
       "       0, 1, 2, 1, 0, 0, 0, 2, 0, 2, 1, 1, 2, 0, 0, 0, 1, 1, 1, 0, 0, 0,\n",
       "       0, 0, 0, 1, 1, 0, 1, 2, 0, 0, 0, 1, 1, 1, 1, 0, 1, 0, 0, 0, 0, 0,\n",
       "       0, 1, 1, 0, 0, 2, 1, 0, 0, 1, 0, 0, 0, 0, 0, 0, 0, 1, 0, 1, 0, 0,\n",
       "       1, 1, 0, 1, 0, 0, 0, 1, 1, 1, 0, 1, 0, 0, 1, 1, 0, 0, 1, 0, 0, 0,\n",
       "       0, 0, 1, 0, 1, 0, 0, 2, 0, 1])"
      ]
     },
     "execution_count": 140,
     "metadata": {},
     "output_type": "execute_result"
    }
   ],
   "source": [
    "np.array(y_test.Jan_ADO.to_list())"
   ]
  },
  {
   "cell_type": "code",
   "execution_count": 141,
   "metadata": {
    "ExecuteTime": {
     "end_time": "2020-05-11T06:07:22.478236Z",
     "start_time": "2020-05-11T06:07:22.397280Z"
    }
   },
   "outputs": [
    {
     "data": {
      "text/plain": [
       "SVC(C=1, cache_size=200, class_weight=None, coef0=0.0,\n",
       "    decision_function_shape='ovr', degree=3, gamma='auto', kernel='rbf',\n",
       "    max_iter=-1, probability=False, random_state=None, shrinking=True,\n",
       "    tol=0.001, verbose=False)"
      ]
     },
     "execution_count": 141,
     "metadata": {},
     "output_type": "execute_result"
    },
    {
     "data": {
      "text/plain": [
       "array([1, 1, 1, 1, 0, 1, 1, 1, 0, 0, 0, 1, 0, 0, 1, 0, 1, 1, 0, 0, 1, 0,\n",
       "       0, 1, 1, 1, 0, 1, 0, 0, 1, 1, 1, 0, 0, 1, 0, 1, 1, 1, 0, 1, 1, 0,\n",
       "       1, 1, 0, 0, 0, 1, 1, 0, 1, 0, 1, 1, 0, 0, 1, 1, 1, 1, 1, 0, 1, 0,\n",
       "       0, 0, 0, 0, 1, 1, 0, 0, 0, 1, 1, 1, 0, 1, 0, 0, 0, 1, 0, 1, 0, 1,\n",
       "       0, 0, 1, 0, 0, 1, 0, 1, 0, 0, 1, 0, 0, 0, 0, 0, 1, 0, 1, 0, 1, 0,\n",
       "       1, 0, 0, 1, 0, 0, 0, 0, 1, 1, 1, 0, 0, 0, 0, 0, 0, 0, 0, 0, 1, 0,\n",
       "       1, 1, 1, 0, 0, 0, 0, 1, 0, 1, 1, 1, 0, 0, 0, 0, 1, 1, 1, 0, 0, 0,\n",
       "       1, 1, 1, 1, 1, 0, 1, 0, 0, 1, 1, 1, 1, 1, 0, 0, 1, 0, 0, 0, 1, 0,\n",
       "       0, 1, 0, 1, 0, 1, 1, 1, 0, 1, 0, 0, 1, 0, 1, 0, 0, 1, 1, 1, 0, 0,\n",
       "       0, 0, 0, 0, 0, 0, 1, 1, 1, 1, 0, 1, 1, 0, 1, 1, 1, 0, 1, 0, 0, 1,\n",
       "       1, 0, 0, 0, 1, 0, 0, 1, 0, 1])"
      ]
     },
     "execution_count": 141,
     "metadata": {},
     "output_type": "execute_result"
    },
    {
     "name": "stdout",
     "output_type": "stream",
     "text": [
      "* Number of mislabeled points out of a total 230 points: 65\n"
     ]
    }
   ],
   "source": [
    "clf1.fit(X, y)\n",
    "y_pred = clf1.predict(X_test)\n",
    "y_pred\n",
    "\n",
    "TestResultPrinter(X_test, y_test, y_pred)"
   ]
  },
  {
   "cell_type": "markdown",
   "metadata": {},
   "source": [
    "### Decision Tree"
   ]
  },
  {
   "cell_type": "code",
   "execution_count": 154,
   "metadata": {
    "ExecuteTime": {
     "end_time": "2020-05-11T06:11:32.937119Z",
     "start_time": "2020-05-11T06:11:32.838290Z"
    }
   },
   "outputs": [
    {
     "name": "stdout",
     "output_type": "stream",
     "text": [
      "Accuracy: 0.73 (+/- 0.06)\n"
     ]
    }
   ],
   "source": [
    "clf2 = tree.DecisionTreeClassifier(max_depth = 3,\n",
    "                                   splitter='best',\n",
    "                                   criterion = 'gini',\n",
    "                                   min_samples_leaf = 1)\n",
    "\n",
    "scores = cross_val_score(clf2, X, y, cv=10)\n",
    "print('Accuracy: %.2f (+/- %.2f)' % (scores.mean(), scores.std()*2))\n",
    "\n",
    "# clf2 = clf2.fit(X_train, y_train)\n",
    "# clf2.score(X_test, y_test)"
   ]
  },
  {
   "cell_type": "code",
   "execution_count": 155,
   "metadata": {
    "ExecuteTime": {
     "end_time": "2020-05-11T06:11:35.237758Z",
     "start_time": "2020-05-11T06:11:35.221314Z"
    }
   },
   "outputs": [
    {
     "data": {
      "text/plain": [
       "DecisionTreeClassifier(class_weight=None, criterion='gini', max_depth=3,\n",
       "                       max_features=None, max_leaf_nodes=None,\n",
       "                       min_impurity_decrease=0.0, min_impurity_split=None,\n",
       "                       min_samples_leaf=1, min_samples_split=2,\n",
       "                       min_weight_fraction_leaf=0.0, presort=False,\n",
       "                       random_state=None, splitter='best')"
      ]
     },
     "execution_count": 155,
     "metadata": {},
     "output_type": "execute_result"
    },
    {
     "data": {
      "text/plain": [
       "array([1, 1, 1, 1, 0, 1, 2, 1, 0, 0, 0, 1, 0, 0, 1, 0, 1, 1, 0, 0, 1, 0,\n",
       "       0, 1, 1, 1, 0, 1, 1, 0, 1, 1, 1, 0, 1, 1, 0, 2, 1, 1, 0, 1, 1, 0,\n",
       "       1, 1, 0, 1, 0, 0, 1, 0, 2, 0, 1, 1, 0, 0, 1, 1, 0, 2, 1, 1, 1, 0,\n",
       "       0, 0, 0, 0, 1, 1, 0, 0, 1, 1, 1, 1, 0, 0, 0, 0, 0, 1, 0, 1, 0, 1,\n",
       "       0, 0, 1, 0, 0, 1, 0, 1, 0, 1, 1, 1, 0, 0, 0, 0, 1, 0, 1, 0, 1, 0,\n",
       "       1, 0, 0, 1, 1, 0, 0, 0, 1, 1, 1, 0, 0, 0, 0, 0, 0, 0, 1, 0, 1, 0,\n",
       "       1, 1, 1, 0, 0, 0, 0, 2, 0, 1, 1, 1, 1, 0, 0, 0, 2, 1, 1, 0, 0, 0,\n",
       "       1, 1, 1, 2, 1, 0, 1, 1, 0, 1, 1, 0, 1, 1, 1, 0, 1, 0, 0, 0, 0, 0,\n",
       "       0, 1, 1, 1, 0, 1, 1, 0, 0, 1, 0, 0, 1, 0, 0, 0, 0, 1, 1, 1, 0, 0,\n",
       "       1, 0, 0, 0, 0, 0, 1, 1, 1, 1, 0, 1, 1, 0, 1, 1, 1, 0, 1, 0, 0, 1,\n",
       "       1, 0, 1, 0, 1, 0, 0, 1, 0, 1])"
      ]
     },
     "execution_count": 155,
     "metadata": {},
     "output_type": "execute_result"
    },
    {
     "name": "stdout",
     "output_type": "stream",
     "text": [
      "* Number of mislabeled points out of a total 230 points: 62\n"
     ]
    }
   ],
   "source": [
    "clf2.fit(X, y)\n",
    "y_pred = clf2.predict(X_test)\n",
    "y_pred\n",
    "\n",
    "TestResultPrinter(X_test, y_test, y_pred)"
   ]
  },
  {
   "cell_type": "code",
   "execution_count": 202,
   "metadata": {
    "ExecuteTime": {
     "end_time": "2020-05-11T06:26:11.317729Z",
     "start_time": "2020-05-11T06:26:11.311101Z"
    }
   },
   "outputs": [
    {
     "data": {
      "text/plain": [
       "array([0.        , 0.        , 0.        , 0.        , 0.        ,\n",
       "       0.        , 0.        , 0.        , 0.        , 0.        ,\n",
       "       0.        , 0.        , 0.        , 0.        , 0.        ,\n",
       "       0.        , 0.        , 0.        , 0.        , 0.        ,\n",
       "       0.        , 0.85176087, 0.03746385, 0.        , 0.07243255,\n",
       "       0.01863798, 0.        , 0.        , 0.        , 0.01970475,\n",
       "       0.        , 0.        , 0.        , 0.        , 0.        ,\n",
       "       0.        , 0.        , 0.        , 0.        , 0.        ,\n",
       "       0.        , 0.        ])"
      ]
     },
     "execution_count": 202,
     "metadata": {},
     "output_type": "execute_result"
    },
    {
     "name": "stdout",
     "output_type": "stream",
     "text": [
      "ADO_in_the_third_month --- 0.8517608681657907\n",
      "HotSKU_num --- 0.03746385007062863\n",
      "CR --- 0.07243255239178098\n",
      "ten_order_days --- 0.018637975130565674\n",
      "first_vshop_pctg --- 0.019704754241234072\n"
     ]
    }
   ],
   "source": [
    "clf2.feature_importances_\n",
    "index_list = np.argwhere(clf2.feature_importances_ > 0)\n",
    "\n",
    "for i in index_list:\n",
    "    _ = i[0]\n",
    "    print(X.columns.to_list()[_], '---', clf2.feature_importances_[_])"
   ]
  },
  {
   "cell_type": "code",
   "execution_count": 203,
   "metadata": {
    "ExecuteTime": {
     "end_time": "2020-05-11T06:26:36.810593Z",
     "start_time": "2020-05-11T06:26:36.352867Z"
    }
   },
   "outputs": [
    {
     "data": {
      "text/plain": [
       "[Text(167.4, 190.26, 'node #0\\nX[31] <= 0.009\\ngini = 0.534\\nsamples = 230\\nvalue = [133, 82, 15]'),\n",
       " Text(83.7, 135.9, 'node #1\\nX[21] <= 0.003\\ngini = 0.366\\nsamples = 168\\nvalue = [129, 35, 4]'),\n",
       " Text(41.85, 81.53999999999999, 'node #2\\nX[33] <= 0.133\\ngini = 0.207\\nsamples = 111\\nvalue = [98, 13, 0]'),\n",
       " Text(20.925, 27.180000000000007, 'node #3\\ngini = 0.147\\nsamples = 100\\nvalue = [92, 8, 0]'),\n",
       " Text(62.775000000000006, 27.180000000000007, 'node #4\\ngini = 0.496\\nsamples = 11\\nvalue = [6, 5, 0]'),\n",
       " Text(125.55000000000001, 81.53999999999999, 'node #5\\nX[4] <= 0.093\\ngini = 0.55\\nsamples = 57\\nvalue = [31, 22, 4]'),\n",
       " Text(104.625, 27.180000000000007, 'node #6\\ngini = 0.43\\nsamples = 11\\nvalue = [2, 8, 1]'),\n",
       " Text(146.475, 27.180000000000007, 'node #7\\ngini = 0.506\\nsamples = 46\\nvalue = [29, 14, 3]'),\n",
       " Text(251.10000000000002, 135.9, 'node #8\\nX[21] <= 0.049\\ngini = 0.39\\nsamples = 62\\nvalue = [4, 47, 11]'),\n",
       " Text(209.25, 81.53999999999999, 'node #9\\nX[9] <= 0.219\\ngini = 0.264\\nsamples = 47\\nvalue = [4, 40, 3]'),\n",
       " Text(188.32500000000002, 27.180000000000007, 'node #10\\ngini = 0.168\\nsamples = 44\\nvalue = [3, 40, 1]'),\n",
       " Text(230.175, 27.180000000000007, 'node #11\\ngini = 0.444\\nsamples = 3\\nvalue = [1, 0, 2]'),\n",
       " Text(292.95, 81.53999999999999, 'node #12\\nX[37] <= 0.12\\ngini = 0.498\\nsamples = 15\\nvalue = [0, 7, 8]'),\n",
       " Text(272.02500000000003, 27.180000000000007, 'node #13\\ngini = 0.0\\nsamples = 5\\nvalue = [0, 5, 0]'),\n",
       " Text(313.875, 27.180000000000007, 'node #14\\ngini = 0.32\\nsamples = 10\\nvalue = [0, 2, 8]')]"
      ]
     },
     "execution_count": 203,
     "metadata": {},
     "output_type": "execute_result"
    },
    {
     "data": {
      "image/png": "[encoded data removed]",
      "text/plain": [
       "<Figure size 432x288 with 1 Axes>"
      ]
     },
     "metadata": {
      "needs_background": "light"
     },
     "output_type": "display_data"
    }
   ],
   "source": [
    "tree.plot_tree(clf2.fit(X_test, y_test), node_ids=True, fontsize=7) "
   ]
  },
  {
   "cell_type": "markdown",
   "metadata": {},
   "source": [
    "### Stochastic Gradient Descent"
   ]
  },
  {
   "cell_type": "code",
   "execution_count": 240,
   "metadata": {
    "ExecuteTime": {
     "end_time": "2020-05-11T06:31:33.472197Z",
     "start_time": "2020-05-11T06:31:33.157335Z"
    }
   },
   "outputs": [
    {
     "name": "stdout",
     "output_type": "stream",
     "text": [
      "Accuracy: 0.73 (+/- 0.05)\n"
     ]
    }
   ],
   "source": [
    "clf3 = SGDClassifier(loss = 'log',\n",
    "                     penalty = 'l2',\n",
    "                     tol=0.007,\n",
    "                     learning_rate = 'optimal',\n",
    "                     # eta0 = 0.09,\n",
    "                     n_iter_no_change = 9)\n",
    "\n",
    "scores = cross_val_score(clf3, X, y, cv=10)\n",
    "\n",
    "print('Accuracy: %.2f (+/- %.2f)' % (scores.mean(), scores.std()*2))"
   ]
  },
  {
   "cell_type": "code",
   "execution_count": 241,
   "metadata": {
    "ExecuteTime": {
     "end_time": "2020-05-11T06:31:35.506818Z",
     "start_time": "2020-05-11T06:31:35.462233Z"
    }
   },
   "outputs": [
    {
     "data": {
      "text/plain": [
       "SGDClassifier(alpha=0.0001, average=False, class_weight=None,\n",
       "              early_stopping=False, epsilon=0.1, eta0=0.0, fit_intercept=True,\n",
       "              l1_ratio=0.15, learning_rate='optimal', loss='log', max_iter=1000,\n",
       "              n_iter_no_change=9, n_jobs=None, penalty='l2', power_t=0.5,\n",
       "              random_state=None, shuffle=True, tol=0.007,\n",
       "              validation_fraction=0.1, verbose=0, warm_start=False)"
      ]
     },
     "execution_count": 241,
     "metadata": {},
     "output_type": "execute_result"
    },
    {
     "data": {
      "text/plain": [
       "array([0, 1, 0, 1, 0, 1, 1, 1, 0, 0, 0, 1, 0, 0, 1, 0, 1, 1, 0, 0, 1, 0,\n",
       "       0, 1, 1, 1, 0, 1, 1, 0, 1, 0, 0, 0, 0, 1, 0, 2, 1, 1, 0, 1, 1, 0,\n",
       "       0, 2, 0, 0, 0, 0, 0, 0, 1, 0, 2, 0, 0, 0, 1, 2, 0, 2, 1, 0, 1, 0,\n",
       "       0, 0, 0, 0, 2, 0, 0, 0, 0, 1, 0, 1, 0, 0, 0, 0, 0, 1, 0, 0, 0, 0,\n",
       "       0, 0, 0, 0, 0, 1, 0, 0, 0, 0, 1, 0, 0, 0, 0, 0, 0, 0, 2, 0, 2, 0,\n",
       "       1, 0, 0, 1, 0, 0, 0, 0, 1, 1, 1, 0, 0, 0, 0, 0, 0, 0, 0, 0, 1, 0,\n",
       "       0, 1, 2, 0, 0, 0, 0, 2, 0, 1, 1, 1, 0, 0, 0, 0, 2, 0, 0, 0, 0, 0,\n",
       "       1, 0, 0, 1, 1, 0, 1, 0, 0, 0, 0, 0, 1, 1, 0, 0, 0, 0, 0, 0, 0, 0,\n",
       "       0, 1, 1, 0, 0, 2, 1, 0, 0, 1, 0, 0, 1, 0, 0, 0, 0, 0, 0, 1, 0, 0,\n",
       "       0, 0, 0, 0, 0, 0, 0, 0, 1, 0, 0, 1, 0, 0, 1, 1, 1, 0, 1, 0, 0, 0,\n",
       "       0, 0, 0, 0, 1, 0, 0, 2, 0, 1])"
      ]
     },
     "execution_count": 241,
     "metadata": {},
     "output_type": "execute_result"
    },
    {
     "name": "stdout",
     "output_type": "stream",
     "text": [
      "* Number of mislabeled points out of a total 230 points: 40\n"
     ]
    }
   ],
   "source": [
    "clf3.fit(X, y)\n",
    "y_pred = clf2.predict(X_test)\n",
    "y_pred\n",
    "\n",
    "TestResultPrinter(X_test, y_test, y_pred)"
   ]
  },
  {
   "cell_type": "code",
   "execution_count": null,
   "metadata": {},
   "outputs": [],
   "source": []
  }
 ],
 "metadata": {
  "kernelspec": {
   "display_name": "Python 3",
   "language": "python",
   "name": "python3"
  },
  "language_info": {
   "codemirror_mode": {
    "name": "ipython",
    "version": 3
   },
   "file_extension": ".py",
   "mimetype": "text/x-python",
   "name": "python",
   "nbconvert_exporter": "python",
   "pygments_lexer": "ipython3",
   "version": "3.7.4"
  },
  "toc": {
   "base_numbering": 1,
   "nav_menu": {},
   "number_sections": true,
   "sideBar": true,
   "skip_h1_title": true,
   "title_cell": "Table of Contents",
   "title_sidebar": "Contents",
   "toc_cell": true,
   "toc_position": {},
   "toc_section_display": true,
   "toc_window_display": false
  },
  "varInspector": {
   "cols": {
    "lenName": 16,
    "lenType": 16,
    "lenVar": 40
   },
   "kernels_config": {
    "python": {
     "delete_cmd_postfix": "",
     "delete_cmd_prefix": "del ",
     "library": "var_list.py",
     "varRefreshCmd": "print(var_dic_list())"
    },
    "r": {
     "delete_cmd_postfix": ") ",
     "delete_cmd_prefix": "rm(",
     "library": "var_list.r",
     "varRefreshCmd": "cat(var_dic_list()) "
    }
   },
   "types_to_exclude": [
    "module",
    "function",
    "builtin_function_or_method",
    "instance",
    "_Feature"
   ],
   "window_display": false
  }
 },
 "nbformat": 4,
 "nbformat_minor": 2
}
