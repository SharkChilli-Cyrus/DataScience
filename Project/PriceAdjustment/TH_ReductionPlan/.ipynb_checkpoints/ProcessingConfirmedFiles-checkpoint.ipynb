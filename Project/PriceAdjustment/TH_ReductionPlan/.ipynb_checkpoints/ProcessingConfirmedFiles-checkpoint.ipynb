{
 "cells": [
  {
   "cell_type": "markdown",
   "metadata": {
    "toc": true
   },
   "source": [
    "<h1>Table of Contents<span class=\"tocSkip\"></span></h1>\n",
    "<div class=\"toc\"><ul class=\"toc-item\"><li><span><a href=\"#Basic-Functions\" data-toc-modified-id=\"Basic-Functions-1\"><span class=\"toc-item-num\">1&nbsp;&nbsp;</span>Basic Functions</a></span></li><li><span><a href=\"#Basic-Paths-Info\" data-toc-modified-id=\"Basic-Paths-Info-2\"><span class=\"toc-item-num\">2&nbsp;&nbsp;</span>Basic Paths Info</a></span></li><li><span><a href=\"#Processing\" data-toc-modified-id=\"Processing-3\"><span class=\"toc-item-num\">3&nbsp;&nbsp;</span>Processing</a></span><ul class=\"toc-item\"><li><span><a href=\"#Get-Sample-Columns\" data-toc-modified-id=\"Get-Sample-Columns-3.1\"><span class=\"toc-item-num\">3.1&nbsp;&nbsp;</span>Get Sample Columns</a></span></li><li><span><a href=\"#Combine-&amp;-Detect-Wrong-Format\" data-toc-modified-id=\"Combine-&amp;-Detect-Wrong-Format-3.2\"><span class=\"toc-item-num\">3.2&nbsp;&nbsp;</span>Combine &amp; Detect Wrong Format</a></span></li><li><span><a href=\"#Check-Confirmation-Rate-(>75%)\" data-toc-modified-id=\"Check-Confirmation-Rate-(>75%)-3.3\"><span class=\"toc-item-num\">3.3&nbsp;&nbsp;</span>Check Confirmation Rate (&gt;75%)</a></span></li><li><span><a href=\"#The-Final-Confirmed-SKUs\" data-toc-modified-id=\"The-Final-Confirmed-SKUs-3.4\"><span class=\"toc-item-num\">3.4&nbsp;&nbsp;</span>The Final Confirmed SKUs</a></span><ul class=\"toc-item\"><li><span><a href=\"#Append-Last-Time-Failed-SKUs-(Optional)\" data-toc-modified-id=\"Append-Last-Time-Failed-SKUs-(Optional)-3.4.1\"><span class=\"toc-item-num\">3.4.1&nbsp;&nbsp;</span>Append Last Time Failed SKUs (Optional)</a></span></li></ul></li></ul></li><li><span><a href=\"#Ready-to-Call-API\" data-toc-modified-id=\"Ready-to-Call-API-4\"><span class=\"toc-item-num\">4&nbsp;&nbsp;</span>Ready to Call API</a></span><ul class=\"toc-item\"><li><span><a href=\"#Append-Additional-SKUs-(Optional)\" data-toc-modified-id=\"Append-Additional-SKUs-(Optional)-4.1\"><span class=\"toc-item-num\">4.1&nbsp;&nbsp;</span>Append Additional SKUs (Optional)</a></span></li><li><span><a href=\"#Save-Confirmed-SKUs-&amp;-Shops\" data-toc-modified-id=\"Save-Confirmed-SKUs-&amp;-Shops-4.2\"><span class=\"toc-item-num\">4.2&nbsp;&nbsp;</span>Save Confirmed SKUs &amp; Shops</a></span></li><li><span><a href=\"#Calculate-Avg-Price-Drop-Pct\" data-toc-modified-id=\"Calculate-Avg-Price-Drop-Pct-4.3\"><span class=\"toc-item-num\">4.3&nbsp;&nbsp;</span>Calculate Avg Price Drop Pct</a></span></li><li><span><a href=\"#Split-to-Several-Partitions\" data-toc-modified-id=\"Split-to-Several-Partitions-4.4\"><span class=\"toc-item-num\">4.4&nbsp;&nbsp;</span>Split to Several Partitions</a></span></li></ul></li><li><span><a href=\"#Check-Outputs\" data-toc-modified-id=\"Check-Outputs-5\"><span class=\"toc-item-num\">5&nbsp;&nbsp;</span>Check Outputs</a></span><ul class=\"toc-item\"><li><span><a href=\"#Get-Partition-Files\" data-toc-modified-id=\"Get-Partition-Files-5.1\"><span class=\"toc-item-num\">5.1&nbsp;&nbsp;</span>Get Partition Files</a></span></li><li><span><a href=\"#Combination\" data-toc-modified-id=\"Combination-5.2\"><span class=\"toc-item-num\">5.2&nbsp;&nbsp;</span>Combination</a></span></li><li><span><a href=\"#Save-Total-Failed-SKUs\" data-toc-modified-id=\"Save-Total-Failed-SKUs-5.3\"><span class=\"toc-item-num\">5.3&nbsp;&nbsp;</span>Save Total Failed SKUs</a></span></li></ul></li></ul></div>"
   ]
  },
  {
   "cell_type": "code",
   "execution_count": 12,
   "metadata": {
    "ExecuteTime": {
     "end_time": "2020-08-13T08:12:29.410967Z",
     "start_time": "2020-08-13T08:12:29.405013Z"
    }
   },
   "outputs": [],
   "source": [
    "%matplotlib inline\n",
    "import matplotlib.pyplot as plt\n",
    "import seaborn as sns\n",
    "\n",
    "import os\n",
    "import numpy as np\n",
    "import pandas as pd\n",
    "import datetime\n",
    "import time\n",
    "import math\n",
    "\n",
    "import warnings\n",
    "warnings.filterwarnings('ignore')\n",
    "from IPython.core.interactiveshell import InteractiveShell\n",
    "InteractiveShell.ast_node_interactivity = 'all'"
   ]
  },
  {
   "cell_type": "markdown",
   "metadata": {},
   "source": [
    "---"
   ]
  },
  {
   "cell_type": "markdown",
   "metadata": {},
   "source": [
    "## Basic Functions"
   ]
  },
  {
   "cell_type": "code",
   "execution_count": 26,
   "metadata": {
    "ExecuteTime": {
     "end_time": "2020-08-13T08:53:04.047324Z",
     "start_time": "2020-08-13T08:53:04.033130Z"
    }
   },
   "outputs": [],
   "source": [
    "def get_all_files(folder_path, file_type = 'all', print_info = True):\n",
    "    filepath_list = []\n",
    "    \n",
    "    if file_type == 'all':\n",
    "        for _ in os.listdir(folder_path):\n",
    "            if _.startswith('.') is False:\n",
    "                filepath_list.append(os.path.join(folder_path, _))\n",
    "    else:\n",
    "        for _ in os.listdir(folder_path):\n",
    "            if _.startswith('.') is False and _.split('.')[-1] == file_type:\n",
    "                filepath_list.append(os.path.join(folder_path, _))\n",
    "\n",
    "    filepath_list = list(set(filepath_list))\n",
    "\n",
    "    if print_info == True:\n",
    "        print('')\n",
    "        print('===== Files Info =====')\n",
    "        print('* Folder Path: %s' % folder_path)\n",
    "        print('* File Type: %s' % file_type)\n",
    "        print('* Total Files: {0}'.format(len(filepath_list)))\n",
    "    else:\n",
    "        pass\n",
    "    \n",
    "    return filepath_list\n",
    "\n",
    "\n",
    "def combine_files(absPath_list, sample_columns, print_info = True):\n",
    "    totalNum = len(absPath_list)\n",
    "    \n",
    "    combined_df = pd.DataFrame(columns = sample_columns)\n",
    "    wrongFormatFiles = []\n",
    "    count = 0\n",
    "    for _ in absPath_list:\n",
    "        temp_df = pd.read_excel(_, encoding = 'utf-8-sig')\n",
    "        count += 1\n",
    "\n",
    "        if temp_df.columns.to_list() == sample_columns:\n",
    "            combined_df = pd.concat([combined_df, temp_df], ignore_index = True)\n",
    "\n",
    "            progress_pct = str(int(count/totalNum*100)) + '%'\n",
    "            print('\\r* Processing: {0}'.format(progress_pct), end = '')\n",
    "\n",
    "        else:\n",
    "            filename = _.split('/')[-1]\n",
    "            wrongFormatFiles.append(filename)\n",
    "    \n",
    "    if print_info == True:\n",
    "        print('')\n",
    "        print('===== Combine & Detect Info =====')\n",
    "        print('* In Total {0} Files'.format(totalNum))\n",
    "        print('* In Total {0} Wrong Format Files'.format(len(wrongFormatFiles)))\n",
    "        print('* Wrong Format Filenames:\\n{0}'.format(wrongFormatFiles))\n",
    "    else:\n",
    "        pass\n",
    "    \n",
    "    return combined_df"
   ]
  },
  {
   "cell_type": "markdown",
   "metadata": {},
   "source": [
    "## Basic Paths Info"
   ]
  },
  {
   "cell_type": "code",
   "execution_count": 78,
   "metadata": {
    "ExecuteTime": {
     "end_time": "2020-08-14T05:58:42.770281Z",
     "start_time": "2020-08-14T05:58:42.762608Z"
    }
   },
   "outputs": [],
   "source": [
    "today = datetime.datetime.today().strftime('%F')\n",
    "\n",
    "batchNum = 2\n",
    "\n",
    "data_folder = '/Users/xu.zhu/Desktop/Data/PriceAdjustment/TH_ReductionPlan'\n",
    "batch_folder = os.path.join(data_folder, 'Batch{0}'.format(batchNum))\n",
    "confirmed_RawFolder = os.path.join(batch_folder, 'Confirmed_Raw')"
   ]
  },
  {
   "cell_type": "markdown",
   "metadata": {},
   "source": [
    "## Processing"
   ]
  },
  {
   "cell_type": "code",
   "execution_count": 66,
   "metadata": {
    "ExecuteTime": {
     "end_time": "2020-08-13T10:03:11.376847Z",
     "start_time": "2020-08-13T10:03:11.372430Z"
    }
   },
   "outputs": [
    {
     "name": "stdout",
     "output_type": "stream",
     "text": [
      "\n",
      "===== Files Info =====\n",
      "* Folder Path: /Users/xu.zhu/Desktop/Data/PriceAdjustment/TH_ReductionPlan/Batch2/Confirmed_Raw\n",
      "* File Type: xlsx\n",
      "* Total Files: 77\n"
     ]
    }
   ],
   "source": [
    "all_FileAbsPaths = get_all_files(confirmed_RawFolder, file_type = 'xlsx')"
   ]
  },
  {
   "cell_type": "markdown",
   "metadata": {},
   "source": [
    "### Get Sample Columns"
   ]
  },
  {
   "cell_type": "code",
   "execution_count": 67,
   "metadata": {
    "ExecuteTime": {
     "end_time": "2020-08-13T10:03:15.113580Z",
     "start_time": "2020-08-13T10:03:13.308459Z"
    }
   },
   "outputs": [
    {
     "data": {
      "text/plain": [
       "['grass_region',\n",
       " 'gp_account_owner',\n",
       " 'gp_account_name',\n",
       " 'username',\n",
       " 'shopid',\n",
       " 'itemid',\n",
       " 'modelid',\n",
       " 'listing_price',\n",
       " 'target_price',\n",
       " 'seller_input_item_weight_g',\n",
       " 'old_hidden_fee',\n",
       " 'new_hidden_fee',\n",
       " 'confirmed']"
      ]
     },
     "execution_count": 67,
     "metadata": {},
     "output_type": "execute_result"
    }
   ],
   "source": [
    "sample_df = pd.read_excel(all_FileAbsPaths[0], encoding = 'utf-8-sig')\n",
    "cols = sample_df.columns.to_list()\n",
    "\n",
    "cols"
   ]
  },
  {
   "cell_type": "markdown",
   "metadata": {},
   "source": [
    "### Combine & Detect Wrong Format"
   ]
  },
  {
   "cell_type": "code",
   "execution_count": 68,
   "metadata": {
    "ExecuteTime": {
     "end_time": "2020-08-13T10:07:52.154228Z",
     "start_time": "2020-08-13T10:03:16.160868Z"
    }
   },
   "outputs": [
    {
     "name": "stdout",
     "output_type": "stream",
     "text": [
      "* Processing: 100%\n",
      "===== Combine & Detect Info =====\n",
      "* In Total 77 Files\n",
      "* In Total 0 Wrong Format Files\n",
      "* Wrong Format Filenames:\n",
      "[]\n"
     ]
    }
   ],
   "source": [
    "combinedRaw_df = combine_files(all_FileAbsPaths, cols)"
   ]
  },
  {
   "cell_type": "code",
   "execution_count": 69,
   "metadata": {
    "ExecuteTime": {
     "end_time": "2020-08-13T10:09:25.835524Z",
     "start_time": "2020-08-13T10:09:15.425869Z"
    }
   },
   "outputs": [
    {
     "data": {
      "text/plain": [
       "(2227053, 13)"
      ]
     },
     "execution_count": 69,
     "metadata": {},
     "output_type": "execute_result"
    },
    {
     "data": {
      "text/plain": [
       "374523"
      ]
     },
     "execution_count": 69,
     "metadata": {},
     "output_type": "execute_result"
    },
    {
     "data": {
      "text/plain": [
       "166"
      ]
     },
     "execution_count": 69,
     "metadata": {},
     "output_type": "execute_result"
    }
   ],
   "source": [
    "combinedRaw_df.dropna(subset=['shopid'], inplace = True)\n",
    "\n",
    "combinedRaw_df.shape\n",
    "len(set(combinedRaw_df.itemid.to_list()))\n",
    "len(set(combinedRaw_df.shopid.to_list()))\n",
    "\n",
    "combinedRaw_df.to_csv(os.path.join(confirmed_RawFolder, '{0}_CombinedRaw.csv'.format(today)),\n",
    "                      encoding = 'utf-8-sig',\n",
    "                      index = False)"
   ]
  },
  {
   "cell_type": "markdown",
   "metadata": {},
   "source": [
    "### Check Confirmation Rate (>75%)"
   ]
  },
  {
   "cell_type": "code",
   "execution_count": 73,
   "metadata": {
    "ExecuteTime": {
     "end_time": "2020-08-13T10:12:54.390948Z",
     "start_time": "2020-08-13T10:12:53.375590Z"
    }
   },
   "outputs": [
    {
     "data": {
      "text/html": [
       "<div>\n",
       "<style scoped>\n",
       "    .dataframe tbody tr th:only-of-type {\n",
       "        vertical-align: middle;\n",
       "    }\n",
       "\n",
       "    .dataframe tbody tr th {\n",
       "        vertical-align: top;\n",
       "    }\n",
       "\n",
       "    .dataframe thead th {\n",
       "        text-align: right;\n",
       "    }\n",
       "</style>\n",
       "<table border=\"1\" class=\"dataframe\">\n",
       "  <thead>\n",
       "    <tr style=\"text-align: right;\">\n",
       "      <th></th>\n",
       "      <th>gp_account_name</th>\n",
       "      <th>shopid</th>\n",
       "      <th>itemNum</th>\n",
       "      <th>confirmed_Y</th>\n",
       "    </tr>\n",
       "  </thead>\n",
       "  <tbody>\n",
       "    <tr>\n",
       "      <th>0</th>\n",
       "      <td>深圳市森林五金家具有限公司</td>\n",
       "      <td>155094422</td>\n",
       "      <td>1</td>\n",
       "      <td>0</td>\n",
       "    </tr>\n",
       "    <tr>\n",
       "      <th>12</th>\n",
       "      <td>深圳市森林五金家具有限公司</td>\n",
       "      <td>155094422</td>\n",
       "      <td>1</td>\n",
       "      <td>0</td>\n",
       "    </tr>\n",
       "    <tr>\n",
       "      <th>48</th>\n",
       "      <td>深圳市森林五金家具有限公司</td>\n",
       "      <td>155094422</td>\n",
       "      <td>1</td>\n",
       "      <td>0</td>\n",
       "    </tr>\n",
       "    <tr>\n",
       "      <th>92</th>\n",
       "      <td>深圳市森林五金家具有限公司</td>\n",
       "      <td>155094422</td>\n",
       "      <td>1</td>\n",
       "      <td>0</td>\n",
       "    </tr>\n",
       "    <tr>\n",
       "      <th>102</th>\n",
       "      <td>深圳市森林五金家具有限公司</td>\n",
       "      <td>155094422</td>\n",
       "      <td>1</td>\n",
       "      <td>0</td>\n",
       "    </tr>\n",
       "    <tr>\n",
       "      <th>...</th>\n",
       "      <td>...</td>\n",
       "      <td>...</td>\n",
       "      <td>...</td>\n",
       "      <td>...</td>\n",
       "    </tr>\n",
       "    <tr>\n",
       "      <th>2227277</th>\n",
       "      <td>深圳市利视安科技有限公司</td>\n",
       "      <td>148308615</td>\n",
       "      <td>1</td>\n",
       "      <td>1</td>\n",
       "    </tr>\n",
       "    <tr>\n",
       "      <th>2227307</th>\n",
       "      <td>深圳市利视安科技有限公司</td>\n",
       "      <td>148308615</td>\n",
       "      <td>1</td>\n",
       "      <td>1</td>\n",
       "    </tr>\n",
       "    <tr>\n",
       "      <th>2227347</th>\n",
       "      <td>深圳市利视安科技有限公司</td>\n",
       "      <td>148308615</td>\n",
       "      <td>1</td>\n",
       "      <td>1</td>\n",
       "    </tr>\n",
       "    <tr>\n",
       "      <th>2227371</th>\n",
       "      <td>深圳市利视安科技有限公司</td>\n",
       "      <td>148308615</td>\n",
       "      <td>1</td>\n",
       "      <td>1</td>\n",
       "    </tr>\n",
       "    <tr>\n",
       "      <th>2227403</th>\n",
       "      <td>深圳市利视安科技有限公司</td>\n",
       "      <td>148308615</td>\n",
       "      <td>1</td>\n",
       "      <td>1</td>\n",
       "    </tr>\n",
       "  </tbody>\n",
       "</table>\n",
       "<p>374523 rows × 4 columns</p>\n",
       "</div>"
      ],
      "text/plain": [
       "        gp_account_name     shopid  itemNum  confirmed_Y\n",
       "0         深圳市森林五金家具有限公司  155094422        1            0\n",
       "12        深圳市森林五金家具有限公司  155094422        1            0\n",
       "48        深圳市森林五金家具有限公司  155094422        1            0\n",
       "92        深圳市森林五金家具有限公司  155094422        1            0\n",
       "102       深圳市森林五金家具有限公司  155094422        1            0\n",
       "...                 ...        ...      ...          ...\n",
       "2227277    深圳市利视安科技有限公司  148308615        1            1\n",
       "2227307    深圳市利视安科技有限公司  148308615        1            1\n",
       "2227347    深圳市利视安科技有限公司  148308615        1            1\n",
       "2227371    深圳市利视安科技有限公司  148308615        1            1\n",
       "2227403    深圳市利视安科技有限公司  148308615        1            1\n",
       "\n",
       "[374523 rows x 4 columns]"
      ]
     },
     "execution_count": 73,
     "metadata": {},
     "output_type": "execute_result"
    }
   ],
   "source": [
    "checkRate_df = combinedRaw_df.copy()\n",
    "\n",
    "checkRate_df = checkRate_df[['gp_account_name', 'shopid', 'itemid', 'confirmed']]\n",
    "checkRate_df.drop_duplicates(subset=['gp_account_name', 'shopid', 'itemid'], inplace = True)\n",
    "\n",
    "checkRate_df['itemNum'] = 1\n",
    "checkRate_df['confirmed_Y'] = checkRate_df['confirmed'].apply(lambda x: 1 if x == 'Y' else 0)\n",
    "checkRate_df = checkRate_df[['gp_account_name', 'shopid', 'itemNum', 'confirmed_Y']]\n",
    "checkRate_df"
   ]
  },
  {
   "cell_type": "code",
   "execution_count": 74,
   "metadata": {
    "ExecuteTime": {
     "end_time": "2020-08-13T10:14:10.273640Z",
     "start_time": "2020-08-13T10:14:10.161482Z"
    }
   },
   "outputs": [
    {
     "data": {
      "text/html": [
       "<div>\n",
       "<style scoped>\n",
       "    .dataframe tbody tr th:only-of-type {\n",
       "        vertical-align: middle;\n",
       "    }\n",
       "\n",
       "    .dataframe tbody tr th {\n",
       "        vertical-align: top;\n",
       "    }\n",
       "\n",
       "    .dataframe thead th {\n",
       "        text-align: right;\n",
       "    }\n",
       "</style>\n",
       "<table border=\"1\" class=\"dataframe\">\n",
       "  <thead>\n",
       "    <tr style=\"text-align: right;\">\n",
       "      <th></th>\n",
       "      <th></th>\n",
       "      <th>itemNum</th>\n",
       "      <th>confirmed_Y</th>\n",
       "      <th>confirmed_rate</th>\n",
       "    </tr>\n",
       "    <tr>\n",
       "      <th>gp_account_name</th>\n",
       "      <th>shopid</th>\n",
       "      <th></th>\n",
       "      <th></th>\n",
       "      <th></th>\n",
       "    </tr>\n",
       "  </thead>\n",
       "  <tbody>\n",
       "    <tr>\n",
       "      <th>C&amp;M Shop</th>\n",
       "      <th>36506912.0</th>\n",
       "      <td>1450</td>\n",
       "      <td>1443</td>\n",
       "      <td>0.995172</td>\n",
       "    </tr>\n",
       "    <tr>\n",
       "      <th rowspan=\"4\" valign=\"top\">CHINATERA LIMITED</th>\n",
       "      <th>11398257.0</th>\n",
       "      <td>3788</td>\n",
       "      <td>3788</td>\n",
       "      <td>1.000000</td>\n",
       "    </tr>\n",
       "    <tr>\n",
       "      <th>11398704.0</th>\n",
       "      <td>4132</td>\n",
       "      <td>4132</td>\n",
       "      <td>1.000000</td>\n",
       "    </tr>\n",
       "    <tr>\n",
       "      <th>14400298.0</th>\n",
       "      <td>3013</td>\n",
       "      <td>3013</td>\n",
       "      <td>1.000000</td>\n",
       "    </tr>\n",
       "    <tr>\n",
       "      <th>18788536.0</th>\n",
       "      <td>3180</td>\n",
       "      <td>3180</td>\n",
       "      <td>1.000000</td>\n",
       "    </tr>\n",
       "    <tr>\n",
       "      <th>...</th>\n",
       "      <th>...</th>\n",
       "      <td>...</td>\n",
       "      <td>...</td>\n",
       "      <td>...</td>\n",
       "    </tr>\n",
       "    <tr>\n",
       "      <th rowspan=\"2\" valign=\"top\">郑商鸿图（青岛）贸易有限公司</th>\n",
       "      <th>169837534.0</th>\n",
       "      <td>4618</td>\n",
       "      <td>4618</td>\n",
       "      <td>1.000000</td>\n",
       "    </tr>\n",
       "    <tr>\n",
       "      <th>188349769.0</th>\n",
       "      <td>4266</td>\n",
       "      <td>4266</td>\n",
       "      <td>1.000000</td>\n",
       "    </tr>\n",
       "    <tr>\n",
       "      <th>陕西玉苍建筑工程有限公司</th>\n",
       "      <th>134186261.0</th>\n",
       "      <td>583</td>\n",
       "      <td>436</td>\n",
       "      <td>0.747856</td>\n",
       "    </tr>\n",
       "    <tr>\n",
       "      <th>香港绿联有限公司</th>\n",
       "      <th>65302368.0</th>\n",
       "      <td>406</td>\n",
       "      <td>290</td>\n",
       "      <td>0.714286</td>\n",
       "    </tr>\n",
       "    <tr>\n",
       "      <th>香港重山电子商务有限公司</th>\n",
       "      <th>36638306.0</th>\n",
       "      <td>270</td>\n",
       "      <td>270</td>\n",
       "      <td>1.000000</td>\n",
       "    </tr>\n",
       "  </tbody>\n",
       "</table>\n",
       "<p>166 rows × 3 columns</p>\n",
       "</div>"
      ],
      "text/plain": [
       "                               itemNum  confirmed_Y  confirmed_rate\n",
       "gp_account_name   shopid                                           \n",
       "C&M Shop          36506912.0      1450         1443        0.995172\n",
       "CHINATERA LIMITED 11398257.0      3788         3788        1.000000\n",
       "                  11398704.0      4132         4132        1.000000\n",
       "                  14400298.0      3013         3013        1.000000\n",
       "                  18788536.0      3180         3180        1.000000\n",
       "...                                ...          ...             ...\n",
       "郑商鸿图（青岛）贸易有限公司    169837534.0     4618         4618        1.000000\n",
       "                  188349769.0     4266         4266        1.000000\n",
       "陕西玉苍建筑工程有限公司      134186261.0      583          436        0.747856\n",
       "香港绿联有限公司          65302368.0       406          290        0.714286\n",
       "香港重山电子商务有限公司      36638306.0       270          270        1.000000\n",
       "\n",
       "[166 rows x 3 columns]"
      ]
     },
     "execution_count": 74,
     "metadata": {},
     "output_type": "execute_result"
    }
   ],
   "source": [
    "checkRate_df = checkRate_df.groupby(['gp_account_name', 'shopid'])\n",
    "checkRate_df = checkRate_df.sum()\n",
    "checkRate_df['confirmed_rate'] = checkRate_df['confirmed_Y']/checkRate_df['itemNum']\n",
    "checkRate_df"
   ]
  },
  {
   "cell_type": "code",
   "execution_count": 75,
   "metadata": {
    "ExecuteTime": {
     "end_time": "2020-08-13T10:15:28.427428Z",
     "start_time": "2020-08-13T10:15:28.414181Z"
    }
   },
   "outputs": [],
   "source": [
    "checkRate_df = checkRate_df.reset_index()\n",
    "checkRate_df.to_csv(os.path.join(confirmed_RawFolder, '{0}_CombinedRaw_ConfirmationRate.csv'.format(today)),\n",
    "                      encoding = 'utf-8-sig',\n",
    "                      index = False)"
   ]
  },
  {
   "cell_type": "markdown",
   "metadata": {},
   "source": [
    "### The Final Confirmed SKUs"
   ]
  },
  {
   "cell_type": "code",
   "execution_count": 79,
   "metadata": {
    "ExecuteTime": {
     "end_time": "2020-08-14T06:02:09.566635Z",
     "start_time": "2020-08-14T06:02:09.559121Z"
    }
   },
   "outputs": [],
   "source": [
    "confirmed_DoubleCheckFolder = os.path.join(batch_folder, 'Confirmed_DoubleCheck')\n",
    "confirmed_RawFilePath = os.path.join(confirmed_RawFolder, '2020-08-13_CombinedRaw.csv')"
   ]
  },
  {
   "cell_type": "code",
   "execution_count": 81,
   "metadata": {
    "ExecuteTime": {
     "end_time": "2020-08-14T06:03:03.587102Z",
     "start_time": "2020-08-14T06:03:03.571891Z"
    }
   },
   "outputs": [
    {
     "data": {
      "text/plain": [
       "80"
      ]
     },
     "execution_count": 81,
     "metadata": {},
     "output_type": "execute_result"
    }
   ],
   "source": [
    "confirmed_shops = pd.read_excel(os.path.join(confirmed_DoubleCheckFolder, 'Batch2_ConfirmedShops.xlsx'),\n",
    "                                encoding='utf-8-sig')\n",
    "\n",
    "confirmed_shops = list(set(confirmed_shops['Shopid'].to_list()))\n",
    "len(confirmed_shops)"
   ]
  },
  {
   "cell_type": "code",
   "execution_count": 97,
   "metadata": {
    "ExecuteTime": {
     "end_time": "2020-08-14T06:19:33.347236Z",
     "start_time": "2020-08-14T06:19:32.287939Z"
    }
   },
   "outputs": [
    {
     "data": {
      "text/plain": [
       "80"
      ]
     },
     "execution_count": 97,
     "metadata": {},
     "output_type": "execute_result"
    },
    {
     "data": {
      "text/plain": [
       "172317"
      ]
     },
     "execution_count": 97,
     "metadata": {},
     "output_type": "execute_result"
    },
    {
     "data": {
      "text/plain": [
       "1137093"
      ]
     },
     "execution_count": 97,
     "metadata": {},
     "output_type": "execute_result"
    },
    {
     "data": {
      "text/plain": [
       "80"
      ]
     },
     "execution_count": 97,
     "metadata": {},
     "output_type": "execute_result"
    },
    {
     "data": {
      "text/plain": [
       "165182"
      ]
     },
     "execution_count": 97,
     "metadata": {},
     "output_type": "execute_result"
    },
    {
     "data": {
      "text/plain": [
       "1094927"
      ]
     },
     "execution_count": 97,
     "metadata": {},
     "output_type": "execute_result"
    },
    {
     "data": {
      "text/html": [
       "<div>\n",
       "<style scoped>\n",
       "    .dataframe tbody tr th:only-of-type {\n",
       "        vertical-align: middle;\n",
       "    }\n",
       "\n",
       "    .dataframe tbody tr th {\n",
       "        vertical-align: top;\n",
       "    }\n",
       "\n",
       "    .dataframe thead th {\n",
       "        text-align: right;\n",
       "    }\n",
       "</style>\n",
       "<table border=\"1\" class=\"dataframe\">\n",
       "  <thead>\n",
       "    <tr style=\"text-align: right;\">\n",
       "      <th></th>\n",
       "      <th>grass_region</th>\n",
       "      <th>gp_account_owner</th>\n",
       "      <th>gp_account_name</th>\n",
       "      <th>username</th>\n",
       "      <th>shopid</th>\n",
       "      <th>itemid</th>\n",
       "      <th>modelid</th>\n",
       "      <th>listing_price</th>\n",
       "      <th>target_price</th>\n",
       "      <th>seller_input_item_weight_g</th>\n",
       "      <th>old_hidden_fee</th>\n",
       "      <th>new_hidden_fee</th>\n",
       "      <th>confirmed</th>\n",
       "    </tr>\n",
       "  </thead>\n",
       "  <tbody>\n",
       "    <tr>\n",
       "      <th>10</th>\n",
       "      <td>TH</td>\n",
       "      <td>Christine Tang</td>\n",
       "      <td>cifang</td>\n",
       "      <td>hotwind.th</td>\n",
       "      <td>17446951</td>\n",
       "      <td>173514002</td>\n",
       "      <td>116919704</td>\n",
       "      <td>59</td>\n",
       "      <td>51</td>\n",
       "      <td>80</td>\n",
       "      <td>16</td>\n",
       "      <td>8</td>\n",
       "      <td>Y</td>\n",
       "    </tr>\n",
       "    <tr>\n",
       "      <th>11</th>\n",
       "      <td>TH</td>\n",
       "      <td>Christine Tang</td>\n",
       "      <td>cifang</td>\n",
       "      <td>hotwind.th</td>\n",
       "      <td>17446951</td>\n",
       "      <td>173514002</td>\n",
       "      <td>116919699</td>\n",
       "      <td>59</td>\n",
       "      <td>51</td>\n",
       "      <td>80</td>\n",
       "      <td>16</td>\n",
       "      <td>8</td>\n",
       "      <td>Y</td>\n",
       "    </tr>\n",
       "    <tr>\n",
       "      <th>12</th>\n",
       "      <td>TH</td>\n",
       "      <td>Christine Tang</td>\n",
       "      <td>cifang</td>\n",
       "      <td>hotwind.th</td>\n",
       "      <td>17446951</td>\n",
       "      <td>173514002</td>\n",
       "      <td>116919694</td>\n",
       "      <td>59</td>\n",
       "      <td>51</td>\n",
       "      <td>80</td>\n",
       "      <td>16</td>\n",
       "      <td>8</td>\n",
       "      <td>Y</td>\n",
       "    </tr>\n",
       "    <tr>\n",
       "      <th>13</th>\n",
       "      <td>TH</td>\n",
       "      <td>Christine Tang</td>\n",
       "      <td>cifang</td>\n",
       "      <td>hotwind.th</td>\n",
       "      <td>17446951</td>\n",
       "      <td>173514002</td>\n",
       "      <td>116919695</td>\n",
       "      <td>59</td>\n",
       "      <td>51</td>\n",
       "      <td>80</td>\n",
       "      <td>16</td>\n",
       "      <td>8</td>\n",
       "      <td>Y</td>\n",
       "    </tr>\n",
       "    <tr>\n",
       "      <th>14</th>\n",
       "      <td>TH</td>\n",
       "      <td>Christine Tang</td>\n",
       "      <td>cifang</td>\n",
       "      <td>hotwind.th</td>\n",
       "      <td>17446951</td>\n",
       "      <td>173514002</td>\n",
       "      <td>116919697</td>\n",
       "      <td>59</td>\n",
       "      <td>51</td>\n",
       "      <td>80</td>\n",
       "      <td>16</td>\n",
       "      <td>8</td>\n",
       "      <td>Y</td>\n",
       "    </tr>\n",
       "    <tr>\n",
       "      <th>...</th>\n",
       "      <td>...</td>\n",
       "      <td>...</td>\n",
       "      <td>...</td>\n",
       "      <td>...</td>\n",
       "      <td>...</td>\n",
       "      <td>...</td>\n",
       "      <td>...</td>\n",
       "      <td>...</td>\n",
       "      <td>...</td>\n",
       "      <td>...</td>\n",
       "      <td>...</td>\n",
       "      <td>...</td>\n",
       "      <td>...</td>\n",
       "    </tr>\n",
       "    <tr>\n",
       "      <th>1137088</th>\n",
       "      <td>TH</td>\n",
       "      <td>Boey Peng</td>\n",
       "      <td>深圳市利视安科技有限公司</td>\n",
       "      <td>iopcooem.th</td>\n",
       "      <td>148308615</td>\n",
       "      <td>7938767202</td>\n",
       "      <td>21035749981</td>\n",
       "      <td>35</td>\n",
       "      <td>31</td>\n",
       "      <td>40</td>\n",
       "      <td>8</td>\n",
       "      <td>4</td>\n",
       "      <td>Y</td>\n",
       "    </tr>\n",
       "    <tr>\n",
       "      <th>1137089</th>\n",
       "      <td>TH</td>\n",
       "      <td>Boey Peng</td>\n",
       "      <td>深圳市利视安科技有限公司</td>\n",
       "      <td>iopcooem.th</td>\n",
       "      <td>148308615</td>\n",
       "      <td>7938767202</td>\n",
       "      <td>21035750004</td>\n",
       "      <td>35</td>\n",
       "      <td>31</td>\n",
       "      <td>40</td>\n",
       "      <td>8</td>\n",
       "      <td>4</td>\n",
       "      <td>Y</td>\n",
       "    </tr>\n",
       "    <tr>\n",
       "      <th>1137090</th>\n",
       "      <td>TH</td>\n",
       "      <td>Boey Peng</td>\n",
       "      <td>深圳市利视安科技有限公司</td>\n",
       "      <td>iopcooem.th</td>\n",
       "      <td>148308615</td>\n",
       "      <td>7938767202</td>\n",
       "      <td>21035749990</td>\n",
       "      <td>35</td>\n",
       "      <td>31</td>\n",
       "      <td>40</td>\n",
       "      <td>8</td>\n",
       "      <td>4</td>\n",
       "      <td>Y</td>\n",
       "    </tr>\n",
       "    <tr>\n",
       "      <th>1137091</th>\n",
       "      <td>TH</td>\n",
       "      <td>Boey Peng</td>\n",
       "      <td>深圳市利视安科技有限公司</td>\n",
       "      <td>iopcooem.th</td>\n",
       "      <td>148308615</td>\n",
       "      <td>7938767202</td>\n",
       "      <td>21035749999</td>\n",
       "      <td>35</td>\n",
       "      <td>31</td>\n",
       "      <td>40</td>\n",
       "      <td>8</td>\n",
       "      <td>4</td>\n",
       "      <td>Y</td>\n",
       "    </tr>\n",
       "    <tr>\n",
       "      <th>1137092</th>\n",
       "      <td>TH</td>\n",
       "      <td>Boey Peng</td>\n",
       "      <td>深圳市利视安科技有限公司</td>\n",
       "      <td>iopcooem.th</td>\n",
       "      <td>148308615</td>\n",
       "      <td>7938767202</td>\n",
       "      <td>21035750001</td>\n",
       "      <td>35</td>\n",
       "      <td>31</td>\n",
       "      <td>40</td>\n",
       "      <td>8</td>\n",
       "      <td>4</td>\n",
       "      <td>Y</td>\n",
       "    </tr>\n",
       "  </tbody>\n",
       "</table>\n",
       "<p>1094927 rows × 13 columns</p>\n",
       "</div>"
      ],
      "text/plain": [
       "        grass_region gp_account_owner gp_account_name     username     shopid  \\\n",
       "10                TH   Christine Tang          cifang   hotwind.th   17446951   \n",
       "11                TH   Christine Tang          cifang   hotwind.th   17446951   \n",
       "12                TH   Christine Tang          cifang   hotwind.th   17446951   \n",
       "13                TH   Christine Tang          cifang   hotwind.th   17446951   \n",
       "14                TH   Christine Tang          cifang   hotwind.th   17446951   \n",
       "...              ...              ...             ...          ...        ...   \n",
       "1137088           TH        Boey Peng    深圳市利视安科技有限公司  iopcooem.th  148308615   \n",
       "1137089           TH        Boey Peng    深圳市利视安科技有限公司  iopcooem.th  148308615   \n",
       "1137090           TH        Boey Peng    深圳市利视安科技有限公司  iopcooem.th  148308615   \n",
       "1137091           TH        Boey Peng    深圳市利视安科技有限公司  iopcooem.th  148308615   \n",
       "1137092           TH        Boey Peng    深圳市利视安科技有限公司  iopcooem.th  148308615   \n",
       "\n",
       "             itemid      modelid listing_price target_price  \\\n",
       "10        173514002    116919704            59           51   \n",
       "11        173514002    116919699            59           51   \n",
       "12        173514002    116919694            59           51   \n",
       "13        173514002    116919695            59           51   \n",
       "14        173514002    116919697            59           51   \n",
       "...             ...          ...           ...          ...   \n",
       "1137088  7938767202  21035749981            35           31   \n",
       "1137089  7938767202  21035750004            35           31   \n",
       "1137090  7938767202  21035749990            35           31   \n",
       "1137091  7938767202  21035749999            35           31   \n",
       "1137092  7938767202  21035750001            35           31   \n",
       "\n",
       "        seller_input_item_weight_g old_hidden_fee new_hidden_fee confirmed  \n",
       "10                              80             16              8         Y  \n",
       "11                              80             16              8         Y  \n",
       "12                              80             16              8         Y  \n",
       "13                              80             16              8         Y  \n",
       "14                              80             16              8         Y  \n",
       "...                            ...            ...            ...       ...  \n",
       "1137088                         40              8              4         Y  \n",
       "1137089                         40              8              4         Y  \n",
       "1137090                         40              8              4         Y  \n",
       "1137091                         40              8              4         Y  \n",
       "1137092                         40              8              4         Y  \n",
       "\n",
       "[1094927 rows x 13 columns]"
      ]
     },
     "execution_count": 97,
     "metadata": {},
     "output_type": "execute_result"
    }
   ],
   "source": [
    "confirmed_df = combinedRaw_df.copy()\n",
    "confirmed_df = confirmed_df[confirmed_df['shopid'].isin(confirmed_shops)]\n",
    "\n",
    "confirmed_df.reset_index(drop = True, inplace = True)\n",
    "\n",
    "len(set(confirmed_df.shopid.to_list()))\n",
    "len(set(confirmed_df.itemid.to_list()))\n",
    "confirmed_df.shape[0]\n",
    "\n",
    "\n",
    "confirmed_df = confirmed_df[confirmed_df['confirmed'] == 'Y']\n",
    "len(set(confirmed_df.shopid.to_list()))\n",
    "len(set(confirmed_df.itemid.to_list()))\n",
    "confirmed_df.shape[0]\n",
    "\n",
    "confirmed_df"
   ]
  },
  {
   "cell_type": "markdown",
   "metadata": {},
   "source": [
    "#### Append Last Time Failed SKUs (Optional)"
   ]
  },
  {
   "cell_type": "code",
   "execution_count": 98,
   "metadata": {
    "ExecuteTime": {
     "end_time": "2020-08-14T06:19:36.533653Z",
     "start_time": "2020-08-14T06:19:36.531236Z"
    }
   },
   "outputs": [],
   "source": [
    "rerun_folder = '/Users/xu.zhu/Desktop/Data/PriceAdjustment/TH_ReductionPlan/Batch1'"
   ]
  },
  {
   "cell_type": "code",
   "execution_count": 99,
   "metadata": {
    "ExecuteTime": {
     "end_time": "2020-08-14T06:19:37.913447Z",
     "start_time": "2020-08-14T06:19:37.825035Z"
    }
   },
   "outputs": [
    {
     "data": {
      "text/plain": [
       "(27948, 13)"
      ]
     },
     "execution_count": 99,
     "metadata": {},
     "output_type": "execute_result"
    },
    {
     "data": {
      "text/html": [
       "<div>\n",
       "<style scoped>\n",
       "    .dataframe tbody tr th:only-of-type {\n",
       "        vertical-align: middle;\n",
       "    }\n",
       "\n",
       "    .dataframe tbody tr th {\n",
       "        vertical-align: top;\n",
       "    }\n",
       "\n",
       "    .dataframe thead th {\n",
       "        text-align: right;\n",
       "    }\n",
       "</style>\n",
       "<table border=\"1\" class=\"dataframe\">\n",
       "  <thead>\n",
       "    <tr style=\"text-align: right;\">\n",
       "      <th></th>\n",
       "      <th>grass_region</th>\n",
       "      <th>gp_account_owner</th>\n",
       "      <th>gp_account_name</th>\n",
       "      <th>username</th>\n",
       "      <th>shopid</th>\n",
       "      <th>itemid</th>\n",
       "      <th>modelid</th>\n",
       "      <th>listing_price</th>\n",
       "      <th>target_price</th>\n",
       "      <th>seller_input_item_weight_g</th>\n",
       "      <th>old_hidden_fee</th>\n",
       "      <th>new_hidden_fee</th>\n",
       "      <th>confirmed</th>\n",
       "    </tr>\n",
       "  </thead>\n",
       "  <tbody>\n",
       "    <tr>\n",
       "      <th>0</th>\n",
       "      <td>TH</td>\n",
       "      <td>Christine Tang</td>\n",
       "      <td>深圳市瀚昇宇电子商务有限公司</td>\n",
       "      <td>bestlucky.th</td>\n",
       "      <td>262040994</td>\n",
       "      <td>4136054709</td>\n",
       "      <td>0</td>\n",
       "      <td>81.0</td>\n",
       "      <td>73.0</td>\n",
       "      <td>80.0</td>\n",
       "      <td>16.0</td>\n",
       "      <td>8.0</td>\n",
       "      <td>Y</td>\n",
       "    </tr>\n",
       "  </tbody>\n",
       "</table>\n",
       "</div>"
      ],
      "text/plain": [
       "  grass_region gp_account_owner gp_account_name      username     shopid  \\\n",
       "0           TH   Christine Tang  深圳市瀚昇宇电子商务有限公司  bestlucky.th  262040994   \n",
       "\n",
       "       itemid  modelid  listing_price  target_price  \\\n",
       "0  4136054709        0           81.0          73.0   \n",
       "\n",
       "   seller_input_item_weight_g  old_hidden_fee  new_hidden_fee confirmed  \n",
       "0                        80.0            16.0             8.0         Y  "
      ]
     },
     "execution_count": 99,
     "metadata": {},
     "output_type": "execute_result"
    }
   ],
   "source": [
    "last_time_failed_sku = pd.read_csv(os.path.join(rerun_folder, 'Batch1NeedRerun.csv'), encoding = 'utf-8-sig')\n",
    "\n",
    "last_time_failed_sku.shape\n",
    "last_time_failed_sku.head(1)"
   ]
  },
  {
   "cell_type": "code",
   "execution_count": 100,
   "metadata": {
    "ExecuteTime": {
     "end_time": "2020-08-14T06:19:45.463344Z",
     "start_time": "2020-08-14T06:19:45.459296Z"
    }
   },
   "outputs": [
    {
     "data": {
      "text/plain": [
       "True"
      ]
     },
     "execution_count": 100,
     "metadata": {},
     "output_type": "execute_result"
    }
   ],
   "source": [
    "confirmed_df.columns.to_list() == last_time_failed_sku.columns.to_list()"
   ]
  },
  {
   "cell_type": "code",
   "execution_count": 101,
   "metadata": {
    "ExecuteTime": {
     "end_time": "2020-08-14T06:19:46.388904Z",
     "start_time": "2020-08-14T06:19:46.147599Z"
    }
   },
   "outputs": [
    {
     "data": {
      "text/plain": [
       "319"
      ]
     },
     "execution_count": 101,
     "metadata": {},
     "output_type": "execute_result"
    },
    {
     "data": {
      "text/plain": [
       "172172"
      ]
     },
     "execution_count": 101,
     "metadata": {},
     "output_type": "execute_result"
    },
    {
     "data": {
      "text/plain": [
       "1122875"
      ]
     },
     "execution_count": 101,
     "metadata": {},
     "output_type": "execute_result"
    },
    {
     "data": {
      "text/html": [
       "<div>\n",
       "<style scoped>\n",
       "    .dataframe tbody tr th:only-of-type {\n",
       "        vertical-align: middle;\n",
       "    }\n",
       "\n",
       "    .dataframe tbody tr th {\n",
       "        vertical-align: top;\n",
       "    }\n",
       "\n",
       "    .dataframe thead th {\n",
       "        text-align: right;\n",
       "    }\n",
       "</style>\n",
       "<table border=\"1\" class=\"dataframe\">\n",
       "  <thead>\n",
       "    <tr style=\"text-align: right;\">\n",
       "      <th></th>\n",
       "      <th>grass_region</th>\n",
       "      <th>gp_account_owner</th>\n",
       "      <th>gp_account_name</th>\n",
       "      <th>username</th>\n",
       "      <th>shopid</th>\n",
       "      <th>itemid</th>\n",
       "      <th>modelid</th>\n",
       "      <th>listing_price</th>\n",
       "      <th>target_price</th>\n",
       "      <th>seller_input_item_weight_g</th>\n",
       "      <th>old_hidden_fee</th>\n",
       "      <th>new_hidden_fee</th>\n",
       "      <th>confirmed</th>\n",
       "    </tr>\n",
       "  </thead>\n",
       "  <tbody>\n",
       "    <tr>\n",
       "      <th>0</th>\n",
       "      <td>TH</td>\n",
       "      <td>Christine Tang</td>\n",
       "      <td>cifang</td>\n",
       "      <td>hotwind.th</td>\n",
       "      <td>17446951</td>\n",
       "      <td>173514002</td>\n",
       "      <td>116919704</td>\n",
       "      <td>59</td>\n",
       "      <td>51</td>\n",
       "      <td>80</td>\n",
       "      <td>16</td>\n",
       "      <td>8</td>\n",
       "      <td>Y</td>\n",
       "    </tr>\n",
       "    <tr>\n",
       "      <th>1</th>\n",
       "      <td>TH</td>\n",
       "      <td>Christine Tang</td>\n",
       "      <td>cifang</td>\n",
       "      <td>hotwind.th</td>\n",
       "      <td>17446951</td>\n",
       "      <td>173514002</td>\n",
       "      <td>116919699</td>\n",
       "      <td>59</td>\n",
       "      <td>51</td>\n",
       "      <td>80</td>\n",
       "      <td>16</td>\n",
       "      <td>8</td>\n",
       "      <td>Y</td>\n",
       "    </tr>\n",
       "  </tbody>\n",
       "</table>\n",
       "</div>"
      ],
      "text/plain": [
       "  grass_region gp_account_owner gp_account_name    username    shopid  \\\n",
       "0           TH   Christine Tang          cifang  hotwind.th  17446951   \n",
       "1           TH   Christine Tang          cifang  hotwind.th  17446951   \n",
       "\n",
       "      itemid    modelid listing_price target_price seller_input_item_weight_g  \\\n",
       "0  173514002  116919704            59           51                         80   \n",
       "1  173514002  116919699            59           51                         80   \n",
       "\n",
       "  old_hidden_fee new_hidden_fee confirmed  \n",
       "0             16              8         Y  \n",
       "1             16              8         Y  "
      ]
     },
     "execution_count": 101,
     "metadata": {},
     "output_type": "execute_result"
    }
   ],
   "source": [
    "confirmed_df = pd.concat([confirmed_df, last_time_failed_sku], ignore_index = True)\n",
    "\n",
    "len(set(confirmed_df.shopid.to_list()))\n",
    "len(set(confirmed_df.itemid.to_list()))\n",
    "confirmed_df.shape[0]\n",
    "\n",
    "confirmed_df.head(2)"
   ]
  },
  {
   "cell_type": "markdown",
   "metadata": {},
   "source": [
    "## Ready to Call API"
   ]
  },
  {
   "cell_type": "markdown",
   "metadata": {},
   "source": [
    "### Append Additional SKUs (Optional)"
   ]
  },
  {
   "cell_type": "code",
   "execution_count": 123,
   "metadata": {
    "ExecuteTime": {
     "end_time": "2020-08-17T10:12:30.307732Z",
     "start_time": "2020-08-17T10:12:25.099067Z"
    }
   },
   "outputs": [
    {
     "data": {
      "text/plain": [
       "(29591, 13)"
      ]
     },
     "execution_count": 123,
     "metadata": {},
     "output_type": "execute_result"
    }
   ],
   "source": [
    "addtional_df = pd.read_excel(os.path.join(batch_folder, 'Batch2_Additional.xlsx'), encoding = 'utf-8-sig')\n",
    "addtional_df.shape"
   ]
  },
  {
   "cell_type": "code",
   "execution_count": 127,
   "metadata": {
    "ExecuteTime": {
     "end_time": "2020-08-17T10:14:06.308027Z",
     "start_time": "2020-08-17T10:14:06.301169Z"
    }
   },
   "outputs": [
    {
     "data": {
      "text/plain": [
       "True"
      ]
     },
     "execution_count": 127,
     "metadata": {},
     "output_type": "execute_result"
    }
   ],
   "source": [
    "addtional_df.columns.to_list() == confirmed_df.columns.to_list()"
   ]
  },
  {
   "cell_type": "code",
   "execution_count": 125,
   "metadata": {
    "ExecuteTime": {
     "end_time": "2020-08-17T10:13:01.422205Z",
     "start_time": "2020-08-17T10:13:01.409736Z"
    }
   },
   "outputs": [
    {
     "data": {
      "text/plain": [
       "(23063, 13)"
      ]
     },
     "execution_count": 125,
     "metadata": {},
     "output_type": "execute_result"
    }
   ],
   "source": [
    "addtional_df = addtional_df[addtional_df['confirmed'] == 'Y']\n",
    "addtional_df.shape"
   ]
  },
  {
   "cell_type": "code",
   "execution_count": 129,
   "metadata": {
    "ExecuteTime": {
     "end_time": "2020-08-17T10:14:23.100889Z",
     "start_time": "2020-08-17T10:14:22.985282Z"
    }
   },
   "outputs": [],
   "source": [
    "confirmed_df = pd.concat([confirmed_df, addtional_df], ignore_index = True)"
   ]
  },
  {
   "cell_type": "markdown",
   "metadata": {},
   "source": [
    "### Save Confirmed SKUs & Shops"
   ]
  },
  {
   "cell_type": "code",
   "execution_count": 132,
   "metadata": {
    "ExecuteTime": {
     "end_time": "2020-08-17T10:16:29.932407Z",
     "start_time": "2020-08-17T10:16:29.916695Z"
    }
   },
   "outputs": [
    {
     "data": {
      "text/plain": [
       "(1145938, 13)"
      ]
     },
     "execution_count": 132,
     "metadata": {},
     "output_type": "execute_result"
    },
    {
     "data": {
      "text/html": [
       "<div>\n",
       "<style scoped>\n",
       "    .dataframe tbody tr th:only-of-type {\n",
       "        vertical-align: middle;\n",
       "    }\n",
       "\n",
       "    .dataframe tbody tr th {\n",
       "        vertical-align: top;\n",
       "    }\n",
       "\n",
       "    .dataframe thead th {\n",
       "        text-align: right;\n",
       "    }\n",
       "</style>\n",
       "<table border=\"1\" class=\"dataframe\">\n",
       "  <thead>\n",
       "    <tr style=\"text-align: right;\">\n",
       "      <th></th>\n",
       "      <th>grass_region</th>\n",
       "      <th>gp_account_owner</th>\n",
       "      <th>gp_account_name</th>\n",
       "      <th>username</th>\n",
       "      <th>shopid</th>\n",
       "      <th>itemid</th>\n",
       "      <th>modelid</th>\n",
       "      <th>listing_price</th>\n",
       "      <th>target_price</th>\n",
       "      <th>seller_input_item_weight_g</th>\n",
       "      <th>old_hidden_fee</th>\n",
       "      <th>new_hidden_fee</th>\n",
       "      <th>confirmed</th>\n",
       "    </tr>\n",
       "  </thead>\n",
       "  <tbody>\n",
       "    <tr>\n",
       "      <th>0</th>\n",
       "      <td>TH</td>\n",
       "      <td>Christine Tang</td>\n",
       "      <td>cifang</td>\n",
       "      <td>hotwind.th</td>\n",
       "      <td>17446951</td>\n",
       "      <td>173514002</td>\n",
       "      <td>116919704</td>\n",
       "      <td>59</td>\n",
       "      <td>51</td>\n",
       "      <td>80</td>\n",
       "      <td>16</td>\n",
       "      <td>8</td>\n",
       "      <td>Y</td>\n",
       "    </tr>\n",
       "    <tr>\n",
       "      <th>1</th>\n",
       "      <td>TH</td>\n",
       "      <td>Christine Tang</td>\n",
       "      <td>cifang</td>\n",
       "      <td>hotwind.th</td>\n",
       "      <td>17446951</td>\n",
       "      <td>173514002</td>\n",
       "      <td>116919699</td>\n",
       "      <td>59</td>\n",
       "      <td>51</td>\n",
       "      <td>80</td>\n",
       "      <td>16</td>\n",
       "      <td>8</td>\n",
       "      <td>Y</td>\n",
       "    </tr>\n",
       "    <tr>\n",
       "      <th>2</th>\n",
       "      <td>TH</td>\n",
       "      <td>Christine Tang</td>\n",
       "      <td>cifang</td>\n",
       "      <td>hotwind.th</td>\n",
       "      <td>17446951</td>\n",
       "      <td>173514002</td>\n",
       "      <td>116919694</td>\n",
       "      <td>59</td>\n",
       "      <td>51</td>\n",
       "      <td>80</td>\n",
       "      <td>16</td>\n",
       "      <td>8</td>\n",
       "      <td>Y</td>\n",
       "    </tr>\n",
       "  </tbody>\n",
       "</table>\n",
       "</div>"
      ],
      "text/plain": [
       "  grass_region gp_account_owner gp_account_name    username    shopid  \\\n",
       "0           TH   Christine Tang          cifang  hotwind.th  17446951   \n",
       "1           TH   Christine Tang          cifang  hotwind.th  17446951   \n",
       "2           TH   Christine Tang          cifang  hotwind.th  17446951   \n",
       "\n",
       "      itemid    modelid listing_price target_price seller_input_item_weight_g  \\\n",
       "0  173514002  116919704            59           51                         80   \n",
       "1  173514002  116919699            59           51                         80   \n",
       "2  173514002  116919694            59           51                         80   \n",
       "\n",
       "  old_hidden_fee new_hidden_fee confirmed  \n",
       "0             16              8         Y  \n",
       "1             16              8         Y  \n",
       "2             16              8         Y  "
      ]
     },
     "execution_count": 132,
     "metadata": {},
     "output_type": "execute_result"
    }
   ],
   "source": [
    "confirmed_df.shape\n",
    "\n",
    "confirmed_df.head(3)"
   ]
  },
  {
   "cell_type": "code",
   "execution_count": 133,
   "metadata": {
    "ExecuteTime": {
     "end_time": "2020-08-17T10:16:37.983173Z",
     "start_time": "2020-08-17T10:16:33.115794Z"
    }
   },
   "outputs": [
    {
     "data": {
      "text/plain": [
       "(1145938, 13)"
      ]
     },
     "execution_count": 133,
     "metadata": {},
     "output_type": "execute_result"
    },
    {
     "data": {
      "text/html": [
       "<div>\n",
       "<style scoped>\n",
       "    .dataframe tbody tr th:only-of-type {\n",
       "        vertical-align: middle;\n",
       "    }\n",
       "\n",
       "    .dataframe tbody tr th {\n",
       "        vertical-align: top;\n",
       "    }\n",
       "\n",
       "    .dataframe thead th {\n",
       "        text-align: right;\n",
       "    }\n",
       "</style>\n",
       "<table border=\"1\" class=\"dataframe\">\n",
       "  <thead>\n",
       "    <tr style=\"text-align: right;\">\n",
       "      <th></th>\n",
       "      <th>grass_region</th>\n",
       "      <th>gp_account_owner</th>\n",
       "      <th>gp_account_name</th>\n",
       "      <th>username</th>\n",
       "      <th>shopid</th>\n",
       "      <th>itemid</th>\n",
       "      <th>modelid</th>\n",
       "      <th>listing_price</th>\n",
       "      <th>target_price</th>\n",
       "      <th>seller_input_item_weight_g</th>\n",
       "      <th>old_hidden_fee</th>\n",
       "      <th>new_hidden_fee</th>\n",
       "      <th>confirmed</th>\n",
       "    </tr>\n",
       "  </thead>\n",
       "  <tbody>\n",
       "    <tr>\n",
       "      <th>0</th>\n",
       "      <td>TH</td>\n",
       "      <td>Christine Tang</td>\n",
       "      <td>cifang</td>\n",
       "      <td>hotwind.th</td>\n",
       "      <td>17446951</td>\n",
       "      <td>173514002</td>\n",
       "      <td>116919704</td>\n",
       "      <td>59</td>\n",
       "      <td>51</td>\n",
       "      <td>80</td>\n",
       "      <td>16</td>\n",
       "      <td>8</td>\n",
       "      <td>Y</td>\n",
       "    </tr>\n",
       "    <tr>\n",
       "      <th>1</th>\n",
       "      <td>TH</td>\n",
       "      <td>Christine Tang</td>\n",
       "      <td>cifang</td>\n",
       "      <td>hotwind.th</td>\n",
       "      <td>17446951</td>\n",
       "      <td>173514002</td>\n",
       "      <td>116919699</td>\n",
       "      <td>59</td>\n",
       "      <td>51</td>\n",
       "      <td>80</td>\n",
       "      <td>16</td>\n",
       "      <td>8</td>\n",
       "      <td>Y</td>\n",
       "    </tr>\n",
       "    <tr>\n",
       "      <th>2</th>\n",
       "      <td>TH</td>\n",
       "      <td>Christine Tang</td>\n",
       "      <td>cifang</td>\n",
       "      <td>hotwind.th</td>\n",
       "      <td>17446951</td>\n",
       "      <td>173514002</td>\n",
       "      <td>116919694</td>\n",
       "      <td>59</td>\n",
       "      <td>51</td>\n",
       "      <td>80</td>\n",
       "      <td>16</td>\n",
       "      <td>8</td>\n",
       "      <td>Y</td>\n",
       "    </tr>\n",
       "    <tr>\n",
       "      <th>3</th>\n",
       "      <td>TH</td>\n",
       "      <td>Christine Tang</td>\n",
       "      <td>cifang</td>\n",
       "      <td>hotwind.th</td>\n",
       "      <td>17446951</td>\n",
       "      <td>173514002</td>\n",
       "      <td>116919695</td>\n",
       "      <td>59</td>\n",
       "      <td>51</td>\n",
       "      <td>80</td>\n",
       "      <td>16</td>\n",
       "      <td>8</td>\n",
       "      <td>Y</td>\n",
       "    </tr>\n",
       "    <tr>\n",
       "      <th>4</th>\n",
       "      <td>TH</td>\n",
       "      <td>Christine Tang</td>\n",
       "      <td>cifang</td>\n",
       "      <td>hotwind.th</td>\n",
       "      <td>17446951</td>\n",
       "      <td>173514002</td>\n",
       "      <td>116919697</td>\n",
       "      <td>59</td>\n",
       "      <td>51</td>\n",
       "      <td>80</td>\n",
       "      <td>16</td>\n",
       "      <td>8</td>\n",
       "      <td>Y</td>\n",
       "    </tr>\n",
       "  </tbody>\n",
       "</table>\n",
       "</div>"
      ],
      "text/plain": [
       "  grass_region gp_account_owner gp_account_name    username    shopid  \\\n",
       "0           TH   Christine Tang          cifang  hotwind.th  17446951   \n",
       "1           TH   Christine Tang          cifang  hotwind.th  17446951   \n",
       "2           TH   Christine Tang          cifang  hotwind.th  17446951   \n",
       "3           TH   Christine Tang          cifang  hotwind.th  17446951   \n",
       "4           TH   Christine Tang          cifang  hotwind.th  17446951   \n",
       "\n",
       "      itemid    modelid listing_price target_price seller_input_item_weight_g  \\\n",
       "0  173514002  116919704            59           51                         80   \n",
       "1  173514002  116919699            59           51                         80   \n",
       "2  173514002  116919694            59           51                         80   \n",
       "3  173514002  116919695            59           51                         80   \n",
       "4  173514002  116919697            59           51                         80   \n",
       "\n",
       "  old_hidden_fee new_hidden_fee confirmed  \n",
       "0             16              8         Y  \n",
       "1             16              8         Y  \n",
       "2             16              8         Y  \n",
       "3             16              8         Y  \n",
       "4             16              8         Y  "
      ]
     },
     "execution_count": 133,
     "metadata": {},
     "output_type": "execute_result"
    }
   ],
   "source": [
    "confirmed_df.to_csv(os.path.join(batch_folder, 'TotalConfirmedSKUs.csv'), encoding = 'utf-8-sig', index = False)\n",
    "\n",
    "confirmed_df.shape\n",
    "confirmed_df.head(5)"
   ]
  },
  {
   "cell_type": "code",
   "execution_count": 139,
   "metadata": {
    "ExecuteTime": {
     "end_time": "2020-08-17T10:19:21.447454Z",
     "start_time": "2020-08-17T10:19:21.296806Z"
    }
   },
   "outputs": [],
   "source": [
    "confirmed_shops = confirmed_df[['grass_region', 'shopid']]\n",
    "confirmed_shops['shopid'] = confirmed_shops['shopid'].astype(int)\n",
    "\n",
    "confirmed_shops.drop_duplicates(inplace = True)\n",
    "confirmed_shops.to_csv(os.path.join(batch_folder, 'TotalConfirmedShops.csv'), encoding = 'utf-8-sig', index = False)"
   ]
  },
  {
   "cell_type": "markdown",
   "metadata": {},
   "source": [
    "### Calculate Avg Price Drop Pct"
   ]
  },
  {
   "cell_type": "code",
   "execution_count": 108,
   "metadata": {
    "ExecuteTime": {
     "end_time": "2020-08-14T06:49:40.089738Z",
     "start_time": "2020-08-14T06:49:39.695211Z"
    }
   },
   "outputs": [
    {
     "name": "stdout",
     "output_type": "stream",
     "text": [
      "* Total Shops: 319\n",
      "* Total SKUs: 172172\n",
      "* Total Models: 1122875\n",
      "* Avg Drop Percentage: 10.85%\n"
     ]
    }
   ],
   "source": [
    "total_models = confirmed_df.shape[0]\n",
    "total_items = len(set(confirmed_df.itemid.to_list()))\n",
    "total_shops = len(set(confirmed_df.shopid.to_list()))\n",
    "\n",
    "\n",
    "calculated_df = confirmed_df.copy()\n",
    "calculated_df['drop_pct'] = (calculated_df['listing_price'] - calculated_df['target_price'])/calculated_df['listing_price']\n",
    "\n",
    "avg_drop_pct = str(round(calculated_df['drop_pct'].mean() * 100, 2)) + '%'\n",
    "\n",
    "print('* Total Shops: {0}'.format(total_shops))\n",
    "print('* Total SKUs: {0}'.format(total_items))\n",
    "print('* Total Models: {0}'.format(total_models))\n",
    "print('* Avg Price Drop Percentage: {0}'.format(avg_drop_pct))\n"
   ]
  },
  {
   "cell_type": "markdown",
   "metadata": {},
   "source": [
    "### Split to Several Partitions"
   ]
  },
  {
   "cell_type": "code",
   "execution_count": 113,
   "metadata": {
    "ExecuteTime": {
     "end_time": "2020-08-17T04:42:06.384609Z",
     "start_time": "2020-08-17T04:42:06.377332Z"
    }
   },
   "outputs": [
    {
     "data": {
      "text/plain": [
       "1122875"
      ]
     },
     "execution_count": 113,
     "metadata": {},
     "output_type": "execute_result"
    },
    {
     "data": {
      "text/plain": [
       "6"
      ]
     },
     "execution_count": 113,
     "metadata": {},
     "output_type": "execute_result"
    }
   ],
   "source": [
    "totalNum = confirmed_df.shape[0]\n",
    "cutoff = 200000\n",
    "partitionNum = math.ceil(totalNum/cutoff)\n",
    "\n",
    "totalNum\n",
    "partitionNum"
   ]
  },
  {
   "cell_type": "code",
   "execution_count": 114,
   "metadata": {
    "ExecuteTime": {
     "end_time": "2020-08-17T04:44:18.243315Z",
     "start_time": "2020-08-17T04:44:12.338311Z"
    }
   },
   "outputs": [
    {
     "name": "stdout",
     "output_type": "stream",
     "text": [
      "6\n"
     ]
    },
    {
     "data": {
      "text/html": [
       "<div>\n",
       "<style scoped>\n",
       "    .dataframe tbody tr th:only-of-type {\n",
       "        vertical-align: middle;\n",
       "    }\n",
       "\n",
       "    .dataframe tbody tr th {\n",
       "        vertical-align: top;\n",
       "    }\n",
       "\n",
       "    .dataframe thead th {\n",
       "        text-align: right;\n",
       "    }\n",
       "</style>\n",
       "<table border=\"1\" class=\"dataframe\">\n",
       "  <thead>\n",
       "    <tr style=\"text-align: right;\">\n",
       "      <th></th>\n",
       "      <th>grass_region</th>\n",
       "      <th>gp_account_owner</th>\n",
       "      <th>gp_account_name</th>\n",
       "      <th>username</th>\n",
       "      <th>shopid</th>\n",
       "      <th>itemid</th>\n",
       "      <th>modelid</th>\n",
       "      <th>listing_price</th>\n",
       "      <th>target_price</th>\n",
       "      <th>seller_input_item_weight_g</th>\n",
       "      <th>old_hidden_fee</th>\n",
       "      <th>new_hidden_fee</th>\n",
       "      <th>confirmed</th>\n",
       "    </tr>\n",
       "  </thead>\n",
       "  <tbody>\n",
       "    <tr>\n",
       "      <th>1000001</th>\n",
       "      <td>TH</td>\n",
       "      <td>Christine Tang</td>\n",
       "      <td>四衡商务信息咨询（上海）有限公司</td>\n",
       "      <td>goshopping.th</td>\n",
       "      <td>23386984</td>\n",
       "      <td>3836772293</td>\n",
       "      <td>19092661008</td>\n",
       "      <td>224</td>\n",
       "      <td>192</td>\n",
       "      <td>320</td>\n",
       "      <td>64</td>\n",
       "      <td>32</td>\n",
       "      <td>Y</td>\n",
       "    </tr>\n",
       "    <tr>\n",
       "      <th>1000002</th>\n",
       "      <td>TH</td>\n",
       "      <td>Christine Tang</td>\n",
       "      <td>四衡商务信息咨询（上海）有限公司</td>\n",
       "      <td>goshopping.th</td>\n",
       "      <td>23386984</td>\n",
       "      <td>3836772293</td>\n",
       "      <td>19092661007</td>\n",
       "      <td>224</td>\n",
       "      <td>192</td>\n",
       "      <td>320</td>\n",
       "      <td>64</td>\n",
       "      <td>32</td>\n",
       "      <td>Y</td>\n",
       "    </tr>\n",
       "    <tr>\n",
       "      <th>1000003</th>\n",
       "      <td>TH</td>\n",
       "      <td>Christine Tang</td>\n",
       "      <td>四衡商务信息咨询（上海）有限公司</td>\n",
       "      <td>goshopping.th</td>\n",
       "      <td>23386984</td>\n",
       "      <td>3836772293</td>\n",
       "      <td>19092661005</td>\n",
       "      <td>224</td>\n",
       "      <td>192</td>\n",
       "      <td>320</td>\n",
       "      <td>64</td>\n",
       "      <td>32</td>\n",
       "      <td>Y</td>\n",
       "    </tr>\n",
       "    <tr>\n",
       "      <th>1000004</th>\n",
       "      <td>TH</td>\n",
       "      <td>Christine Tang</td>\n",
       "      <td>四衡商务信息咨询（上海）有限公司</td>\n",
       "      <td>goshopping.th</td>\n",
       "      <td>23386984</td>\n",
       "      <td>3836772293</td>\n",
       "      <td>19092661010</td>\n",
       "      <td>224</td>\n",
       "      <td>192</td>\n",
       "      <td>320</td>\n",
       "      <td>64</td>\n",
       "      <td>32</td>\n",
       "      <td>Y</td>\n",
       "    </tr>\n",
       "    <tr>\n",
       "      <th>1000005</th>\n",
       "      <td>TH</td>\n",
       "      <td>Christine Tang</td>\n",
       "      <td>四衡商务信息咨询（上海）有限公司</td>\n",
       "      <td>goshopping.th</td>\n",
       "      <td>23386984</td>\n",
       "      <td>3836772293</td>\n",
       "      <td>19092661009</td>\n",
       "      <td>224</td>\n",
       "      <td>192</td>\n",
       "      <td>320</td>\n",
       "      <td>64</td>\n",
       "      <td>32</td>\n",
       "      <td>Y</td>\n",
       "    </tr>\n",
       "    <tr>\n",
       "      <th>...</th>\n",
       "      <td>...</td>\n",
       "      <td>...</td>\n",
       "      <td>...</td>\n",
       "      <td>...</td>\n",
       "      <td>...</td>\n",
       "      <td>...</td>\n",
       "      <td>...</td>\n",
       "      <td>...</td>\n",
       "      <td>...</td>\n",
       "      <td>...</td>\n",
       "      <td>...</td>\n",
       "      <td>...</td>\n",
       "      <td>...</td>\n",
       "    </tr>\n",
       "    <tr>\n",
       "      <th>1122870</th>\n",
       "      <td>TH</td>\n",
       "      <td>Johnny Chen</td>\n",
       "      <td>揭阳空港经济区炮台镇吴嘉文服装店</td>\n",
       "      <td>wujiawen013.th</td>\n",
       "      <td>252795408</td>\n",
       "      <td>5534690559</td>\n",
       "      <td>18237193761</td>\n",
       "      <td>248</td>\n",
       "      <td>228</td>\n",
       "      <td>200</td>\n",
       "      <td>40</td>\n",
       "      <td>20</td>\n",
       "      <td>Y</td>\n",
       "    </tr>\n",
       "    <tr>\n",
       "      <th>1122871</th>\n",
       "      <td>TH</td>\n",
       "      <td>Johnny Chen</td>\n",
       "      <td>揭阳空港经济区炮台镇吴嘉文服装店</td>\n",
       "      <td>wujiawen013.th</td>\n",
       "      <td>252795408</td>\n",
       "      <td>5534690559</td>\n",
       "      <td>18237193758</td>\n",
       "      <td>248</td>\n",
       "      <td>228</td>\n",
       "      <td>200</td>\n",
       "      <td>40</td>\n",
       "      <td>20</td>\n",
       "      <td>Y</td>\n",
       "    </tr>\n",
       "    <tr>\n",
       "      <th>1122872</th>\n",
       "      <td>TH</td>\n",
       "      <td>Johnny Chen</td>\n",
       "      <td>揭阳空港经济区炮台镇吴嘉文服装店</td>\n",
       "      <td>wujiawen013.th</td>\n",
       "      <td>252795408</td>\n",
       "      <td>5534690559</td>\n",
       "      <td>18237193760</td>\n",
       "      <td>248</td>\n",
       "      <td>228</td>\n",
       "      <td>200</td>\n",
       "      <td>40</td>\n",
       "      <td>20</td>\n",
       "      <td>Y</td>\n",
       "    </tr>\n",
       "    <tr>\n",
       "      <th>1122873</th>\n",
       "      <td>TH</td>\n",
       "      <td>Johnny Chen</td>\n",
       "      <td>揭阳空港经济区炮台镇吴嘉文服装店</td>\n",
       "      <td>wujiawen013.th</td>\n",
       "      <td>252795408</td>\n",
       "      <td>5534690559</td>\n",
       "      <td>18237193759</td>\n",
       "      <td>248</td>\n",
       "      <td>228</td>\n",
       "      <td>200</td>\n",
       "      <td>40</td>\n",
       "      <td>20</td>\n",
       "      <td>Y</td>\n",
       "    </tr>\n",
       "    <tr>\n",
       "      <th>1122874</th>\n",
       "      <td>TH</td>\n",
       "      <td>Johnny Chen</td>\n",
       "      <td>揭阳空港经济区炮台镇吴嘉文服装店</td>\n",
       "      <td>wujiawen013.th</td>\n",
       "      <td>252795408</td>\n",
       "      <td>6343002475</td>\n",
       "      <td>50351156907</td>\n",
       "      <td>348</td>\n",
       "      <td>318</td>\n",
       "      <td>300</td>\n",
       "      <td>60</td>\n",
       "      <td>30</td>\n",
       "      <td>Y</td>\n",
       "    </tr>\n",
       "  </tbody>\n",
       "</table>\n",
       "<p>122874 rows × 13 columns</p>\n",
       "</div>"
      ],
      "text/plain": [
       "        grass_region gp_account_owner   gp_account_name        username  \\\n",
       "1000001           TH   Christine Tang  四衡商务信息咨询（上海）有限公司   goshopping.th   \n",
       "1000002           TH   Christine Tang  四衡商务信息咨询（上海）有限公司   goshopping.th   \n",
       "1000003           TH   Christine Tang  四衡商务信息咨询（上海）有限公司   goshopping.th   \n",
       "1000004           TH   Christine Tang  四衡商务信息咨询（上海）有限公司   goshopping.th   \n",
       "1000005           TH   Christine Tang  四衡商务信息咨询（上海）有限公司   goshopping.th   \n",
       "...              ...              ...               ...             ...   \n",
       "1122870           TH      Johnny Chen  揭阳空港经济区炮台镇吴嘉文服装店  wujiawen013.th   \n",
       "1122871           TH      Johnny Chen  揭阳空港经济区炮台镇吴嘉文服装店  wujiawen013.th   \n",
       "1122872           TH      Johnny Chen  揭阳空港经济区炮台镇吴嘉文服装店  wujiawen013.th   \n",
       "1122873           TH      Johnny Chen  揭阳空港经济区炮台镇吴嘉文服装店  wujiawen013.th   \n",
       "1122874           TH      Johnny Chen  揭阳空港经济区炮台镇吴嘉文服装店  wujiawen013.th   \n",
       "\n",
       "            shopid      itemid      modelid listing_price target_price  \\\n",
       "1000001   23386984  3836772293  19092661008           224          192   \n",
       "1000002   23386984  3836772293  19092661007           224          192   \n",
       "1000003   23386984  3836772293  19092661005           224          192   \n",
       "1000004   23386984  3836772293  19092661010           224          192   \n",
       "1000005   23386984  3836772293  19092661009           224          192   \n",
       "...            ...         ...          ...           ...          ...   \n",
       "1122870  252795408  5534690559  18237193761           248          228   \n",
       "1122871  252795408  5534690559  18237193758           248          228   \n",
       "1122872  252795408  5534690559  18237193760           248          228   \n",
       "1122873  252795408  5534690559  18237193759           248          228   \n",
       "1122874  252795408  6343002475  50351156907           348          318   \n",
       "\n",
       "        seller_input_item_weight_g old_hidden_fee new_hidden_fee confirmed  \n",
       "1000001                        320             64             32         Y  \n",
       "1000002                        320             64             32         Y  \n",
       "1000003                        320             64             32         Y  \n",
       "1000004                        320             64             32         Y  \n",
       "1000005                        320             64             32         Y  \n",
       "...                            ...            ...            ...       ...  \n",
       "1122870                        200             40             20         Y  \n",
       "1122871                        200             40             20         Y  \n",
       "1122872                        200             40             20         Y  \n",
       "1122873                        200             40             20         Y  \n",
       "1122874                        300             60             30         Y  \n",
       "\n",
       "[122874 rows x 13 columns]"
      ]
     },
     "execution_count": 114,
     "metadata": {},
     "output_type": "execute_result"
    }
   ],
   "source": [
    "partition_folder = '/Users/xu.zhu/Desktop/Data/PriceAdjustment/TH_ReductionPlan/Partitions'\n",
    "\n",
    "start = 0\n",
    "count = 1\n",
    "for i in range(partitionNum):\n",
    "    end = count * cutoff\n",
    "    small_df = confirmed_df.loc[start:end]\n",
    "    small_df.to_csv(os.path.join(partition_folder, '{0}_ConfirmedSKU.csv'.format(count)),\n",
    "                    encoding='utf-8-sig',\n",
    "                    index=False)\n",
    "    \n",
    "    start = end + 1\n",
    "    count += 1\n",
    "\n",
    "print(count - 1)\n",
    "small_df"
   ]
  },
  {
   "cell_type": "markdown",
   "metadata": {},
   "source": [
    "## Check Outputs"
   ]
  },
  {
   "cell_type": "markdown",
   "metadata": {},
   "source": [
    "### Get Partition Files"
   ]
  },
  {
   "cell_type": "code",
   "execution_count": 179,
   "metadata": {
    "ExecuteTime": {
     "end_time": "2020-08-18T05:40:48.482476Z",
     "start_time": "2020-08-18T05:40:48.478962Z"
    }
   },
   "outputs": [
    {
     "name": "stdout",
     "output_type": "stream",
     "text": [
      "\n",
      "===== Files Info =====\n",
      "* Folder Path: /Users/xu.zhu/Desktop/Data/PriceAdjustment/TH_ReductionPlan/Batch2/Result\n",
      "* File Type: all\n",
      "* Total Files: 7\n"
     ]
    }
   ],
   "source": [
    "resultFolder = os.path.join(batch_folder, 'Result')\n",
    "\n",
    "failedFiles = get_all_files(resultFolder)"
   ]
  },
  {
   "cell_type": "markdown",
   "metadata": {},
   "source": [
    "### Combination"
   ]
  },
  {
   "cell_type": "code",
   "execution_count": 180,
   "metadata": {
    "ExecuteTime": {
     "end_time": "2020-08-18T05:45:11.786385Z",
     "start_time": "2020-08-18T05:45:11.649709Z"
    }
   },
   "outputs": [],
   "source": [
    "totalFailedSKU = pd.DataFrame()\n",
    "\n",
    "for failedFile in failedFiles:\n",
    "    _ = pd.read_csv(failedFile, encoding = 'utf-8-sig')\n",
    "    totalFailedSKU = pd.concat([totalFailedSKU, _], ignore_index = True)"
   ]
  },
  {
   "cell_type": "code",
   "execution_count": 183,
   "metadata": {
    "ExecuteTime": {
     "end_time": "2020-08-18T05:46:04.836498Z",
     "start_time": "2020-08-18T05:46:04.815138Z"
    }
   },
   "outputs": [
    {
     "data": {
      "text/html": [
       "<div>\n",
       "<style scoped>\n",
       "    .dataframe tbody tr th:only-of-type {\n",
       "        vertical-align: middle;\n",
       "    }\n",
       "\n",
       "    .dataframe tbody tr th {\n",
       "        vertical-align: top;\n",
       "    }\n",
       "\n",
       "    .dataframe thead th {\n",
       "        text-align: right;\n",
       "    }\n",
       "</style>\n",
       "<table border=\"1\" class=\"dataframe\">\n",
       "  <thead>\n",
       "    <tr style=\"text-align: right;\">\n",
       "      <th></th>\n",
       "      <th>shopid</th>\n",
       "      <th>itemid</th>\n",
       "      <th>modelid</th>\n",
       "      <th>step</th>\n",
       "      <th>failed_reason</th>\n",
       "    </tr>\n",
       "  </thead>\n",
       "  <tbody>\n",
       "    <tr>\n",
       "      <th>0</th>\n",
       "      <td>38322003</td>\n",
       "      <td>1879021202</td>\n",
       "      <td>3232954794</td>\n",
       "      <td>GetItemDetail</td>\n",
       "      <td>error server</td>\n",
       "    </tr>\n",
       "    <tr>\n",
       "      <th>1</th>\n",
       "      <td>38322003</td>\n",
       "      <td>2666058160</td>\n",
       "      <td>6197113295</td>\n",
       "      <td>GetItemDetail</td>\n",
       "      <td>error_server</td>\n",
       "    </tr>\n",
       "    <tr>\n",
       "      <th>2</th>\n",
       "      <td>38322003</td>\n",
       "      <td>3534114548</td>\n",
       "      <td>17891943875</td>\n",
       "      <td>AdjustOriginalPrice</td>\n",
       "      <td>error_banned</td>\n",
       "    </tr>\n",
       "  </tbody>\n",
       "</table>\n",
       "</div>"
      ],
      "text/plain": [
       "     shopid      itemid      modelid                 step failed_reason\n",
       "0  38322003  1879021202   3232954794        GetItemDetail  error server\n",
       "1  38322003  2666058160   6197113295        GetItemDetail  error_server\n",
       "2  38322003  3534114548  17891943875  AdjustOriginalPrice  error_banned"
      ]
     },
     "execution_count": 183,
     "metadata": {},
     "output_type": "execute_result"
    },
    {
     "data": {
      "text/plain": [
       "257"
      ]
     },
     "execution_count": 183,
     "metadata": {},
     "output_type": "execute_result"
    },
    {
     "data": {
      "text/plain": [
       "13264"
      ]
     },
     "execution_count": 183,
     "metadata": {},
     "output_type": "execute_result"
    },
    {
     "data": {
      "text/plain": [
       "54613"
      ]
     },
     "execution_count": 183,
     "metadata": {},
     "output_type": "execute_result"
    }
   ],
   "source": [
    "totalFailedSKU.head(3)\n",
    "\n",
    "len(set(totalFailedSKU.shopid.to_list()))\n",
    "len(set(totalFailedSKU.itemid.to_list()))\n",
    "totalFailedSKU.shape[0]"
   ]
  },
  {
   "cell_type": "code",
   "execution_count": 189,
   "metadata": {
    "ExecuteTime": {
     "end_time": "2020-08-18T05:50:12.164578Z",
     "start_time": "2020-08-18T05:50:12.150694Z"
    }
   },
   "outputs": [
    {
     "data": {
      "text/html": [
       "<div>\n",
       "<style scoped>\n",
       "    .dataframe tbody tr th:only-of-type {\n",
       "        vertical-align: middle;\n",
       "    }\n",
       "\n",
       "    .dataframe tbody tr th {\n",
       "        vertical-align: top;\n",
       "    }\n",
       "\n",
       "    .dataframe thead th {\n",
       "        text-align: right;\n",
       "    }\n",
       "</style>\n",
       "<table border=\"1\" class=\"dataframe\">\n",
       "  <thead>\n",
       "    <tr style=\"text-align: right;\">\n",
       "      <th></th>\n",
       "      <th>modelid</th>\n",
       "    </tr>\n",
       "    <tr>\n",
       "      <th>failed_reason</th>\n",
       "      <th></th>\n",
       "    </tr>\n",
       "  </thead>\n",
       "  <tbody>\n",
       "    <tr>\n",
       "      <th>Call API Failed</th>\n",
       "      <td>8729</td>\n",
       "    </tr>\n",
       "    <tr>\n",
       "      <th>Duplicated modelid 0</th>\n",
       "      <td>17</td>\n",
       "    </tr>\n",
       "    <tr>\n",
       "      <th>Request Param Error</th>\n",
       "      <td>2978</td>\n",
       "    </tr>\n",
       "    <tr>\n",
       "      <th>error server</th>\n",
       "      <td>17</td>\n",
       "    </tr>\n",
       "    <tr>\n",
       "      <th>error_auth</th>\n",
       "      <td>74</td>\n",
       "    </tr>\n",
       "    <tr>\n",
       "      <th>error_banned</th>\n",
       "      <td>33829</td>\n",
       "    </tr>\n",
       "    <tr>\n",
       "      <th>error_desc_length_min_limit</th>\n",
       "      <td>96</td>\n",
       "    </tr>\n",
       "    <tr>\n",
       "      <th>error_edit_item_price_for_item_has_model</th>\n",
       "      <td>3</td>\n",
       "    </tr>\n",
       "    <tr>\n",
       "      <th>error_image_unavailable</th>\n",
       "      <td>10</td>\n",
       "    </tr>\n",
       "    <tr>\n",
       "      <th>error_in_item_promotion_item_price_lock</th>\n",
       "      <td>1</td>\n",
       "    </tr>\n",
       "    <tr>\n",
       "      <th>error_model_price_range_too_high</th>\n",
       "      <td>1628</td>\n",
       "    </tr>\n",
       "    <tr>\n",
       "      <th>error_model_update_price_model_in_promotion</th>\n",
       "      <td>494</td>\n",
       "    </tr>\n",
       "    <tr>\n",
       "      <th>error_not_exists</th>\n",
       "      <td>39</td>\n",
       "    </tr>\n",
       "    <tr>\n",
       "      <th>error_server</th>\n",
       "      <td>64</td>\n",
       "    </tr>\n",
       "    <tr>\n",
       "      <th>error_title_length_max_limit</th>\n",
       "      <td>29</td>\n",
       "    </tr>\n",
       "    <tr>\n",
       "      <th>error_title_length_min_limit</th>\n",
       "      <td>245</td>\n",
       "    </tr>\n",
       "    <tr>\n",
       "      <th>error_unknown</th>\n",
       "      <td>5275</td>\n",
       "    </tr>\n",
       "    <tr>\n",
       "      <th>error_whole_sale_model_price_not_same</th>\n",
       "      <td>1084</td>\n",
       "    </tr>\n",
       "    <tr>\n",
       "      <th>error_whole_sale_price_setting_incorrect</th>\n",
       "      <td>1</td>\n",
       "    </tr>\n",
       "  </tbody>\n",
       "</table>\n",
       "</div>"
      ],
      "text/plain": [
       "                                             modelid\n",
       "failed_reason                                       \n",
       "Call API Failed                                 8729\n",
       "Duplicated modelid 0                              17\n",
       "Request Param Error                             2978\n",
       "error server                                      17\n",
       "error_auth                                        74\n",
       "error_banned                                   33829\n",
       "error_desc_length_min_limit                       96\n",
       "error_edit_item_price_for_item_has_model           3\n",
       "error_image_unavailable                           10\n",
       "error_in_item_promotion_item_price_lock            1\n",
       "error_model_price_range_too_high                1628\n",
       "error_model_update_price_model_in_promotion      494\n",
       "error_not_exists                                  39\n",
       "error_server                                      64\n",
       "error_title_length_max_limit                      29\n",
       "error_title_length_min_limit                     245\n",
       "error_unknown                                   5275\n",
       "error_whole_sale_model_price_not_same           1084\n",
       "error_whole_sale_price_setting_incorrect           1"
      ]
     },
     "execution_count": 189,
     "metadata": {},
     "output_type": "execute_result"
    }
   ],
   "source": [
    "totalFailedReason = totalFailedSKU[['modelid', 'failed_reason']].groupby('failed_reason').count()\n",
    "totalFailedReason"
   ]
  },
  {
   "cell_type": "markdown",
   "metadata": {},
   "source": [
    "### Save Total Failed SKUs"
   ]
  },
  {
   "cell_type": "code",
   "execution_count": 195,
   "metadata": {
    "ExecuteTime": {
     "end_time": "2020-08-18T05:55:37.371222Z",
     "start_time": "2020-08-18T05:55:37.366523Z"
    }
   },
   "outputs": [
    {
     "data": {
      "text/plain": [
       "'95.23%'"
      ]
     },
     "execution_count": 195,
     "metadata": {},
     "output_type": "execute_result"
    }
   ],
   "source": [
    "successRate = str(round((confirmed_df.shape[0] - totalFailedSKU.shape[0])/confirmed_df.shape[0] * 100, 2)) + '%'\n",
    "successRate"
   ]
  },
  {
   "cell_type": "code",
   "execution_count": 190,
   "metadata": {
    "ExecuteTime": {
     "end_time": "2020-08-18T05:50:14.645286Z",
     "start_time": "2020-08-18T05:50:14.461562Z"
    }
   },
   "outputs": [],
   "source": [
    "totalFailedSKU.to_csv(os.path.join(batch_folder, 'TotalFailedSKUs.csv'), encoding = 'utf-8-sig', index = False)\n",
    "\n",
    "totalFailedReason.reset_index(inplace = True)\n",
    "totalFailedReason.to_csv(os.path.join(batch_folder, 'TotalFailedReasons.csv'), encoding = 'utf-8-sig', index = False)"
   ]
  },
  {
   "cell_type": "code",
   "execution_count": null,
   "metadata": {},
   "outputs": [],
   "source": []
  },
  {
   "cell_type": "code",
   "execution_count": null,
   "metadata": {},
   "outputs": [],
   "source": []
  }
 ],
 "metadata": {
  "kernelspec": {
   "display_name": "Python 3",
   "language": "python",
   "name": "python3"
  },
  "language_info": {
   "codemirror_mode": {
    "name": "ipython",
    "version": 3
   },
   "file_extension": ".py",
   "mimetype": "text/x-python",
   "name": "python",
   "nbconvert_exporter": "python",
   "pygments_lexer": "ipython3",
   "version": "3.7.6"
  },
  "toc": {
   "base_numbering": 1,
   "nav_menu": {},
   "number_sections": true,
   "sideBar": true,
   "skip_h1_title": true,
   "title_cell": "Table of Contents",
   "title_sidebar": "Contents",
   "toc_cell": true,
   "toc_position": {},
   "toc_section_display": true,
   "toc_window_display": true
  },
  "varInspector": {
   "cols": {
    "lenName": 16,
    "lenType": 16,
    "lenVar": 40
   },
   "kernels_config": {
    "python": {
     "delete_cmd_postfix": "",
     "delete_cmd_prefix": "del ",
     "library": "var_list.py",
     "varRefreshCmd": "print(var_dic_list())"
    },
    "r": {
     "delete_cmd_postfix": ") ",
     "delete_cmd_prefix": "rm(",
     "library": "var_list.r",
     "varRefreshCmd": "cat(var_dic_list()) "
    }
   },
   "types_to_exclude": [
    "module",
    "function",
    "builtin_function_or_method",
    "instance",
    "_Feature"
   ],
   "window_display": false
  }
 },
 "nbformat": 4,
 "nbformat_minor": 4
}
