{
 "cells": [
  {
   "cell_type": "markdown",
   "metadata": {
    "toc": true
   },
   "source": [
    "<h1>Table of Contents<span class=\"tocSkip\"></span></h1>\n",
    "<div class=\"toc\"><ul class=\"toc-item\"><li><span><a href=\"#Check-Raw-Data\" data-toc-modified-id=\"Check-Raw-Data-1\"><span class=\"toc-item-num\">1&nbsp;&nbsp;</span>Check Raw Data</a></span></li></ul></div>"
   ]
  },
  {
   "cell_type": "code",
   "execution_count": 39,
   "metadata": {
    "ExecuteTime": {
     "end_time": "2020-08-25T15:19:42.670901Z",
     "start_time": "2020-08-25T15:19:42.634506Z"
    }
   },
   "outputs": [],
   "source": [
    "%matplotlib inline\n",
    "import matplotlib.pyplot as plt\n",
    "import seaborn as sns\n",
    "\n",
    "import os\n",
    "import numpy as np\n",
    "import pandas as pd\n",
    "import datetime\n",
    "import time\n",
    "import math\n",
    "\n",
    "import numpy as np\n",
    "import pandas as pd\n",
    "\n",
    "import langdetect as lgd\n",
    "from googletrans import Translator\n",
    "\n",
    "import warnings\n",
    "warnings.filterwarnings('ignore')\n",
    "from IPython.core.interactiveshell import InteractiveShell\n",
    "InteractiveShell.ast_node_interactivity = 'all'\n",
    "\n",
    "import socket\n",
    "socket.setdefaulttimeout(7200)"
   ]
  },
  {
   "cell_type": "code",
   "execution_count": 40,
   "metadata": {
    "ExecuteTime": {
     "end_time": "2020-08-25T15:19:43.338639Z",
     "start_time": "2020-08-25T15:19:43.331502Z"
    }
   },
   "outputs": [],
   "source": [
    "def check_dataframe_info(df, uniqInfo = True):\n",
    "    rowNum = df.shape[0]\n",
    "    colNum = len(df.columns)\n",
    "    cols = df.columns.to_list()\n",
    "    \n",
    "    print(\"\")\n",
    "    print(\"----- CHECK DATAFRAME INFO\")\n",
    "    print(\"* Rows: {0}\\n* Columns: {1}\\n\\t{2}\".format(rowNum, colNum, cols))\n",
    "    if uniqInfo == True:\n",
    "        print(\"--- Uniq Info\")\n",
    "        for col in cols:\n",
    "            uniqNum = len(set(raw_df[\"{colName}\".format(colName = col)].to_list()))\n",
    "            print(\"* For Column '{0}', Uniq Elements: {1}\".format(col, uniqNum))\n",
    "    else:\n",
    "        pass"
   ]
  },
  {
   "cell_type": "markdown",
   "metadata": {},
   "source": [
    "---"
   ]
  },
  {
   "cell_type": "markdown",
   "metadata": {},
   "source": [
    "**Path Info**"
   ]
  },
  {
   "cell_type": "code",
   "execution_count": 41,
   "metadata": {
    "ExecuteTime": {
     "end_time": "2020-08-25T15:19:50.015665Z",
     "start_time": "2020-08-25T15:19:48.365760Z"
    }
   },
   "outputs": [
    {
     "name": "stdout",
     "output_type": "stream",
     "text": [
      "Please Entry The Batch Number: 0\n",
      "* Batch Folder: /Users/xu.zhu/Desktop/Data/LanguageDetection/Batch0\n",
      "* Data Folder: /Users/xu.zhu/Desktop/Data/LanguageDetection/Batch0/RawData\n"
     ]
    }
   ],
   "source": [
    "batchNum = int(input(\"Please Entry The Batch Number: \"))\n",
    "\n",
    "parentFolder = \"/Users/xu.zhu/Desktop/Data/LanguageDetection\"\n",
    "batchFolder = os.path.join(parentFolder, \"Batch{0}\".format(batchNum))\n",
    "dataFolder = os.path.join(batchFolder, \"RawData\")\n",
    "\n",
    "print(\"* Batch Folder: {0}\\n* Data Folder: {1}\".format(batchFolder, dataFolder))"
   ]
  },
  {
   "cell_type": "markdown",
   "metadata": {},
   "source": [
    "## Check Raw Data"
   ]
  },
  {
   "cell_type": "code",
   "execution_count": 38,
   "metadata": {
    "ExecuteTime": {
     "end_time": "2020-08-25T06:40:53.194411Z",
     "start_time": "2020-08-25T06:40:53.098634Z"
    }
   },
   "outputs": [
    {
     "data": {
      "text/html": [
       "<div>\n",
       "<style scoped>\n",
       "    .dataframe tbody tr th:only-of-type {\n",
       "        vertical-align: middle;\n",
       "    }\n",
       "\n",
       "    .dataframe tbody tr th {\n",
       "        vertical-align: top;\n",
       "    }\n",
       "\n",
       "    .dataframe thead th {\n",
       "        text-align: right;\n",
       "    }\n",
       "</style>\n",
       "<table border=\"1\" class=\"dataframe\">\n",
       "  <thead>\n",
       "    <tr style=\"text-align: right;\">\n",
       "      <th></th>\n",
       "      <th>ggp_account_name</th>\n",
       "      <th>gp_account_name</th>\n",
       "      <th>shopid</th>\n",
       "      <th>shop_monthly_order</th>\n",
       "      <th>ggp_monthly_order</th>\n",
       "    </tr>\n",
       "  </thead>\n",
       "  <tbody>\n",
       "    <tr>\n",
       "      <th>0</th>\n",
       "      <td>Zehui - GGP</td>\n",
       "      <td>Zehui</td>\n",
       "      <td>20025202</td>\n",
       "      <td>15840</td>\n",
       "      <td>1167631289</td>\n",
       "    </tr>\n",
       "    <tr>\n",
       "      <th>1</th>\n",
       "      <td>Zehui - GGP</td>\n",
       "      <td>Zehui</td>\n",
       "      <td>61326522</td>\n",
       "      <td>11914</td>\n",
       "      <td>1167631289</td>\n",
       "    </tr>\n",
       "    <tr>\n",
       "      <th>2</th>\n",
       "      <td>Zehui - GGP</td>\n",
       "      <td>Zehui</td>\n",
       "      <td>10891137</td>\n",
       "      <td>10692</td>\n",
       "      <td>1167631289</td>\n",
       "    </tr>\n",
       "  </tbody>\n",
       "</table>\n",
       "</div>"
      ],
      "text/plain": [
       "  ggp_account_name gp_account_name    shopid  shop_monthly_order  \\\n",
       "0      Zehui - GGP           Zehui  20025202               15840   \n",
       "1      Zehui - GGP           Zehui  61326522               11914   \n",
       "2      Zehui - GGP           Zehui  10891137               10692   \n",
       "\n",
       "   ggp_monthly_order  \n",
       "0         1167631289  \n",
       "1         1167631289  \n",
       "2         1167631289  "
      ]
     },
     "execution_count": 38,
     "metadata": {},
     "output_type": "execute_result"
    },
    {
     "name": "stdout",
     "output_type": "stream",
     "text": [
      "\n",
      "----- CHECK DATAFRAME INFO\n",
      "* Rows: 6139\n",
      "* Columns: 5\n",
      "\t['ggp_account_name', 'gp_account_name', 'shopid', 'shop_monthly_order', 'ggp_monthly_order']\n",
      "--- Uniq Info\n",
      "* For Column 'ggp_account_name', Uniq Elements: 703\n",
      "* For Column 'gp_account_name', Uniq Elements: 2443\n",
      "* For Column 'shopid', Uniq Elements: 6139\n",
      "* For Column 'shop_monthly_order', Uniq Elements: 908\n",
      "* For Column 'ggp_monthly_order', Uniq Elements: 703\n"
     ]
    }
   ],
   "source": [
    "raw_df = pd.read_csv(os.path.join(dataFolder, \"ForeignLanguageListing_GGP.csv\"),\n",
    "                     encoding = 'utf-8-sig')\n",
    "raw_df[\"shop_monthly_order\"] = raw_df[\"shop_monthly_order\"].astype(int)\n",
    "raw_df.head(3)\n",
    "\n",
    "check_dataframe_info(raw_df)"
   ]
  },
  {
   "cell_type": "code",
   "execution_count": null,
   "metadata": {},
   "outputs": [],
   "source": []
  }
 ],
 "metadata": {
  "kernelspec": {
   "display_name": "Python 3",
   "language": "python",
   "name": "python3"
  },
  "language_info": {
   "codemirror_mode": {
    "name": "ipython",
    "version": 3
   },
   "file_extension": ".py",
   "mimetype": "text/x-python",
   "name": "python",
   "nbconvert_exporter": "python",
   "pygments_lexer": "ipython3",
   "version": "3.7.6"
  },
  "toc": {
   "base_numbering": 1,
   "nav_menu": {},
   "number_sections": true,
   "sideBar": true,
   "skip_h1_title": true,
   "title_cell": "Table of Contents",
   "title_sidebar": "Contents",
   "toc_cell": true,
   "toc_position": {
    "height": "calc(100% - 180px)",
    "left": "10px",
    "top": "150px",
    "width": "296.424px"
   },
   "toc_section_display": true,
   "toc_window_display": true
  },
  "varInspector": {
   "cols": {
    "lenName": 16,
    "lenType": 16,
    "lenVar": 40
   },
   "kernels_config": {
    "python": {
     "delete_cmd_postfix": "",
     "delete_cmd_prefix": "del ",
     "library": "var_list.py",
     "varRefreshCmd": "print(var_dic_list())"
    },
    "r": {
     "delete_cmd_postfix": ") ",
     "delete_cmd_prefix": "rm(",
     "library": "var_list.r",
     "varRefreshCmd": "cat(var_dic_list()) "
    }
   },
   "types_to_exclude": [
    "module",
    "function",
    "builtin_function_or_method",
    "instance",
    "_Feature"
   ],
   "window_display": false
  }
 },
 "nbformat": 4,
 "nbformat_minor": 4
}
