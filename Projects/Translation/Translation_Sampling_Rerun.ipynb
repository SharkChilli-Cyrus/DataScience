{
 "cells": [
  {
   "cell_type": "markdown",
   "metadata": {
    "toc": true
   },
   "source": [
    "<h1>Table of Contents<span class=\"tocSkip\"></span></h1>\n",
    "<div class=\"toc\"><ul class=\"toc-item\"><li><span><a href=\"#Basic-Functions\" data-toc-modified-id=\"Basic-Functions-1\"><span class=\"toc-item-num\">1&nbsp;&nbsp;</span>Basic Functions</a></span></li><li><span><a href=\"#Offline-Rerun\" data-toc-modified-id=\"Offline-Rerun-2\"><span class=\"toc-item-num\">2&nbsp;&nbsp;</span>Offline Rerun</a></span><ul class=\"toc-item\"><li><span><a href=\"#Status-==-1\" data-toc-modified-id=\"Status-==-1-2.1\"><span class=\"toc-item-num\">2.1&nbsp;&nbsp;</span>Status == 1</a></span></li></ul></li><li><span><a href=\"#Sampling\" data-toc-modified-id=\"Sampling-3\"><span class=\"toc-item-num\">3&nbsp;&nbsp;</span>Sampling</a></span><ul class=\"toc-item\"><li><span><a href=\"#ID\" data-toc-modified-id=\"ID-3.1\"><span class=\"toc-item-num\">3.1&nbsp;&nbsp;</span>ID</a></span><ul class=\"toc-item\"><li><span><a href=\"#Get-Preferred-Shops\" data-toc-modified-id=\"Get-Preferred-Shops-3.1.1\"><span class=\"toc-item-num\">3.1.1&nbsp;&nbsp;</span>Get Preferred Shops</a></span></li><li><span><a href=\"#Get-Excluded-Items\" data-toc-modified-id=\"Get-Excluded-Items-3.1.2\"><span class=\"toc-item-num\">3.1.2&nbsp;&nbsp;</span>Get Excluded Items</a></span></li><li><span><a href=\"#Get-Sample-Size\" data-toc-modified-id=\"Get-Sample-Size-3.1.3\"><span class=\"toc-item-num\">3.1.3&nbsp;&nbsp;</span>Get Sample Size</a></span></li><li><span><a href=\"#Processing\" data-toc-modified-id=\"Processing-3.1.4\"><span class=\"toc-item-num\">3.1.4&nbsp;&nbsp;</span>Processing</a></span></li></ul></li></ul></li></ul></div>"
   ]
  },
  {
   "cell_type": "code",
   "execution_count": 1,
   "metadata": {
    "ExecuteTime": {
     "end_time": "2020-08-20T07:48:26.948217Z",
     "start_time": "2020-08-20T07:48:25.482681Z"
    }
   },
   "outputs": [],
   "source": [
    "%matplotlib inline\n",
    "import matplotlib.pyplot as plt\n",
    "import seaborn as sns\n",
    "\n",
    "import os\n",
    "import numpy as np\n",
    "import pandas as pd\n",
    "import datetime\n",
    "import time\n",
    "import math\n",
    "\n",
    "import numpy as np\n",
    "import pandas as pd\n",
    "\n",
    "import langdetect as lgd\n",
    "from googletrans import Translator\n",
    "\n",
    "import warnings\n",
    "warnings.filterwarnings('ignore')\n",
    "from IPython.core.interactiveshell import InteractiveShell\n",
    "InteractiveShell.ast_node_interactivity = 'all'"
   ]
  },
  {
   "cell_type": "markdown",
   "metadata": {},
   "source": [
    "---"
   ]
  },
  {
   "cell_type": "code",
   "execution_count": 14,
   "metadata": {
    "ExecuteTime": {
     "end_time": "2020-08-20T08:21:21.476802Z",
     "start_time": "2020-08-20T08:21:21.474063Z"
    }
   },
   "outputs": [],
   "source": [
    "offlineDataFolder = '/Users/xu.zhu/Desktop/Data/Translaltion/OfflineRerun'"
   ]
  },
  {
   "cell_type": "code",
   "execution_count": 15,
   "metadata": {
    "ExecuteTime": {
     "end_time": "2020-08-20T08:21:22.512278Z",
     "start_time": "2020-08-20T08:21:22.507941Z"
    }
   },
   "outputs": [
    {
     "data": {
      "text/plain": [
       "{'TH': 5000, 'ID': 35000}"
      ]
     },
     "execution_count": 15,
     "metadata": {},
     "output_type": "execute_result"
    }
   ],
   "source": [
    "sampleSizeDict = {}\n",
    "sampleSizeDict['TH'] = 5000\n",
    "sampleSizeDict['ID'] = 35000\n",
    "\n",
    "sampleSizeDict"
   ]
  },
  {
   "cell_type": "code",
   "execution_count": 16,
   "metadata": {
    "ExecuteTime": {
     "end_time": "2020-08-20T08:22:04.934719Z",
     "start_time": "2020-08-20T08:22:02.661196Z"
    }
   },
   "outputs": [
    {
     "name": "stdout",
     "output_type": "stream",
     "text": [
      "Please Entry Region:id\n",
      "{'Home & Living': 0.2, 'Fashion Accessories': 0.15, 'Mobile & Accessories': 0.15, 'Hobby & Collection': 0.1, 'Beauty': 0.1, 'Women Clothes': 0.08, 'Baby & Kids Fashion': 0.08, 'Mom & Baby': 0.05, 'Electronics': 0.05, 'Sports & Outdoor': 0.04}\n"
     ]
    }
   ],
   "source": [
    "region = input(\"Please Entry Region:\")\n",
    "if region.lower() == 'th':\n",
    "    sampleSize = sampleSizeDict['TH']\n",
    "    \n",
    "    cat_dict = {}\n",
    "    cat_dict['Mobile & Gadgets'] = 0.2\n",
    "    cat_dict[\"Women Clothes\"] = 0.2 \n",
    "    cat_dict[\"Baby & Toys\"] = 0.1\n",
    "    cat_dict[\"Women Shoes\"] = 0.1 \n",
    "    cat_dict[\"Beauty & Personal Care\"] = 0.1\n",
    "    cat_dict[\"Home & Living\"] = 0.1\n",
    "    cat_dict[\"Watches & Glasses\"] = 0.1\n",
    "    cat_dict[\"Bags\"] = 0.1\n",
    "    \n",
    "elif region.lower() == 'id':\n",
    "    cat_dict = {}\n",
    "    cat_dict[\"Home & Living\"] = 0.2 \n",
    "    cat_dict[\"Fashion Accessories\"] = 0.15\n",
    "    cat_dict[\"Mobile & Accessories\"] = 0.15\n",
    "    cat_dict[\"Hobby & Collection\"] = 0.10\n",
    "    cat_dict[\"Beauty\"] = 0.10\n",
    "    cat_dict[\"Women Clothes\"] = 0.08\n",
    "    cat_dict[\"Baby & Kids Fashion\"] = 0.08\n",
    "    cat_dict[\"Mom & Baby\"] = 0.05\n",
    "    cat_dict[\"Electronics\"] = 0.05\n",
    "    cat_dict[\"Sports & Outdoor\"] = 0.04\n",
    "\n",
    "else:\n",
    "    pass\n",
    "\n",
    "print(cat_dict)"
   ]
  },
  {
   "cell_type": "markdown",
   "metadata": {
    "heading_collapsed": true
   },
   "source": [
    "## Basic Functions"
   ]
  },
  {
   "cell_type": "code",
   "execution_count": 19,
   "metadata": {
    "ExecuteTime": {
     "end_time": "2020-08-20T08:52:49.020582Z",
     "start_time": "2020-08-20T08:52:48.986716Z"
    },
    "hidden": true
   },
   "outputs": [],
   "source": [
    "def gsheet_get_credentials(scopes, folder_path):\n",
    "    creds = None\n",
    "    crendentialPath = os.path.join(folder_path, 'Gsheet_py3_credentials.json')\n",
    "    tokenPath = os.path.join(folder_path, 'Gsheet_py3_token.pickle')\n",
    "\n",
    "    if os.path.exists(tokenPath):\n",
    "        with open(tokenPath, 'rb') as token:\n",
    "            creds = pickle.load(token)\n",
    "\n",
    "    if not creds or not creds.valid:\n",
    "        if creds and creds.expired and creds.refresh_token:\n",
    "            creds.refresh(Request())\n",
    "        else:\n",
    "            flow = InstalledAppFlow.from_client_secrets_file(crendentialPath, scopes)\n",
    "            creds = flow.run_local_server()\n",
    "        with open(tokenPath, 'wb') as token:\n",
    "            pickle.dump(creds, token)\n",
    "\n",
    "    return creds\n",
    "\n",
    "\n",
    "def gsheet_read_data(gsheetCreds, gsheetID, gsheetReadRange,\n",
    "                     outputOption = 'DataFrame', printInfo = True):\n",
    "    gsheetService = build('sheets', 'v4', credentials = gsheetCreds)\n",
    "    sheet = gsheetService.spreadsheets()\n",
    "    request = sheet.values().get(spreadsheetId = gsheetID, range = gsheetReadRange)\n",
    "    response = request.execute()\n",
    "    values = response['values']\n",
    "\n",
    "    if outputOption.lower() == 'list':\n",
    "        # result = [value[0] for value in values if value != []]\n",
    "        result = []\n",
    "        for value in values:\n",
    "            if value == []:\n",
    "                continue\n",
    "            else:\n",
    "                result.append(value[0])\n",
    "\n",
    "    elif outputOption.lower() == 'string':\n",
    "        pyVersion = int(sys.version_info[0])\n",
    "        if pyVersion == 2:\n",
    "            resultTemp = [str(value[0]).encode('utf-8') for value in values if value != []]\n",
    "        else:\n",
    "            resultTemp = [str(value[0]) for value in values if value != []]\n",
    "        result = \"(\" + \",\".join(resultTemp) + \")\"\n",
    "\n",
    "    else:\n",
    "        cols = values.pop(0)\n",
    "        result = pd.DataFrame(data = values, columns = cols)\n",
    "\n",
    "    if printInfo == True:\n",
    "        gsheetURL = 'https://docs.google.com/spreadsheets/d/{0}'.format(gsheetID)\n",
    "        print(\"----- AUTO READ\")\n",
    "        print(\"* Read Data From: {0}\".format(gsheetURL))\n",
    "        print(\"* Read Range: {0}\".format(gsheetReadRange))\n",
    "        print(\"* Output Option: {0}\".format(outputOption.lower()))\n",
    "    else:\n",
    "        pass\n",
    "\n",
    "    return result\n",
    "\n",
    "\n",
    "def gdrive_get_credentials(scopes, folder_path):\n",
    "    creds = None\n",
    "    crendential_path = os.path.join(folder_path, 'Gdrive_py3_credentials.json')\n",
    "    token_path = os.path.join(folder_path, 'Gdrive_py3_token.pickle')\n",
    "\n",
    "    if os.path.exists(token_path):\n",
    "        with open(token_path, 'rb') as token:\n",
    "            creds = pickle.load(token)\n",
    "    \n",
    "    if not creds or not creds.valid:\n",
    "        if creds and creds.expired and creds.refresh_token:\n",
    "            creds.refresh(Request())\n",
    "        else:\n",
    "            flow = InstalledAppFlow.from_client_secrets_file(crendential_path, scopes)\n",
    "            creds = flow.run_local_server(port=0)\n",
    "\n",
    "        # Save the credentials for the next run\n",
    "        with open(token_path, 'wb') as token:\n",
    "            pickle.dump(creds, token)\n",
    "\n",
    "    return creds\n",
    "\n",
    "\n",
    "def gdrive_download(gdriveCreds, gdriveFolderID, downloadFolderPath, gdriveFileMatchKeys,\n",
    "                    printInfo = True):\n",
    "    matchedFiles = []\n",
    "    downloadedFiles = []\n",
    "    gdriveURL = 'https://drive.google.com/drive/u/0/folders/{0}'.format(gdriveFolderID)\n",
    "\n",
    "    gdriveService = build('drive', 'v3', credentials = gdriveCreds)\n",
    "    gdriveSearchQuery = \"'{0}' in parents\".format(gdriveFolderID)\n",
    "    listedResponse = gdriveService.files().list(q = gdriveSearchQuery).execute()\n",
    "\n",
    "    listedFiles = listedResponse['files']\n",
    "    for gdriveFile in listedFiles:\n",
    "        gdirveFileID = gdriveFile['id']\n",
    "        gdriveFileName = gdriveFile['name']\n",
    "\n",
    "        for _ in gdriveFileMatchKeys:\n",
    "            if \"translated\" in gdriveFileName and _ in gdriveFileName: # \n",
    "                matchedFiles.append(gdriveFileName)\n",
    "                request = gdriveService.files().get_media(fileId = gdirveFileID)\n",
    "                \n",
    "                # Method I\n",
    "                with open(os.path.join(downloadFolderPath, gdriveFileName), 'wb') as f:\n",
    "                    downloader = MediaIoBaseDownload(f, request)\n",
    "                    done = False\n",
    "                    while done is False:\n",
    "                        status, done = downloader.next_chunk()\n",
    "                downloadedFiles.append(gdriveFileName)\n",
    "\n",
    "                # Method II\n",
    "                # fh = io.BytesIO(request.execute())\n",
    "                # with io.open(os.path.join(downloadFolderPath, gdriveFileName), 'wb') as f:\n",
    "                #     fh.seek(0)\n",
    "                #     f.write(fh.read())\n",
    "                # print(\"Downloaded {0}\".format(gdriveFileName))\n",
    "            else:\n",
    "                pass\n",
    "\n",
    "    if printInfo == True:\n",
    "        print(\"----- AUTO DOWNLOAD\")\n",
    "        print(\"* Downloade Gdrive Files From: {0}\".format(gdriveURL))\n",
    "        print(\"* Matching Keys: translated & {0}\".format(gdriveFileMatchKeys))\n",
    "        print(\"* Matched {0} Files:\\n\\t{1}\".format(len(matchedFiles), matchedFiles))\n",
    "        print(\"* Downloaded {0} Files:\\n\\t{1}\".format(len(downloadedFiles), downloadedFiles))\n",
    "    else:\n",
    "        pass\n",
    "\n",
    "    return downloadedFiles\n",
    "\n",
    "\n",
    "def gdrive_upload(gdriveCreds, gdriveFolderID, allFilePaths, \n",
    "                  newFolderOption = True, printInfo = True, \n",
    "                  **kwargs):\n",
    "    uploadedFiles = []\n",
    "    gdriveService = build('drive', 'v3', credentials = gdriveCreds)\n",
    "    gdriveURL = 'https://drive.google.com/drive/u/0/folders/{0}'.format(gdriveFolderID)\n",
    "\n",
    "    if newFolderOption == True:\n",
    "        if 'newFolderName' in kwargs.keys():\n",
    "            newFolderName = kwargs['newFolderName']\n",
    "        else:\n",
    "            newFolderName = kwargs[list(kwargs.keys())[0]]\n",
    "\n",
    "        folderMetaData = {'name': str(newFolderName), \n",
    "                          'mimeType': 'application/vnd.google-apps.folder', \n",
    "                          'parents': [gdriveFolderID]}\n",
    "\n",
    "        newFolderObject = gdriveService.files().create(body = folderMetaData,\n",
    "                                                       fields = 'id').execute()\n",
    "        folderID = newFolderObject['id']\n",
    "    else:\n",
    "        folderID = gdriveFolderID\n",
    "\n",
    "    for filePath in allFilePaths:\n",
    "        uploadedFileName = filePath.split('/')[-1]\n",
    "        fileMetaData = {\"name\": uploadedFileName, \"parents\": [folderID]}\n",
    "\n",
    "        # Here only considering csv and xlsx 2 formats\n",
    "        # More MIME Types Refer: https://developers.google.com/drive/api/v3/ref-export-formats\n",
    "        uploadedFileFormat = uploadedFileName.split('.')[-1]\n",
    "        if uploadedFileFormat == 'csv':\n",
    "            uploadedFileType = 'text/csv'\n",
    "        else:\n",
    "            uploadedFileType = 'application/vnd.openxmlformats-officedocument.spreadsheetml.sheet'\n",
    "        \n",
    "        media = MediaFileUpload(filePath, mimetype = uploadedFileType)\n",
    "        file = gdriveService.files().create(body = fileMetaData,\n",
    "                                            media_body = media,\n",
    "                                            fields = 'id').execute()\n",
    "        \n",
    "        uploadedFiles.append(uploadedFileName)\n",
    "    \n",
    "    if printInfo == True:\n",
    "        print(\"----- AUTO UPLOAD\")\n",
    "        print(\"* Upload Files To Gdrive: {0}\".format(gdriveURL))\n",
    "        print(\"* Uploaded {0} Files:\\n\\t{1}\".format(len(uploadedFiles), uploadedFiles))\n",
    "    else:\n",
    "        pass\n",
    "\n",
    "    return uploadedFiles"
   ]
  },
  {
   "cell_type": "markdown",
   "metadata": {},
   "source": [
    "## Offline Rerun"
   ]
  },
  {
   "cell_type": "code",
   "execution_count": 17,
   "metadata": {
    "ExecuteTime": {
     "end_time": "2020-08-20T08:22:32.731325Z",
     "start_time": "2020-08-20T08:22:28.425763Z"
    }
   },
   "outputs": [
    {
     "data": {
      "text/plain": [
       "(40834, 8)"
      ]
     },
     "execution_count": 17,
     "metadata": {},
     "output_type": "execute_result"
    },
    {
     "data": {
      "text/html": [
       "<div>\n",
       "<style scoped>\n",
       "    .dataframe tbody tr th:only-of-type {\n",
       "        vertical-align: middle;\n",
       "    }\n",
       "\n",
       "    .dataframe tbody tr th {\n",
       "        vertical-align: top;\n",
       "    }\n",
       "\n",
       "    .dataframe thead th {\n",
       "        text-align: right;\n",
       "    }\n",
       "</style>\n",
       "<table border=\"1\" class=\"dataframe\">\n",
       "  <thead>\n",
       "    <tr style=\"text-align: right;\">\n",
       "      <th></th>\n",
       "      <th>shopid</th>\n",
       "      <th>itemid</th>\n",
       "      <th>main_name</th>\n",
       "      <th>product_name</th>\n",
       "      <th>product_url</th>\n",
       "      <th>translation</th>\n",
       "      <th>score</th>\n",
       "      <th>flag</th>\n",
       "    </tr>\n",
       "  </thead>\n",
       "  <tbody>\n",
       "    <tr>\n",
       "      <th>0</th>\n",
       "      <td>11818526</td>\n",
       "      <td>4146670623</td>\n",
       "      <td>Beauty &amp; Care</td>\n",
       "      <td>MAX Flakes Slices Mirror Sparkly Stars Laser N...</td>\n",
       "      <td>https://shopee.co.id/a-i.11818526.4146670623</td>\n",
       "      <td>Hiasan Kuku Sequin Laser Motif Bintang Berkila...</td>\n",
       "      <td>0.465929</td>\n",
       "      <td>False</td>\n",
       "    </tr>\n",
       "    <tr>\n",
       "      <th>1</th>\n",
       "      <td>28079462</td>\n",
       "      <td>3946788157</td>\n",
       "      <td>Home &amp; Living</td>\n",
       "      <td>Auto Darkening Solar Welders Welding Helmet Mask</td>\n",
       "      <td>https://shopee.co.id/a-i.28079462.3946788157</td>\n",
       "      <td>Helm Pelindung Wajah Dengan Kaca Gelap Otomati...</td>\n",
       "      <td>0.497638</td>\n",
       "      <td>False</td>\n",
       "    </tr>\n",
       "    <tr>\n",
       "      <th>2</th>\n",
       "      <td>28079462</td>\n",
       "      <td>3746361132</td>\n",
       "      <td>Automotive</td>\n",
       "      <td>12V 24V 300db Super Loud Four/ 4 Trumpet Air H...</td>\n",
       "      <td>https://shopee.co.id/a-i.28079462.3746361132</td>\n",
       "      <td>Klakson Angin Super Keras 4/4 Terompet 12v 24v...</td>\n",
       "      <td>0.748091</td>\n",
       "      <td>False</td>\n",
       "    </tr>\n",
       "  </tbody>\n",
       "</table>\n",
       "</div>"
      ],
      "text/plain": [
       "     shopid      itemid      main_name  \\\n",
       "0  11818526  4146670623  Beauty & Care   \n",
       "1  28079462  3946788157  Home & Living   \n",
       "2  28079462  3746361132     Automotive   \n",
       "\n",
       "                                        product_name  \\\n",
       "0  MAX Flakes Slices Mirror Sparkly Stars Laser N...   \n",
       "1   Auto Darkening Solar Welders Welding Helmet Mask   \n",
       "2  12V 24V 300db Super Loud Four/ 4 Trumpet Air H...   \n",
       "\n",
       "                                    product_url  \\\n",
       "0  https://shopee.co.id/a-i.11818526.4146670623   \n",
       "1  https://shopee.co.id/a-i.28079462.3946788157   \n",
       "2  https://shopee.co.id/a-i.28079462.3746361132   \n",
       "\n",
       "                                         translation     score   flag  \n",
       "0  Hiasan Kuku Sequin Laser Motif Bintang Berkila...  0.465929  False  \n",
       "1  Helm Pelindung Wajah Dengan Kaca Gelap Otomati...  0.497638  False  \n",
       "2  Klakson Angin Super Keras 4/4 Terompet 12v 24v...  0.748091  False  "
      ]
     },
     "execution_count": 17,
     "metadata": {},
     "output_type": "execute_result"
    }
   ],
   "source": [
    "offlineFile = os.path.join(offlineDataFolder, '2020-08-19_ID_Translation_Raw-translated-below.xlsx')\n",
    "raw_df = pd.read_excel(offlineFile, encoding = 'utf-8-sig')\n",
    "raw_df.shape\n",
    "\n",
    "raw_df.head(3)"
   ]
  },
  {
   "cell_type": "code",
   "execution_count": 18,
   "metadata": {
    "ExecuteTime": {
     "end_time": "2020-08-20T08:30:12.115951Z",
     "start_time": "2020-08-20T08:30:12.111539Z"
    }
   },
   "outputs": [
    {
     "data": {
      "text/plain": [
       "{False}"
      ]
     },
     "execution_count": 18,
     "metadata": {},
     "output_type": "execute_result"
    }
   ],
   "source": [
    "set(raw_df.flag.to_list())"
   ]
  },
  {
   "cell_type": "markdown",
   "metadata": {},
   "source": [
    "### Status == 1"
   ]
  },
  {
   "cell_type": "code",
   "execution_count": 10,
   "metadata": {
    "ExecuteTime": {
     "end_time": "2020-08-20T07:58:37.768314Z",
     "start_time": "2020-08-20T07:58:37.760056Z"
    }
   },
   "outputs": [
    {
     "data": {
      "text/plain": [
       "(9905, 10)"
      ]
     },
     "execution_count": 10,
     "metadata": {},
     "output_type": "execute_result"
    },
    {
     "data": {
      "text/plain": [
       "['shopid',\n",
       " 'itemid',\n",
       " 'Username',\n",
       " 'Category',\n",
       " 'product_name',\n",
       " 'product_url',\n",
       " 'status',\n",
       " 'translation',\n",
       " 'score',\n",
       " 'flag']"
      ]
     },
     "execution_count": 10,
     "metadata": {},
     "output_type": "execute_result"
    }
   ],
   "source": [
    "raw_df = raw_df[raw_df['status'] == 1]\n",
    "raw_df.shape\n",
    "\n",
    "cols = raw_df.columns.to_list()\n",
    "cols"
   ]
  },
  {
   "cell_type": "markdown",
   "metadata": {},
   "source": [
    "## Sampling"
   ]
  },
  {
   "cell_type": "code",
   "execution_count": 22,
   "metadata": {
    "ExecuteTime": {
     "end_time": "2020-08-20T08:55:17.258040Z",
     "start_time": "2020-08-20T08:55:16.655468Z"
    }
   },
   "outputs": [],
   "source": [
    "import pickle\n",
    "from googleapiclient.discovery import build\n",
    "from google_auth_oauthlib.flow import InstalledAppFlow\n",
    "from google.auth.transport.requests import Request\n",
    "from googleapiclient.http import MediaFileUpload, MediaIoBaseDownload"
   ]
  },
  {
   "cell_type": "markdown",
   "metadata": {},
   "source": [
    "### ID"
   ]
  },
  {
   "cell_type": "code",
   "execution_count": 24,
   "metadata": {
    "ExecuteTime": {
     "end_time": "2020-08-20T08:55:48.870438Z",
     "start_time": "2020-08-20T08:55:48.866113Z"
    }
   },
   "outputs": [],
   "source": [
    "today = datetime.datetime.today().strftime('%F')\n",
    "d1 = (datetime.datetime.today() - datetime.timedelta(days = 1)).strftime(\"%Y-%m-%d\")\n",
    "d2 = (datetime.datetime.today() - datetime.timedelta(days = 2)).strftime(\"%Y-%m-%d\")\n",
    "d3 = (datetime.datetime.today() - datetime.timedelta(days = 3)).strftime(\"%Y-%m-%d\")\n",
    "\n",
    "downloadFolderPath = '/Users/xu.zhu/Desktop/Data/Translaltion/OfflineRerun'\n",
    "outputFolderPath = '/Users/xu.zhu/Desktop/Data/Translaltion/OfflineRerun'\n",
    "credentialFolder = '/Users/xu.zhu/Desktop/Data/Keys/GoogleAPI/credentials'"
   ]
  },
  {
   "cell_type": "code",
   "execution_count": 25,
   "metadata": {
    "ExecuteTime": {
     "end_time": "2020-08-20T08:55:49.787822Z",
     "start_time": "2020-08-20T08:55:49.303678Z"
    }
   },
   "outputs": [],
   "source": [
    "gsheetScopes = 'https://www.googleapis.com/auth/spreadsheets'\n",
    "gsheetCreds = gsheet_get_credentials(gsheetScopes, credentialFolder)\n",
    "\n",
    "gdriveScopes = ['https://www.googleapis.com/auth/drive']\n",
    "gdriveCreds = gdrive_get_credentials(gdriveScopes, credentialFolder)"
   ]
  },
  {
   "cell_type": "markdown",
   "metadata": {},
   "source": [
    "#### Get Preferred Shops"
   ]
  },
  {
   "cell_type": "code",
   "execution_count": 30,
   "metadata": {
    "ExecuteTime": {
     "end_time": "2020-08-20T08:59:37.740610Z",
     "start_time": "2020-08-20T08:59:36.141180Z"
    }
   },
   "outputs": [
    {
     "name": "stdout",
     "output_type": "stream",
     "text": [
      "----- AUTO READ\n",
      "* Read Data From: https://docs.google.com/spreadsheets/d/1JlXpnTj1WDfcIrWUPc6VJTccc9ZehS9Gjw1ob0XgFME\n",
      "* Read Range: Focus shop!A1:D\n",
      "* Output Option: dataframe\n"
     ]
    },
    {
     "data": {
      "text/plain": [
       "(89, 4)"
      ]
     },
     "execution_count": 30,
     "metadata": {},
     "output_type": "execute_result"
    },
    {
     "data": {
      "text/html": [
       "<div>\n",
       "<style scoped>\n",
       "    .dataframe tbody tr th:only-of-type {\n",
       "        vertical-align: middle;\n",
       "    }\n",
       "\n",
       "    .dataframe tbody tr th {\n",
       "        vertical-align: top;\n",
       "    }\n",
       "\n",
       "    .dataframe thead th {\n",
       "        text-align: right;\n",
       "    }\n",
       "</style>\n",
       "<table border=\"1\" class=\"dataframe\">\n",
       "  <thead>\n",
       "    <tr style=\"text-align: right;\">\n",
       "      <th></th>\n",
       "      <th>S/N</th>\n",
       "      <th>shopid</th>\n",
       "      <th>seller username</th>\n",
       "      <th>seller type/reason to prioritize</th>\n",
       "    </tr>\n",
       "  </thead>\n",
       "  <tbody>\n",
       "    <tr>\n",
       "      <th>0</th>\n",
       "      <td>1</td>\n",
       "      <td>76523971</td>\n",
       "      <td>o.two.o.id</td>\n",
       "      <td>JBP</td>\n",
       "    </tr>\n",
       "    <tr>\n",
       "      <th>1</th>\n",
       "      <td>2</td>\n",
       "      <td>77707111</td>\n",
       "      <td>focallureshop.id</td>\n",
       "      <td>JBP</td>\n",
       "    </tr>\n",
       "  </tbody>\n",
       "</table>\n",
       "</div>"
      ],
      "text/plain": [
       "  S/N    shopid   seller username seller type/reason to prioritize\n",
       "0   1  76523971        o.two.o.id                              JBP\n",
       "1   2  77707111  focallureshop.id                              JBP"
      ]
     },
     "execution_count": 30,
     "metadata": {},
     "output_type": "execute_result"
    }
   ],
   "source": [
    "gsheetID_PreferredShops = '1JlXpnTj1WDfcIrWUPc6VJTccc9ZehS9Gjw1ob0XgFME' \n",
    "gsheetRange_PreferredShops = 'Focus shop!A1:D'\n",
    "preferredShops_df = gsheet_read_data(gsheetCreds, gsheetID_PreferredShops, gsheetRange_PreferredShops)\n",
    "\n",
    "preferredShops_df['shopid'] = preferredShops_df['shopid'].astype(int)\n",
    "preferredShops = list(set(preferredShops_df['shopid'].to_list()))\n",
    "\n",
    "preferredShops_df.shape\n",
    "preferredShops_df.head(2)"
   ]
  },
  {
   "cell_type": "markdown",
   "metadata": {},
   "source": [
    "#### Get Excluded Items"
   ]
  },
  {
   "cell_type": "code",
   "execution_count": 29,
   "metadata": {
    "ExecuteTime": {
     "end_time": "2020-08-20T08:59:31.579798Z",
     "start_time": "2020-08-20T08:59:21.245887Z"
    }
   },
   "outputs": [
    {
     "name": "stdout",
     "output_type": "stream",
     "text": [
      "----- AUTO READ\n",
      "* Read Data From: https://docs.google.com/spreadsheets/d/1tMhexIR3_WnG9USuv1Tz4qTEhelu984cZnB6ez20MYI\n",
      "* Read Range: abnormal_item!A:A\n",
      "* Output Option: dataframe\n"
     ]
    },
    {
     "data": {
      "text/plain": [
       "(500000, 1)"
      ]
     },
     "execution_count": 29,
     "metadata": {},
     "output_type": "execute_result"
    },
    {
     "data": {
      "text/html": [
       "<div>\n",
       "<style scoped>\n",
       "    .dataframe tbody tr th:only-of-type {\n",
       "        vertical-align: middle;\n",
       "    }\n",
       "\n",
       "    .dataframe tbody tr th {\n",
       "        vertical-align: top;\n",
       "    }\n",
       "\n",
       "    .dataframe thead th {\n",
       "        text-align: right;\n",
       "    }\n",
       "</style>\n",
       "<table border=\"1\" class=\"dataframe\">\n",
       "  <thead>\n",
       "    <tr style=\"text-align: right;\">\n",
       "      <th></th>\n",
       "      <th>itemid</th>\n",
       "    </tr>\n",
       "  </thead>\n",
       "  <tbody>\n",
       "    <tr>\n",
       "      <th>0</th>\n",
       "      <td>4802071490</td>\n",
       "    </tr>\n",
       "    <tr>\n",
       "      <th>1</th>\n",
       "      <td>4401472164</td>\n",
       "    </tr>\n",
       "  </tbody>\n",
       "</table>\n",
       "</div>"
      ],
      "text/plain": [
       "       itemid\n",
       "0  4802071490\n",
       "1  4401472164"
      ]
     },
     "execution_count": 29,
     "metadata": {},
     "output_type": "execute_result"
    }
   ],
   "source": [
    "gsheetID_ExcludedItems = '1tMhexIR3_WnG9USuv1Tz4qTEhelu984cZnB6ez20MYI'\n",
    "gsheetRange_ExcludedItems = 'abnormal_item!A:A'\n",
    "excludedItems_df = gsheet_read_data(gsheetCreds, gsheetID_ExcludedItems, gsheetRange_ExcludedItems)\n",
    "\n",
    "excludedItems_df['itemid'] = excludedItems_df['itemid'].astype(int)\n",
    "\n",
    "excludedItems_df.shape\n",
    "excludedItems_df.head(2)"
   ]
  },
  {
   "cell_type": "markdown",
   "metadata": {},
   "source": [
    "#### Get Sample Size"
   ]
  },
  {
   "cell_type": "code",
   "execution_count": 43,
   "metadata": {
    "ExecuteTime": {
     "end_time": "2020-08-20T09:34:58.235807Z",
     "start_time": "2020-08-20T09:34:56.849457Z"
    }
   },
   "outputs": [
    {
     "name": "stdout",
     "output_type": "stream",
     "text": [
      "----- AUTO READ\n",
      "* Read Data From: https://docs.google.com/spreadsheets/d/1YZlRGsqD3lTJgPRlN7PSTQiFmVdXuN15ZeCp0f18stw\n",
      "* Read Range: Human_translation_capacity!A1:B\n",
      "* Output Option: dataframe\n"
     ]
    },
    {
     "data": {
      "text/html": [
       "<div>\n",
       "<style scoped>\n",
       "    .dataframe tbody tr th:only-of-type {\n",
       "        vertical-align: middle;\n",
       "    }\n",
       "\n",
       "    .dataframe tbody tr th {\n",
       "        vertical-align: top;\n",
       "    }\n",
       "\n",
       "    .dataframe thead th {\n",
       "        text-align: right;\n",
       "    }\n",
       "</style>\n",
       "<table border=\"1\" class=\"dataframe\">\n",
       "  <thead>\n",
       "    <tr style=\"text-align: right;\">\n",
       "      <th></th>\n",
       "      <th>country</th>\n",
       "      <th>capacity</th>\n",
       "    </tr>\n",
       "  </thead>\n",
       "  <tbody>\n",
       "    <tr>\n",
       "      <th>0</th>\n",
       "      <td>ID</td>\n",
       "      <td>35000</td>\n",
       "    </tr>\n",
       "    <tr>\n",
       "      <th>1</th>\n",
       "      <td>TH</td>\n",
       "      <td>5000</td>\n",
       "    </tr>\n",
       "  </tbody>\n",
       "</table>\n",
       "</div>"
      ],
      "text/plain": [
       "  country  capacity\n",
       "0      ID     35000\n",
       "1      TH      5000"
      ]
     },
     "execution_count": 43,
     "metadata": {},
     "output_type": "execute_result"
    },
    {
     "data": {
      "text/plain": [
       "35000"
      ]
     },
     "execution_count": 43,
     "metadata": {},
     "output_type": "execute_result"
    }
   ],
   "source": [
    "gsheetID_SampleSize = '1YZlRGsqD3lTJgPRlN7PSTQiFmVdXuN15ZeCp0f18stw'\n",
    "gsheetRange_SampleSize = 'Human_translation_capacity!A1:B'\n",
    "sampleSize_df = gsheet_read_data(gsheetCreds, gsheetID_SampleSize, gsheetRange_SampleSize)\n",
    "sampleSize_df['capacity'] = sampleSize_df['capacity'].astype(int)\n",
    "\n",
    "sampleSize = int(sampleSize_df[sampleSize_df['country'] == 'ID']['capacity'])\n",
    "sampleSize_df\n",
    "sampleSize"
   ]
  },
  {
   "cell_type": "markdown",
   "metadata": {},
   "source": [
    "#### Processing"
   ]
  },
  {
   "cell_type": "code",
   "execution_count": 46,
   "metadata": {
    "ExecuteTime": {
     "end_time": "2020-08-20T09:45:18.492991Z",
     "start_time": "2020-08-20T09:45:18.488625Z"
    }
   },
   "outputs": [],
   "source": [
    "cat_dict = {}\n",
    "cat_dict[\"Home & Living\"] = 0.2 \n",
    "cat_dict[\"Fashion Accessories\"] = 0.15\n",
    "cat_dict[\"Mobile & Accessories\"] = 0.15\n",
    "cat_dict[\"Hobby & Collection\"] = 0.10\n",
    "cat_dict[\"Beauty\"] = 0.10\n",
    "cat_dict[\"Women Clothes\"] = 0.08\n",
    "cat_dict[\"Baby & Kids Fashion\"] = 0.08\n",
    "cat_dict[\"Mom & Baby\"] = 0.05\n",
    "cat_dict[\"Electronics\"] = 0.05\n",
    "cat_dict[\"Sports & Outdoor\"] = 0.04"
   ]
  },
  {
   "cell_type": "code",
   "execution_count": 45,
   "metadata": {
    "ExecuteTime": {
     "end_time": "2020-08-20T09:43:15.290000Z",
     "start_time": "2020-08-20T09:43:15.221402Z"
    }
   },
   "outputs": [
    {
     "data": {
      "text/html": [
       "<div>\n",
       "<style scoped>\n",
       "    .dataframe tbody tr th:only-of-type {\n",
       "        vertical-align: middle;\n",
       "    }\n",
       "\n",
       "    .dataframe tbody tr th {\n",
       "        vertical-align: top;\n",
       "    }\n",
       "\n",
       "    .dataframe thead th {\n",
       "        text-align: right;\n",
       "    }\n",
       "</style>\n",
       "<table border=\"1\" class=\"dataframe\">\n",
       "  <thead>\n",
       "    <tr style=\"text-align: right;\">\n",
       "      <th></th>\n",
       "      <th>shopid</th>\n",
       "      <th>itemid</th>\n",
       "      <th>main_name</th>\n",
       "      <th>product_name</th>\n",
       "      <th>product_url</th>\n",
       "      <th>translation</th>\n",
       "      <th>score</th>\n",
       "      <th>flag</th>\n",
       "      <th>preferred_shop</th>\n",
       "    </tr>\n",
       "  </thead>\n",
       "  <tbody>\n",
       "    <tr>\n",
       "      <th>0</th>\n",
       "      <td>11818526</td>\n",
       "      <td>4146670623</td>\n",
       "      <td>Beauty &amp; Care</td>\n",
       "      <td>MAX Flakes Slices Mirror Sparkly Stars Laser N...</td>\n",
       "      <td>https://shopee.co.id/a-i.11818526.4146670623</td>\n",
       "      <td>Hiasan Kuku Sequin Laser Motif Bintang Berkila...</td>\n",
       "      <td>0.465929</td>\n",
       "      <td>False</td>\n",
       "      <td>N</td>\n",
       "    </tr>\n",
       "    <tr>\n",
       "      <th>1</th>\n",
       "      <td>28079462</td>\n",
       "      <td>3946788157</td>\n",
       "      <td>Home &amp; Living</td>\n",
       "      <td>Auto Darkening Solar Welders Welding Helmet Mask</td>\n",
       "      <td>https://shopee.co.id/a-i.28079462.3946788157</td>\n",
       "      <td>Helm Pelindung Wajah Dengan Kaca Gelap Otomati...</td>\n",
       "      <td>0.497638</td>\n",
       "      <td>False</td>\n",
       "      <td>N</td>\n",
       "    </tr>\n",
       "    <tr>\n",
       "      <th>2</th>\n",
       "      <td>28079462</td>\n",
       "      <td>3746361132</td>\n",
       "      <td>Automotive</td>\n",
       "      <td>12V 24V 300db Super Loud Four/ 4 Trumpet Air H...</td>\n",
       "      <td>https://shopee.co.id/a-i.28079462.3746361132</td>\n",
       "      <td>Klakson Angin Super Keras 4/4 Terompet 12v 24v...</td>\n",
       "      <td>0.748091</td>\n",
       "      <td>False</td>\n",
       "      <td>N</td>\n",
       "    </tr>\n",
       "    <tr>\n",
       "      <th>3</th>\n",
       "      <td>28079462</td>\n",
       "      <td>3158311528</td>\n",
       "      <td>Automotive</td>\n",
       "      <td>Fleece Lined Urban Scooter Electric Bike Leg C...</td>\n",
       "      <td>https://shopee.co.id/a-i.28079462.3158311528</td>\n",
       "      <td>Manset Kaki Dengan Pelindung Lutut Bahan Fleec...</td>\n",
       "      <td>0.460026</td>\n",
       "      <td>False</td>\n",
       "      <td>N</td>\n",
       "    </tr>\n",
       "    <tr>\n",
       "      <th>4</th>\n",
       "      <td>28079462</td>\n",
       "      <td>7746472434</td>\n",
       "      <td>Automotive</td>\n",
       "      <td>Electric Pressure Washer Power Washer Cordless...</td>\n",
       "      <td>https://shopee.co.id/a-i.28079462.7746472434</td>\n",
       "      <td>Mesin Pencuci Mobil Elektrik Portable Tanpa Ka...</td>\n",
       "      <td>0.482208</td>\n",
       "      <td>False</td>\n",
       "      <td>N</td>\n",
       "    </tr>\n",
       "    <tr>\n",
       "      <th>...</th>\n",
       "      <td>...</td>\n",
       "      <td>...</td>\n",
       "      <td>...</td>\n",
       "      <td>...</td>\n",
       "      <td>...</td>\n",
       "      <td>...</td>\n",
       "      <td>...</td>\n",
       "      <td>...</td>\n",
       "      <td>...</td>\n",
       "    </tr>\n",
       "    <tr>\n",
       "      <th>40829</th>\n",
       "      <td>263774352</td>\n",
       "      <td>6946186074</td>\n",
       "      <td>Home &amp; Living</td>\n",
       "      <td>Health Care Bed Sores Pregnancy Sciatica Offic...</td>\n",
       "      <td>https://shopee.co.id/a-i.263774352.6946186074</td>\n",
       "      <td>Bantal Duduk Bahan Memory Foam Untuk Pereda Sa...</td>\n",
       "      <td>0.460216</td>\n",
       "      <td>False</td>\n",
       "      <td>N</td>\n",
       "    </tr>\n",
       "    <tr>\n",
       "      <th>40830</th>\n",
       "      <td>263774352</td>\n",
       "      <td>5146615010</td>\n",
       "      <td>Home &amp; Living</td>\n",
       "      <td>Home Adjustable Flower Window Garden Watering ...</td>\n",
       "      <td>https://shopee.co.id/a-i.263774352.5146615010</td>\n",
       "      <td>Nozzle Selang Air Adjustable Untuk Jendela/Tam...</td>\n",
       "      <td>0.497555</td>\n",
       "      <td>False</td>\n",
       "      <td>N</td>\n",
       "    </tr>\n",
       "    <tr>\n",
       "      <th>40831</th>\n",
       "      <td>263774352</td>\n",
       "      <td>5746988151</td>\n",
       "      <td>Home &amp; Living</td>\n",
       "      <td>Equipment Gift Home Outdoor Spur Wire Embedder</td>\n",
       "      <td>https://shopee.co.id/a-i.263774352.5746988151</td>\n",
       "      <td>Spurder Bahan Stainless Steel Untuk Rumah\\n</td>\n",
       "      <td>0.442754</td>\n",
       "      <td>False</td>\n",
       "      <td>N</td>\n",
       "    </tr>\n",
       "    <tr>\n",
       "      <th>40832</th>\n",
       "      <td>263774352</td>\n",
       "      <td>5946160838</td>\n",
       "      <td>Home &amp; Living</td>\n",
       "      <td>Home Transparent Storage Sealed Compression Fo...</td>\n",
       "      <td>https://shopee.co.id/a-i.263774352.5946160838</td>\n",
       "      <td>Tas Penyimpanan Pakaian Model Gantung Dengan S...</td>\n",
       "      <td>0.462040</td>\n",
       "      <td>False</td>\n",
       "      <td>N</td>\n",
       "    </tr>\n",
       "    <tr>\n",
       "      <th>40833</th>\n",
       "      <td>263774352</td>\n",
       "      <td>6046160884</td>\n",
       "      <td>Home &amp; Living</td>\n",
       "      <td>Halloween Cosplay Horrific Roll Play</td>\n",
       "      <td>https://shopee.co.id/a-i.263774352.6046160884</td>\n",
       "      <td>Roll Seram Untuk Cosplay Halloween\\n</td>\n",
       "      <td>0.493541</td>\n",
       "      <td>False</td>\n",
       "      <td>N</td>\n",
       "    </tr>\n",
       "  </tbody>\n",
       "</table>\n",
       "<p>40834 rows × 9 columns</p>\n",
       "</div>"
      ],
      "text/plain": [
       "          shopid      itemid      main_name  \\\n",
       "0       11818526  4146670623  Beauty & Care   \n",
       "1       28079462  3946788157  Home & Living   \n",
       "2       28079462  3746361132     Automotive   \n",
       "3       28079462  3158311528     Automotive   \n",
       "4       28079462  7746472434     Automotive   \n",
       "...          ...         ...            ...   \n",
       "40829  263774352  6946186074  Home & Living   \n",
       "40830  263774352  5146615010  Home & Living   \n",
       "40831  263774352  5746988151  Home & Living   \n",
       "40832  263774352  5946160838  Home & Living   \n",
       "40833  263774352  6046160884  Home & Living   \n",
       "\n",
       "                                            product_name  \\\n",
       "0      MAX Flakes Slices Mirror Sparkly Stars Laser N...   \n",
       "1       Auto Darkening Solar Welders Welding Helmet Mask   \n",
       "2      12V 24V 300db Super Loud Four/ 4 Trumpet Air H...   \n",
       "3      Fleece Lined Urban Scooter Electric Bike Leg C...   \n",
       "4      Electric Pressure Washer Power Washer Cordless...   \n",
       "...                                                  ...   \n",
       "40829  Health Care Bed Sores Pregnancy Sciatica Offic...   \n",
       "40830  Home Adjustable Flower Window Garden Watering ...   \n",
       "40831     Equipment Gift Home Outdoor Spur Wire Embedder   \n",
       "40832  Home Transparent Storage Sealed Compression Fo...   \n",
       "40833               Halloween Cosplay Horrific Roll Play   \n",
       "\n",
       "                                         product_url  \\\n",
       "0       https://shopee.co.id/a-i.11818526.4146670623   \n",
       "1       https://shopee.co.id/a-i.28079462.3946788157   \n",
       "2       https://shopee.co.id/a-i.28079462.3746361132   \n",
       "3       https://shopee.co.id/a-i.28079462.3158311528   \n",
       "4       https://shopee.co.id/a-i.28079462.7746472434   \n",
       "...                                              ...   \n",
       "40829  https://shopee.co.id/a-i.263774352.6946186074   \n",
       "40830  https://shopee.co.id/a-i.263774352.5146615010   \n",
       "40831  https://shopee.co.id/a-i.263774352.5746988151   \n",
       "40832  https://shopee.co.id/a-i.263774352.5946160838   \n",
       "40833  https://shopee.co.id/a-i.263774352.6046160884   \n",
       "\n",
       "                                             translation     score   flag  \\\n",
       "0      Hiasan Kuku Sequin Laser Motif Bintang Berkila...  0.465929  False   \n",
       "1      Helm Pelindung Wajah Dengan Kaca Gelap Otomati...  0.497638  False   \n",
       "2      Klakson Angin Super Keras 4/4 Terompet 12v 24v...  0.748091  False   \n",
       "3      Manset Kaki Dengan Pelindung Lutut Bahan Fleec...  0.460026  False   \n",
       "4      Mesin Pencuci Mobil Elektrik Portable Tanpa Ka...  0.482208  False   \n",
       "...                                                  ...       ...    ...   \n",
       "40829  Bantal Duduk Bahan Memory Foam Untuk Pereda Sa...  0.460216  False   \n",
       "40830  Nozzle Selang Air Adjustable Untuk Jendela/Tam...  0.497555  False   \n",
       "40831        Spurder Bahan Stainless Steel Untuk Rumah\\n  0.442754  False   \n",
       "40832  Tas Penyimpanan Pakaian Model Gantung Dengan S...  0.462040  False   \n",
       "40833               Roll Seram Untuk Cosplay Halloween\\n  0.493541  False   \n",
       "\n",
       "      preferred_shop  \n",
       "0                  N  \n",
       "1                  N  \n",
       "2                  N  \n",
       "3                  N  \n",
       "4                  N  \n",
       "...              ...  \n",
       "40829              N  \n",
       "40830              N  \n",
       "40831              N  \n",
       "40832              N  \n",
       "40833              N  \n",
       "\n",
       "[40834 rows x 9 columns]"
      ]
     },
     "execution_count": 45,
     "metadata": {},
     "output_type": "execute_result"
    }
   ],
   "source": [
    "raw_df['preferred_shop'] = raw_df['shopid'].apply(lambda x: \"Y\" if x in preferredShops else \"N\")\n",
    "raw_df"
   ]
  },
  {
   "cell_type": "code",
   "execution_count": 50,
   "metadata": {
    "ExecuteTime": {
     "end_time": "2020-08-20T09:59:04.302155Z",
     "start_time": "2020-08-20T09:59:04.286347Z"
    }
   },
   "outputs": [],
   "source": [
    "prefer_df = raw_df[raw_df['preferred_shop'] == \"Y\"]\n",
    "remain_df = raw_df[raw_df['preferred_shop'] != \"Y\"]\n",
    "\n",
    "preferredNum = prefer_df.shape[0]\n",
    "nonPreferredNum = remain_df.shape[0]"
   ]
  },
  {
   "cell_type": "code",
   "execution_count": 51,
   "metadata": {
    "ExecuteTime": {
     "end_time": "2020-08-20T09:59:12.817602Z",
     "start_time": "2020-08-20T09:59:12.813778Z"
    }
   },
   "outputs": [
    {
     "data": {
      "text/plain": [
       "35000"
      ]
     },
     "execution_count": 51,
     "metadata": {},
     "output_type": "execute_result"
    }
   ],
   "source": [
    "remainNum = sampleSize - preferredNum\n",
    "remainNum"
   ]
  },
  {
   "cell_type": "code",
   "execution_count": 55,
   "metadata": {
    "ExecuteTime": {
     "end_time": "2020-08-20T11:20:49.740976Z",
     "start_time": "2020-08-20T11:20:49.735126Z"
    }
   },
   "outputs": [],
   "source": [
    "test = remain_df.sample(n = 1)"
   ]
  },
  {
   "cell_type": "code",
   "execution_count": 58,
   "metadata": {
    "ExecuteTime": {
     "end_time": "2020-08-20T11:22:32.534380Z",
     "start_time": "2020-08-20T11:22:32.363166Z"
    }
   },
   "outputs": [
    {
     "data": {
      "text/html": [
       "<div>\n",
       "<style scoped>\n",
       "    .dataframe tbody tr th:only-of-type {\n",
       "        vertical-align: middle;\n",
       "    }\n",
       "\n",
       "    .dataframe tbody tr th {\n",
       "        vertical-align: top;\n",
       "    }\n",
       "\n",
       "    .dataframe thead th {\n",
       "        text-align: right;\n",
       "    }\n",
       "</style>\n",
       "<table border=\"1\" class=\"dataframe\">\n",
       "  <thead>\n",
       "    <tr style=\"text-align: right;\">\n",
       "      <th></th>\n",
       "      <th>shopid</th>\n",
       "      <th>itemid</th>\n",
       "      <th>main_name</th>\n",
       "      <th>product_name</th>\n",
       "      <th>product_url</th>\n",
       "      <th>translation</th>\n",
       "      <th>score</th>\n",
       "      <th>flag</th>\n",
       "      <th>preferred_shop</th>\n",
       "      <th>_merge</th>\n",
       "    </tr>\n",
       "  </thead>\n",
       "  <tbody>\n",
       "    <tr>\n",
       "      <th>0</th>\n",
       "      <td>11818526</td>\n",
       "      <td>4146670623</td>\n",
       "      <td>Beauty &amp; Care</td>\n",
       "      <td>MAX Flakes Slices Mirror Sparkly Stars Laser N...</td>\n",
       "      <td>https://shopee.co.id/a-i.11818526.4146670623</td>\n",
       "      <td>Hiasan Kuku Sequin Laser Motif Bintang Berkila...</td>\n",
       "      <td>0.465929</td>\n",
       "      <td>False</td>\n",
       "      <td>N</td>\n",
       "      <td>left_only</td>\n",
       "    </tr>\n",
       "    <tr>\n",
       "      <th>1</th>\n",
       "      <td>28079462</td>\n",
       "      <td>3946788157</td>\n",
       "      <td>Home &amp; Living</td>\n",
       "      <td>Auto Darkening Solar Welders Welding Helmet Mask</td>\n",
       "      <td>https://shopee.co.id/a-i.28079462.3946788157</td>\n",
       "      <td>Helm Pelindung Wajah Dengan Kaca Gelap Otomati...</td>\n",
       "      <td>0.497638</td>\n",
       "      <td>False</td>\n",
       "      <td>N</td>\n",
       "      <td>left_only</td>\n",
       "    </tr>\n",
       "    <tr>\n",
       "      <th>2</th>\n",
       "      <td>28079462</td>\n",
       "      <td>3746361132</td>\n",
       "      <td>Automotive</td>\n",
       "      <td>12V 24V 300db Super Loud Four/ 4 Trumpet Air H...</td>\n",
       "      <td>https://shopee.co.id/a-i.28079462.3746361132</td>\n",
       "      <td>Klakson Angin Super Keras 4/4 Terompet 12v 24v...</td>\n",
       "      <td>0.748091</td>\n",
       "      <td>False</td>\n",
       "      <td>N</td>\n",
       "      <td>left_only</td>\n",
       "    </tr>\n",
       "    <tr>\n",
       "      <th>3</th>\n",
       "      <td>28079462</td>\n",
       "      <td>3158311528</td>\n",
       "      <td>Automotive</td>\n",
       "      <td>Fleece Lined Urban Scooter Electric Bike Leg C...</td>\n",
       "      <td>https://shopee.co.id/a-i.28079462.3158311528</td>\n",
       "      <td>Manset Kaki Dengan Pelindung Lutut Bahan Fleec...</td>\n",
       "      <td>0.460026</td>\n",
       "      <td>False</td>\n",
       "      <td>N</td>\n",
       "      <td>left_only</td>\n",
       "    </tr>\n",
       "    <tr>\n",
       "      <th>4</th>\n",
       "      <td>28079462</td>\n",
       "      <td>7746472434</td>\n",
       "      <td>Automotive</td>\n",
       "      <td>Electric Pressure Washer Power Washer Cordless...</td>\n",
       "      <td>https://shopee.co.id/a-i.28079462.7746472434</td>\n",
       "      <td>Mesin Pencuci Mobil Elektrik Portable Tanpa Ka...</td>\n",
       "      <td>0.482208</td>\n",
       "      <td>False</td>\n",
       "      <td>N</td>\n",
       "      <td>left_only</td>\n",
       "    </tr>\n",
       "    <tr>\n",
       "      <th>...</th>\n",
       "      <td>...</td>\n",
       "      <td>...</td>\n",
       "      <td>...</td>\n",
       "      <td>...</td>\n",
       "      <td>...</td>\n",
       "      <td>...</td>\n",
       "      <td>...</td>\n",
       "      <td>...</td>\n",
       "      <td>...</td>\n",
       "      <td>...</td>\n",
       "    </tr>\n",
       "    <tr>\n",
       "      <th>40650</th>\n",
       "      <td>263774352</td>\n",
       "      <td>6946186074</td>\n",
       "      <td>Home &amp; Living</td>\n",
       "      <td>Health Care Bed Sores Pregnancy Sciatica Offic...</td>\n",
       "      <td>https://shopee.co.id/a-i.263774352.6946186074</td>\n",
       "      <td>Bantal Duduk Bahan Memory Foam Untuk Pereda Sa...</td>\n",
       "      <td>0.460216</td>\n",
       "      <td>False</td>\n",
       "      <td>N</td>\n",
       "      <td>left_only</td>\n",
       "    </tr>\n",
       "    <tr>\n",
       "      <th>40651</th>\n",
       "      <td>263774352</td>\n",
       "      <td>5146615010</td>\n",
       "      <td>Home &amp; Living</td>\n",
       "      <td>Home Adjustable Flower Window Garden Watering ...</td>\n",
       "      <td>https://shopee.co.id/a-i.263774352.5146615010</td>\n",
       "      <td>Nozzle Selang Air Adjustable Untuk Jendela/Tam...</td>\n",
       "      <td>0.497555</td>\n",
       "      <td>False</td>\n",
       "      <td>N</td>\n",
       "      <td>left_only</td>\n",
       "    </tr>\n",
       "    <tr>\n",
       "      <th>40652</th>\n",
       "      <td>263774352</td>\n",
       "      <td>5746988151</td>\n",
       "      <td>Home &amp; Living</td>\n",
       "      <td>Equipment Gift Home Outdoor Spur Wire Embedder</td>\n",
       "      <td>https://shopee.co.id/a-i.263774352.5746988151</td>\n",
       "      <td>Spurder Bahan Stainless Steel Untuk Rumah\\n</td>\n",
       "      <td>0.442754</td>\n",
       "      <td>False</td>\n",
       "      <td>N</td>\n",
       "      <td>left_only</td>\n",
       "    </tr>\n",
       "    <tr>\n",
       "      <th>40653</th>\n",
       "      <td>263774352</td>\n",
       "      <td>5946160838</td>\n",
       "      <td>Home &amp; Living</td>\n",
       "      <td>Home Transparent Storage Sealed Compression Fo...</td>\n",
       "      <td>https://shopee.co.id/a-i.263774352.5946160838</td>\n",
       "      <td>Tas Penyimpanan Pakaian Model Gantung Dengan S...</td>\n",
       "      <td>0.462040</td>\n",
       "      <td>False</td>\n",
       "      <td>N</td>\n",
       "      <td>left_only</td>\n",
       "    </tr>\n",
       "    <tr>\n",
       "      <th>40654</th>\n",
       "      <td>263774352</td>\n",
       "      <td>6046160884</td>\n",
       "      <td>Home &amp; Living</td>\n",
       "      <td>Halloween Cosplay Horrific Roll Play</td>\n",
       "      <td>https://shopee.co.id/a-i.263774352.6046160884</td>\n",
       "      <td>Roll Seram Untuk Cosplay Halloween\\n</td>\n",
       "      <td>0.493541</td>\n",
       "      <td>False</td>\n",
       "      <td>N</td>\n",
       "      <td>left_only</td>\n",
       "    </tr>\n",
       "  </tbody>\n",
       "</table>\n",
       "<p>40655 rows × 10 columns</p>\n",
       "</div>"
      ],
      "text/plain": [
       "          shopid      itemid      main_name  \\\n",
       "0       11818526  4146670623  Beauty & Care   \n",
       "1       28079462  3946788157  Home & Living   \n",
       "2       28079462  3746361132     Automotive   \n",
       "3       28079462  3158311528     Automotive   \n",
       "4       28079462  7746472434     Automotive   \n",
       "...          ...         ...            ...   \n",
       "40650  263774352  6946186074  Home & Living   \n",
       "40651  263774352  5146615010  Home & Living   \n",
       "40652  263774352  5746988151  Home & Living   \n",
       "40653  263774352  5946160838  Home & Living   \n",
       "40654  263774352  6046160884  Home & Living   \n",
       "\n",
       "                                            product_name  \\\n",
       "0      MAX Flakes Slices Mirror Sparkly Stars Laser N...   \n",
       "1       Auto Darkening Solar Welders Welding Helmet Mask   \n",
       "2      12V 24V 300db Super Loud Four/ 4 Trumpet Air H...   \n",
       "3      Fleece Lined Urban Scooter Electric Bike Leg C...   \n",
       "4      Electric Pressure Washer Power Washer Cordless...   \n",
       "...                                                  ...   \n",
       "40650  Health Care Bed Sores Pregnancy Sciatica Offic...   \n",
       "40651  Home Adjustable Flower Window Garden Watering ...   \n",
       "40652     Equipment Gift Home Outdoor Spur Wire Embedder   \n",
       "40653  Home Transparent Storage Sealed Compression Fo...   \n",
       "40654               Halloween Cosplay Horrific Roll Play   \n",
       "\n",
       "                                         product_url  \\\n",
       "0       https://shopee.co.id/a-i.11818526.4146670623   \n",
       "1       https://shopee.co.id/a-i.28079462.3946788157   \n",
       "2       https://shopee.co.id/a-i.28079462.3746361132   \n",
       "3       https://shopee.co.id/a-i.28079462.3158311528   \n",
       "4       https://shopee.co.id/a-i.28079462.7746472434   \n",
       "...                                              ...   \n",
       "40650  https://shopee.co.id/a-i.263774352.6946186074   \n",
       "40651  https://shopee.co.id/a-i.263774352.5146615010   \n",
       "40652  https://shopee.co.id/a-i.263774352.5746988151   \n",
       "40653  https://shopee.co.id/a-i.263774352.5946160838   \n",
       "40654  https://shopee.co.id/a-i.263774352.6046160884   \n",
       "\n",
       "                                             translation     score   flag  \\\n",
       "0      Hiasan Kuku Sequin Laser Motif Bintang Berkila...  0.465929  False   \n",
       "1      Helm Pelindung Wajah Dengan Kaca Gelap Otomati...  0.497638  False   \n",
       "2      Klakson Angin Super Keras 4/4 Terompet 12v 24v...  0.748091  False   \n",
       "3      Manset Kaki Dengan Pelindung Lutut Bahan Fleec...  0.460026  False   \n",
       "4      Mesin Pencuci Mobil Elektrik Portable Tanpa Ka...  0.482208  False   \n",
       "...                                                  ...       ...    ...   \n",
       "40650  Bantal Duduk Bahan Memory Foam Untuk Pereda Sa...  0.460216  False   \n",
       "40651  Nozzle Selang Air Adjustable Untuk Jendela/Tam...  0.497555  False   \n",
       "40652        Spurder Bahan Stainless Steel Untuk Rumah\\n  0.442754  False   \n",
       "40653  Tas Penyimpanan Pakaian Model Gantung Dengan S...  0.462040  False   \n",
       "40654               Roll Seram Untuk Cosplay Halloween\\n  0.493541  False   \n",
       "\n",
       "      preferred_shop     _merge  \n",
       "0                  N  left_only  \n",
       "1                  N  left_only  \n",
       "2                  N  left_only  \n",
       "3                  N  left_only  \n",
       "4                  N  left_only  \n",
       "...              ...        ...  \n",
       "40650              N  left_only  \n",
       "40651              N  left_only  \n",
       "40652              N  left_only  \n",
       "40653              N  left_only  \n",
       "40654              N  left_only  \n",
       "\n",
       "[40655 rows x 10 columns]"
      ]
     },
     "execution_count": 58,
     "metadata": {},
     "output_type": "execute_result"
    }
   ],
   "source": [
    "pd.merge(remain_df, test, how = 'left', indicator = True)"
   ]
  },
  {
   "cell_type": "code",
   "execution_count": null,
   "metadata": {},
   "outputs": [],
   "source": []
  }
 ],
 "metadata": {
  "kernelspec": {
   "display_name": "Python 3",
   "language": "python",
   "name": "python3"
  },
  "language_info": {
   "codemirror_mode": {
    "name": "ipython",
    "version": 3
   },
   "file_extension": ".py",
   "mimetype": "text/x-python",
   "name": "python",
   "nbconvert_exporter": "python",
   "pygments_lexer": "ipython3",
   "version": "3.7.6"
  },
  "toc": {
   "base_numbering": 1,
   "nav_menu": {},
   "number_sections": true,
   "sideBar": true,
   "skip_h1_title": true,
   "title_cell": "Table of Contents",
   "title_sidebar": "Contents",
   "toc_cell": true,
   "toc_position": {},
   "toc_section_display": true,
   "toc_window_display": true
  },
  "varInspector": {
   "cols": {
    "lenName": 16,
    "lenType": 16,
    "lenVar": 40
   },
   "kernels_config": {
    "python": {
     "delete_cmd_postfix": "",
     "delete_cmd_prefix": "del ",
     "library": "var_list.py",
     "varRefreshCmd": "print(var_dic_list())"
    },
    "r": {
     "delete_cmd_postfix": ") ",
     "delete_cmd_prefix": "rm(",
     "library": "var_list.r",
     "varRefreshCmd": "cat(var_dic_list()) "
    }
   },
   "types_to_exclude": [
    "module",
    "function",
    "builtin_function_or_method",
    "instance",
    "_Feature"
   ],
   "window_display": false
  }
 },
 "nbformat": 4,
 "nbformat_minor": 4
}
